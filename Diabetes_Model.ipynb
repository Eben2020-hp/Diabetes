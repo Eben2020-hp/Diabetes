{
 "metadata": {
  "language_info": {
   "codemirror_mode": {
    "name": "ipython",
    "version": 3
   },
   "file_extension": ".py",
   "mimetype": "text/x-python",
   "name": "python",
   "nbconvert_exporter": "python",
   "pygments_lexer": "ipython3",
   "version": "3.8.5-final"
  },
  "orig_nbformat": 2,
  "kernelspec": {
   "name": "python3",
   "display_name": "Python 3",
   "language": "python"
  }
 },
 "nbformat": 4,
 "nbformat_minor": 2,
 "cells": [
  {
   "source": [
    "<h1 align='center'> Impact of HbA1c Measurement on Hospital Readmission Rates </h1>\n",
    "<h4 align='center'> Analysis of 70,000 Clinical Database Patient Records </h4> "
   ],
   "cell_type": "markdown",
   "metadata": {}
  },
  {
   "source": [
    "## 0. Import relevant Dependencies\n",
    "\n",
    "Incase you are getting any error saying the package is not installed while running the below cell, then you can use two methods:\n",
    "- pip install ________.\n",
    "- google 'How to install ________'."
   ],
   "cell_type": "markdown",
   "metadata": {}
  },
  {
   "cell_type": "code",
   "execution_count": 1,
   "metadata": {},
   "outputs": [],
   "source": [
    "# Import Dependencies -To see the graphs in the notebook.\n",
    "%matplotlib inline   \n",
    "\n",
    "# Python Imports\n",
    "import math,time,random,datetime\n",
    "\n",
    "# Data Manipulation\n",
    "import numpy as np\n",
    "import pandas as pd\n",
    "\n",
    "# Visualization -This is where the graphs come in.\n",
    "import matplotlib.pyplot as plt\n",
    "import seaborn as sns\n",
    "import missingno\n",
    "plt.style.use('fivethirtyeight')\n",
    "\n",
    "# Preprocessing\n",
    "from sklearn.feature_selection import RFE, RFECV\n",
    "from sklearn.decomposition import PCA\n",
    "from sklearn.preprocessing import OneHotEncoder, LabelEncoder, label_binarize\n",
    "\n",
    "# Machine Learning\n",
    "import catboost\n",
    "from sklearn.model_selection import train_test_split\n",
    "from sklearn import model_selection, tree, preprocessing, metrics, linear_model\n",
    "from sklearn.svm import LinearSVC\n",
    "from sklearn.ensemble import GradientBoostingClassifier, RandomForestClassifier\n",
    "from sklearn.neighbors import KNeighborsClassifier\n",
    "from sklearn.naive_bayes import GaussianNB\n",
    "from sklearn.linear_model import LinearRegression, LogisticRegression, SGDClassifier\n",
    "from sklearn.tree import DecisionTreeClassifier\n",
    "from catboost import CatBoostClassifier, Pool, cv\n",
    "\n",
    "# Grid and Random Search\n",
    "import scipy.stats as st\n",
    "from scipy.stats import randint as sp_randint\n",
    "from sklearn.model_selection import GridSearchCV\n",
    "from sklearn.model_selection import RandomizedSearchCV\n",
    "\n",
    "# Metrics\n",
    "from sklearn.metrics import precision_recall_fscore_support, roc_curve, auc\n",
    "\n",
    "# Ignore Warnings\n",
    "import warnings\n",
    "warnings.filterwarnings('ignore')"
   ]
  },
  {
   "source": [
    "## 1. Objective\n",
    "\n",
    "In this Jupyter Notepad, we will using the 130-US hospitals Dataset to predict whether an individual will be readmitted based on the diabetes data.\n",
    "\n",
    "The dataset can be found here: https://archive.ics.uci.edu/ml/datasets/Diabetes+130-US+hospitals+for+years+1999-2008\n",
    "\n",
    "Also this is the article which gave a detailed explanation: https://www.hindawi.com/journals/bmri/2014/781670/"
   ],
   "cell_type": "markdown",
   "metadata": {}
  },
  {
   "source": [
    "## 2. Loading the required Data\n",
    "\n",
    "> We have previously converted our diabetes dataset into the .csv format and kept it in the folder called \"MODEL DATA\""
   ],
   "cell_type": "markdown",
   "metadata": {}
  },
  {
   "cell_type": "code",
   "execution_count": 2,
   "metadata": {},
   "outputs": [],
   "source": [
    "# Import the dataset for our model.\n",
    "df = pd.read_csv('MODEL DATA/EDA_diabetes.csv')"
   ]
  },
  {
   "cell_type": "code",
   "execution_count": 3,
   "metadata": {},
   "outputs": [
    {
     "output_type": "execute_result",
     "data": {
      "text/plain": [
       "  Readmitted         Pmo             Race  Sex      Age  Admission_ID  \\\n",
       "0          Y  55629189.0        Caucasian    1  [10-20)             1   \n",
       "1          N  86047875.0  AfricanAmerican    1  [20-30)             1   \n",
       "2          N  82442376.0        Caucasian    0  [30-40)             1   \n",
       "3          N  42519267.0        Caucasian    0  [40-50)             1   \n",
       "4          Y  82637451.0        Caucasian    0  [50-60)             2   \n",
       "\n",
       "   Discharged_ID Time_in_Hospital  Procedures  Medications  Diagnosis  \\\n",
       "0              1     (0.987, 3.6]          59           18      250.0   \n",
       "1              1     (0.987, 3.6]          11           13      250.0   \n",
       "2              1     (0.987, 3.6]          44           16      250.0   \n",
       "3              1     (0.987, 3.6]          51            8      250.0   \n",
       "4              1     (0.987, 3.6]          31           16      250.0   \n",
       "\n",
       "  Glu_result A1C_result  Change  Diabetes_Med metformin repaglinide  \\\n",
       "0       None       None       1             1        No          No   \n",
       "1       None       None       0             1        No          No   \n",
       "2       None       None       1             1        No          No   \n",
       "3       None       None       1             1        No          No   \n",
       "4       None       None       0             1        No          No   \n",
       "\n",
       "  nateglinide glimepiride glyburide pioglitazone rosiglitazone miglitol  \\\n",
       "0          No          No        No           No            No       No   \n",
       "1          No          No        No           No            No       No   \n",
       "2          No          No        No           No            No       No   \n",
       "3          No          No        No           No            No       No   \n",
       "4          No          No        No           No            No       No   \n",
       "\n",
       "  insulin glyburide-metformin glipizide-metformin metformin-pioglitazone  \n",
       "0      Up                  No                  No                     No  \n",
       "1      No                  No                  No                     No  \n",
       "2      Up                  No                  No                     No  \n",
       "3  Steady                  No                  No                     No  \n",
       "4  Steady                  No                  No                     No  "
      ],
      "text/html": "<div>\n<style scoped>\n    .dataframe tbody tr th:only-of-type {\n        vertical-align: middle;\n    }\n\n    .dataframe tbody tr th {\n        vertical-align: top;\n    }\n\n    .dataframe thead th {\n        text-align: right;\n    }\n</style>\n<table border=\"1\" class=\"dataframe\">\n  <thead>\n    <tr style=\"text-align: right;\">\n      <th></th>\n      <th>Readmitted</th>\n      <th>Pmo</th>\n      <th>Race</th>\n      <th>Sex</th>\n      <th>Age</th>\n      <th>Admission_ID</th>\n      <th>Discharged_ID</th>\n      <th>Time_in_Hospital</th>\n      <th>Procedures</th>\n      <th>Medications</th>\n      <th>Diagnosis</th>\n      <th>Glu_result</th>\n      <th>A1C_result</th>\n      <th>Change</th>\n      <th>Diabetes_Med</th>\n      <th>metformin</th>\n      <th>repaglinide</th>\n      <th>nateglinide</th>\n      <th>glimepiride</th>\n      <th>glyburide</th>\n      <th>pioglitazone</th>\n      <th>rosiglitazone</th>\n      <th>miglitol</th>\n      <th>insulin</th>\n      <th>glyburide-metformin</th>\n      <th>glipizide-metformin</th>\n      <th>metformin-pioglitazone</th>\n    </tr>\n  </thead>\n  <tbody>\n    <tr>\n      <th>0</th>\n      <td>Y</td>\n      <td>55629189.0</td>\n      <td>Caucasian</td>\n      <td>1</td>\n      <td>[10-20)</td>\n      <td>1</td>\n      <td>1</td>\n      <td>(0.987, 3.6]</td>\n      <td>59</td>\n      <td>18</td>\n      <td>250.0</td>\n      <td>None</td>\n      <td>None</td>\n      <td>1</td>\n      <td>1</td>\n      <td>No</td>\n      <td>No</td>\n      <td>No</td>\n      <td>No</td>\n      <td>No</td>\n      <td>No</td>\n      <td>No</td>\n      <td>No</td>\n      <td>Up</td>\n      <td>No</td>\n      <td>No</td>\n      <td>No</td>\n    </tr>\n    <tr>\n      <th>1</th>\n      <td>N</td>\n      <td>86047875.0</td>\n      <td>AfricanAmerican</td>\n      <td>1</td>\n      <td>[20-30)</td>\n      <td>1</td>\n      <td>1</td>\n      <td>(0.987, 3.6]</td>\n      <td>11</td>\n      <td>13</td>\n      <td>250.0</td>\n      <td>None</td>\n      <td>None</td>\n      <td>0</td>\n      <td>1</td>\n      <td>No</td>\n      <td>No</td>\n      <td>No</td>\n      <td>No</td>\n      <td>No</td>\n      <td>No</td>\n      <td>No</td>\n      <td>No</td>\n      <td>No</td>\n      <td>No</td>\n      <td>No</td>\n      <td>No</td>\n    </tr>\n    <tr>\n      <th>2</th>\n      <td>N</td>\n      <td>82442376.0</td>\n      <td>Caucasian</td>\n      <td>0</td>\n      <td>[30-40)</td>\n      <td>1</td>\n      <td>1</td>\n      <td>(0.987, 3.6]</td>\n      <td>44</td>\n      <td>16</td>\n      <td>250.0</td>\n      <td>None</td>\n      <td>None</td>\n      <td>1</td>\n      <td>1</td>\n      <td>No</td>\n      <td>No</td>\n      <td>No</td>\n      <td>No</td>\n      <td>No</td>\n      <td>No</td>\n      <td>No</td>\n      <td>No</td>\n      <td>Up</td>\n      <td>No</td>\n      <td>No</td>\n      <td>No</td>\n    </tr>\n    <tr>\n      <th>3</th>\n      <td>N</td>\n      <td>42519267.0</td>\n      <td>Caucasian</td>\n      <td>0</td>\n      <td>[40-50)</td>\n      <td>1</td>\n      <td>1</td>\n      <td>(0.987, 3.6]</td>\n      <td>51</td>\n      <td>8</td>\n      <td>250.0</td>\n      <td>None</td>\n      <td>None</td>\n      <td>1</td>\n      <td>1</td>\n      <td>No</td>\n      <td>No</td>\n      <td>No</td>\n      <td>No</td>\n      <td>No</td>\n      <td>No</td>\n      <td>No</td>\n      <td>No</td>\n      <td>Steady</td>\n      <td>No</td>\n      <td>No</td>\n      <td>No</td>\n    </tr>\n    <tr>\n      <th>4</th>\n      <td>Y</td>\n      <td>82637451.0</td>\n      <td>Caucasian</td>\n      <td>0</td>\n      <td>[50-60)</td>\n      <td>2</td>\n      <td>1</td>\n      <td>(0.987, 3.6]</td>\n      <td>31</td>\n      <td>16</td>\n      <td>250.0</td>\n      <td>None</td>\n      <td>None</td>\n      <td>0</td>\n      <td>1</td>\n      <td>No</td>\n      <td>No</td>\n      <td>No</td>\n      <td>No</td>\n      <td>No</td>\n      <td>No</td>\n      <td>No</td>\n      <td>No</td>\n      <td>Steady</td>\n      <td>No</td>\n      <td>No</td>\n      <td>No</td>\n    </tr>\n  </tbody>\n</table>\n</div>"
     },
     "metadata": {},
     "execution_count": 3
    }
   ],
   "source": [
    "# Viewing the dataset\n",
    "pd.set_option('display.max_columns', None)\n",
    "df.head()"
   ]
  },
  {
   "cell_type": "code",
   "execution_count": 4,
   "metadata": {},
   "outputs": [
    {
     "output_type": "execute_result",
     "data": {
      "text/plain": [
       "  Readmitted         Pmo             Race  Sex      Age Time_in_Hospital  \\\n",
       "0          Y  55629189.0        Caucasian    1  [10-20)     (0.987, 3.6]   \n",
       "1          N  86047875.0  AfricanAmerican    1  [20-30)     (0.987, 3.6]   \n",
       "2          N  82442376.0        Caucasian    0  [30-40)     (0.987, 3.6]   \n",
       "\n",
       "   Procedures  Medications Glu_result A1C_result  Change  Diabetes_Med  \\\n",
       "0          59           18       None       None       1             1   \n",
       "1          11           13       None       None       0             1   \n",
       "2          44           16       None       None       1             1   \n",
       "\n",
       "  metformin repaglinide nateglinide glimepiride glyburide pioglitazone  \\\n",
       "0        No          No          No          No        No           No   \n",
       "1        No          No          No          No        No           No   \n",
       "2        No          No          No          No        No           No   \n",
       "\n",
       "  rosiglitazone miglitol insulin glyburide-metformin glipizide-metformin  \\\n",
       "0            No       No      Up                  No                  No   \n",
       "1            No       No      No                  No                  No   \n",
       "2            No       No      Up                  No                  No   \n",
       "\n",
       "  metformin-pioglitazone  \n",
       "0                     No  \n",
       "1                     No  \n",
       "2                     No  "
      ],
      "text/html": "<div>\n<style scoped>\n    .dataframe tbody tr th:only-of-type {\n        vertical-align: middle;\n    }\n\n    .dataframe tbody tr th {\n        vertical-align: top;\n    }\n\n    .dataframe thead th {\n        text-align: right;\n    }\n</style>\n<table border=\"1\" class=\"dataframe\">\n  <thead>\n    <tr style=\"text-align: right;\">\n      <th></th>\n      <th>Readmitted</th>\n      <th>Pmo</th>\n      <th>Race</th>\n      <th>Sex</th>\n      <th>Age</th>\n      <th>Time_in_Hospital</th>\n      <th>Procedures</th>\n      <th>Medications</th>\n      <th>Glu_result</th>\n      <th>A1C_result</th>\n      <th>Change</th>\n      <th>Diabetes_Med</th>\n      <th>metformin</th>\n      <th>repaglinide</th>\n      <th>nateglinide</th>\n      <th>glimepiride</th>\n      <th>glyburide</th>\n      <th>pioglitazone</th>\n      <th>rosiglitazone</th>\n      <th>miglitol</th>\n      <th>insulin</th>\n      <th>glyburide-metformin</th>\n      <th>glipizide-metformin</th>\n      <th>metformin-pioglitazone</th>\n    </tr>\n  </thead>\n  <tbody>\n    <tr>\n      <th>0</th>\n      <td>Y</td>\n      <td>55629189.0</td>\n      <td>Caucasian</td>\n      <td>1</td>\n      <td>[10-20)</td>\n      <td>(0.987, 3.6]</td>\n      <td>59</td>\n      <td>18</td>\n      <td>None</td>\n      <td>None</td>\n      <td>1</td>\n      <td>1</td>\n      <td>No</td>\n      <td>No</td>\n      <td>No</td>\n      <td>No</td>\n      <td>No</td>\n      <td>No</td>\n      <td>No</td>\n      <td>No</td>\n      <td>Up</td>\n      <td>No</td>\n      <td>No</td>\n      <td>No</td>\n    </tr>\n    <tr>\n      <th>1</th>\n      <td>N</td>\n      <td>86047875.0</td>\n      <td>AfricanAmerican</td>\n      <td>1</td>\n      <td>[20-30)</td>\n      <td>(0.987, 3.6]</td>\n      <td>11</td>\n      <td>13</td>\n      <td>None</td>\n      <td>None</td>\n      <td>0</td>\n      <td>1</td>\n      <td>No</td>\n      <td>No</td>\n      <td>No</td>\n      <td>No</td>\n      <td>No</td>\n      <td>No</td>\n      <td>No</td>\n      <td>No</td>\n      <td>No</td>\n      <td>No</td>\n      <td>No</td>\n      <td>No</td>\n    </tr>\n    <tr>\n      <th>2</th>\n      <td>N</td>\n      <td>82442376.0</td>\n      <td>Caucasian</td>\n      <td>0</td>\n      <td>[30-40)</td>\n      <td>(0.987, 3.6]</td>\n      <td>44</td>\n      <td>16</td>\n      <td>None</td>\n      <td>None</td>\n      <td>1</td>\n      <td>1</td>\n      <td>No</td>\n      <td>No</td>\n      <td>No</td>\n      <td>No</td>\n      <td>No</td>\n      <td>No</td>\n      <td>No</td>\n      <td>No</td>\n      <td>Up</td>\n      <td>No</td>\n      <td>No</td>\n      <td>No</td>\n    </tr>\n  </tbody>\n</table>\n</div>"
     },
     "metadata": {},
     "execution_count": 4
    }
   ],
   "source": [
    "# Removing the diagnosis column.\n",
    "df = df.drop('Diagnosis', axis= 1)\n",
    "df = df.drop('Admission_ID', axis= 1)\n",
    "df = df.drop('Discharged_ID', axis= 1)\n",
    "df.head(3)"
   ]
  },
  {
   "cell_type": "code",
   "execution_count": 5,
   "metadata": {},
   "outputs": [
    {
     "output_type": "stream",
     "name": "stdout",
     "text": [
      "Dimensionality of the dataset:  (24169, 24)\n"
     ]
    }
   ],
   "source": [
    "print(\"Dimensionality of the dataset: \", df.shape)"
   ]
  },
  {
   "cell_type": "code",
   "execution_count": 6,
   "metadata": {},
   "outputs": [
    {
     "output_type": "execute_result",
     "data": {
      "text/plain": [
       "Index(['Readmitted', 'Pmo', 'Race', 'Sex', 'Age', 'Time_in_Hospital',\n",
       "       'Procedures', 'Medications', 'Glu_result', 'A1C_result', 'Change',\n",
       "       'Diabetes_Med', 'metformin', 'repaglinide', 'nateglinide',\n",
       "       'glimepiride', 'glyburide', 'pioglitazone', 'rosiglitazone', 'miglitol',\n",
       "       'insulin', 'glyburide-metformin', 'glipizide-metformin',\n",
       "       'metformin-pioglitazone'],\n",
       "      dtype='object')"
      ]
     },
     "metadata": {},
     "execution_count": 6
    }
   ],
   "source": [
    "# These are the relevent columns that we have chosen in our Exploratory Data Analysis.\n",
    "df.columns"
   ]
  },
  {
   "source": [
    "## 3. Feature Encoding\n",
    "\n",
    "**Remember that Machine Learning algorithms perform Linear Algebra on Matrices, which means all features need to have numeric ** **values. The process of converting Categorical Features into values is called Encoding. Let's perform both <i> \"One-Hot Encoding\" and \"Label Encoding\".</i>**\n",
    "\n",
    "\n",
    "Additional Resources: http://pbpython.com/categorical-encoding.html"
   ],
   "cell_type": "markdown",
   "metadata": {}
  },
  {
   "cell_type": "code",
   "execution_count": 7,
   "metadata": {},
   "outputs": [
    {
     "output_type": "execute_result",
     "data": {
      "text/plain": [
       "s_37  Procedures_38  Procedures_39  Procedures_40  Procedures_41  \\\n",
       "0              0              0              0              0              0   \n",
       "1              0              0              0              0              0   \n",
       "2              0              0              0              0              0   \n",
       "3              0              0              0              0              0   \n",
       "4              0              0              0              0              0   \n",
       "\n",
       "   Procedures_42  Procedures_43  Procedures_44  Procedures_45  Procedures_46  \\\n",
       "0              0              0              0              0              0   \n",
       "1              0              0              0              0              0   \n",
       "2              0              0              1              0              0   \n",
       "3              0              0              0              0              0   \n",
       "4              0              0              0              0              0   \n",
       "\n",
       "   Procedures_47  Procedures_48  Procedures_49  Procedures_50  Procedures_51  \\\n",
       "0              0              0              0              0              0   \n",
       "1              0              0              0              0              0   \n",
       "2              0              0              0              0              0   \n",
       "3              0              0              0              0              1   \n",
       "4              0              0              0              0              0   \n",
       "\n",
       "   Procedures_52  Procedures_53  Procedures_54  Procedures_55  Procedures_56  \\\n",
       "0              0              0              0              0              0   \n",
       "1              0              0              0              0              0   \n",
       "2              0              0              0              0              0   \n",
       "3              0              0              0              0              0   \n",
       "4              0              0              0              0              0   \n",
       "\n",
       "   Procedures_57  Procedures_58  Procedures_59  Procedures_60  Procedures_61  \\\n",
       "0              0              0              1              0              0   \n",
       "1              0              0              0              0              0   \n",
       "2              0              0              0              0              0   \n",
       "3              0              0              0              0              0   \n",
       "4              0              0              0              0              0   \n",
       "\n",
       "   Procedures_62  Procedures_63  Procedures_64  Procedures_65  Procedures_66  \\\n",
       "0              0              0              0              0              0   \n",
       "1              0              0              0              0              0   \n",
       "2              0              0              0              0              0   \n",
       "3              0              0              0              0              0   \n",
       "4              0              0              0              0              0   \n",
       "\n",
       "   Procedures_67  Procedures_68  Procedures_69  Procedures_70  Procedures_71  \\\n",
       "0              0              0              0              0              0   \n",
       "1              0              0              0              0              0   \n",
       "2              0              0              0              0              0   \n",
       "3              0              0              0              0              0   \n",
       "4              0              0              0              0              0   \n",
       "\n",
       "   Procedures_72  Procedures_73  Procedures_74  Procedures_75  Procedures_76  \\\n",
       "0              0              0              0              0              0   \n",
       "1              0              0              0              0              0   \n",
       "2              0              0              0              0              0   \n",
       "3              0              0              0              0              0   \n",
       "4              0              0              0              0              0   \n",
       "\n",
       "   Procedures_77  Procedures_78  Procedures_79  Procedures_80  Procedures_81  \\\n",
       "0              0              0              0              0              0   \n",
       "1              0              0              0              0              0   \n",
       "2              0              0              0              0              0   \n",
       "3              0              0              0              0              0   \n",
       "4              0              0              0              0              0   \n",
       "\n",
       "   Procedures_82  Procedures_83  Procedures_84  Procedures_85  Procedures_86  \\\n",
       "0              0              0              0              0              0   \n",
       "1              0              0              0              0              0   \n",
       "2              0              0              0              0              0   \n",
       "3              0              0              0              0              0   \n",
       "4              0              0              0              0              0   \n",
       "\n",
       "   Procedures_87  Procedures_88  Procedures_89  Procedures_90  Procedures_91  \\\n",
       "0              0              0              0              0              0   \n",
       "1              0              0              0              0              0   \n",
       "2              0              0              0              0              0   \n",
       "3              0              0              0              0              0   \n",
       "4              0              0              0              0              0   \n",
       "\n",
       "   Procedures_92  Procedures_93  Procedures_94  Procedures_95  Procedures_96  \\\n",
       "0              0              0              0              0              0   \n",
       "1              0              0              0              0              0   \n",
       "2              0              0              0              0              0   \n",
       "3              0              0              0              0              0   \n",
       "4              0              0              0              0              0   \n",
       "\n",
       "   Procedures_97  Procedures_98  Procedures_99  Procedures_101  \\\n",
       "0              0              0              0               0   \n",
       "1              0              0              0               0   \n",
       "2              0              0              0               0   \n",
       "3              0              0              0               0   \n",
       "4              0              0              0               0   \n",
       "\n",
       "   Procedures_102  Procedures_103  Procedures_105  Procedures_106  \\\n",
       "0               0               0               0               0   \n",
       "1               0               0               0               0   \n",
       "2               0               0               0               0   \n",
       "3               0               0               0               0   \n",
       "4               0               0               0               0   \n",
       "\n",
       "   Procedures_107  Procedures_108  Procedures_111  Procedures_113  \\\n",
       "0               0               0               0               0   \n",
       "1               0               0               0               0   \n",
       "2               0               0               0               0   \n",
       "3               0               0               0               0   \n",
       "4               0               0               0               0   \n",
       "\n",
       "   Procedures_118  Medications_1  Medications_2  Medications_3  Medications_4  \\\n",
       "0               0              0              0              0              0   \n",
       "1               0              0              0              0              0   \n",
       "2               0              0              0              0              0   \n",
       "3               0              0              0              0              0   \n",
       "4               0              0              0              0              0   \n",
       "\n",
       "   Medications_5  Medications_6  Medications_7  Medications_8  Medications_9  \\\n",
       "0              0              0              0              0              0   \n",
       "1              0              0              0              0              0   \n",
       "2              0              0              0              0              0   \n",
       "3              0              0              0              1              0   \n",
       "4              0              0              0              0              0   \n",
       "\n",
       "   Medications_10  Medications_11  Medications_12  Medications_13  \\\n",
       "0               0               0               0               0   \n",
       "1               0               0               0               1   \n",
       "2               0               0               0               0   \n",
       "3               0               0               0               0   \n",
       "4               0               0               0               0   \n",
       "\n",
       "   Medications_14  Medications_15  Medications_16  Medications_17  \\\n",
       "0               0               0               0               0   \n",
       "1               0               0               0               0   \n",
       "2               0               0               1               0   \n",
       "3               0               0               0               0   \n",
       "4               0               0               1               0   \n",
       "\n",
       "   Medications_18  Medications_19  Medications_20  Medications_21  \\\n",
       "0               1               0               0               0   \n",
       "1               0               0               0               0   \n",
       "2               0               0               0               0   \n",
       "3               0               0               0               0   \n",
       "4               0               0               0               0   \n",
       "\n",
       "   Medications_22  Medications_23  Medications_24  Medications_25  \\\n",
       "0               0               0               0               0   \n",
       "1               0               0               0               0   \n",
       "2               0               0               0               0   \n",
       "3               0               0               0               0   \n",
       "4               0               0               0               0   \n",
       "\n",
       "   Medications_26  Medications_27  Medications_28  Medications_29  \\\n",
       "0               0               0               0               0   \n",
       "1               0               0               0               0   \n",
       "2               0               0               0               0   \n",
       "3               0               0               0               0   \n",
       "4               0               0               0               0   \n",
       "\n",
       "   Medications_30  Medications_31  Medications_32  Medications_33  \\\n",
       "0               0               0               0               0   \n",
       "1               0               0               0               0   \n",
       "2               0               0               0               0   \n",
       "3               0               0               0               0   \n",
       "4               0               0               0               0   \n",
       "\n",
       "   Medications_34  Medications_35  Medications_36  Medications_37  \\\n",
       "0               0               0               0               0   \n",
       "1               0               0               0               0   \n",
       "2               0               0               0               0   \n",
       "3               0               0               0               0   \n",
       "4               0               0               0               0   \n",
       "\n",
       "   Medications_38  Medications_39  Medications_40  Medications_41  \\\n",
       "0               0               0               0               0   \n",
       "1               0               0               0               0   \n",
       "2               0               0               0               0   \n",
       "3               0               0               0               0   \n",
       "4               0               0               0               0   \n",
       "\n",
       "   Medications_42  Medications_43  Medications_44  Medications_45  \\\n",
       "0               0               0               0               0   \n",
       "1               0               0               0               0   \n",
       "2               0               0               0               0   \n",
       "3               0               0               0               0   \n",
       "4               0               0               0               0   \n",
       "\n",
       "   Medications_46  Medications_47  Medications_48  Medications_49  \\\n",
       "0               0               0               0               0   \n",
       "1               0               0               0               0   \n",
       "2               0               0               0               0   \n",
       "3               0               0               0               0   \n",
       "4               0               0               0               0   \n",
       "\n",
       "   Medications_50  Medications_51  Medications_52  Medications_53  \\\n",
       "0               0               0               0               0   \n",
       "1               0               0               0               0   \n",
       "2               0               0               0               0   \n",
       "3               0               0               0               0   \n",
       "4               0               0               0               0   \n",
       "\n",
       "   Medications_54  Medications_55  Medications_56  Medications_57  \\\n",
       "0               0               0               0               0   \n",
       "1               0               0               0               0   \n",
       "2               0               0               0               0   \n",
       "3               0               0               0               0   \n",
       "4               0               0               0               0   \n",
       "\n",
       "   Medications_58  Medications_59  Medications_60  Medications_61  \\\n",
       "0               0               0               0               0   \n",
       "1               0               0               0               0   \n",
       "2               0               0               0               0   \n",
       "3               0               0               0               0   \n",
       "4               0               0               0               0   \n",
       "\n",
       "   Medications_62  Medications_66  Medications_67  Glu_result_>200  \\\n",
       "0               0               0               0                0   \n",
       "1               0               0               0                0   \n",
       "2               0               0               0                0   \n",
       "3               0               0               0                0   \n",
       "4               0               0               0                0   \n",
       "\n",
       "   Glu_result_>300  Glu_result_None  Glu_result_Norm  A1C_result_>7  \\\n",
       "0                0                1                0              0   \n",
       "1                0                1                0              0   \n",
       "2                0                1                0              0   \n",
       "3                0                1                0              0   \n",
       "4                0                1                0              0   \n",
       "\n",
       "   A1C_result_>8  A1C_result_None  A1C_result_Norm  Change_0  Change_1  \\\n",
       "0              0                1                0         0         1   \n",
       "1              0                1                0         1         0   \n",
       "2              0                1                0         0         1   \n",
       "3              0                1                0         0         1   \n",
       "4              0                1                0         1         0   \n",
       "\n",
       "   Diabetes_Med_0  Diabetes_Med_1  metformin_Down  metformin_No  \\\n",
       "0               0               1               0             1   \n",
       "1               0               1               0             1   \n",
       "2               0               1               0             1   \n",
       "3               0               1               0             1   \n",
       "4               0               1               0             1   \n",
       "\n",
       "   metformin_Steady  metformin_Up  repaglinide_Down  repaglinide_No  \\\n",
       "0                 0             0                 0               1   \n",
       "1                 0             0                 0               1   \n",
       "2                 0             0                 0               1   \n",
       "3                 0             0                 0               1   \n",
       "4                 0             0                 0               1   \n",
       "\n",
       "   repaglinide_Steady  repaglinide_Up  nateglinide_Down  nateglinide_No  \\\n",
       "0                   0               0                 0               1   \n",
       "1                   0               0                 0               1   \n",
       "2                   0               0                 0               1   \n",
       "3                   0               0                 0               1   \n",
       "4                   0               0                 0               1   \n",
       "\n",
       "   nateglinide_Steady  nateglinide_Up  glimepiride_Down  glimepiride_No  \\\n",
       "0                   0               0                 0               1   \n",
       "1                   0               0                 0               1   \n",
       "2                   0               0                 0               1   \n",
       "3                   0               0                 0               1   \n",
       "4                   0               0                 0               1   \n",
       "\n",
       "   glimepiride_Steady  glimepiride_Up  glyburide_Down  glyburide_No  \\\n",
       "0                   0               0               0             1   \n",
       "1                   0               0               0             1   \n",
       "2                   0               0               0             1   \n",
       "3                   0               0               0             1   \n",
       "4                   0               0               0             1   \n",
       "\n",
       "   glyburide_Steady  glyburide_Up  pioglitazone_Down  pioglitazone_No  \\\n",
       "0                 0             0                  0                1   \n",
       "1                 0             0                  0                1   \n",
       "2                 0             0                  0                1   \n",
       "3                 0             0                  0                1   \n",
       "4                 0             0                  0                1   \n",
       "\n",
       "   pioglitazone_Steady  pioglitazone_Up  rosiglitazone_Down  rosiglitazone_No  \\\n",
       "0                    0                0                   0                 1   \n",
       "1                    0                0                   0                 1   \n",
       "2                    0                0                   0                 1   \n",
       "3                    0                0                   0                 1   \n",
       "4                    0                0                   0                 1   \n",
       "\n",
       "   rosiglitazone_Steady  rosiglitazone_Up  miglitol_No  miglitol_Steady  \\\n",
       "0                     0                 0            1                0   \n",
       "1                     0                 0            1                0   \n",
       "2                     0                 0            1                0   \n",
       "3                     0                 0            1                0   \n",
       "4                     0                 0            1                0   \n",
       "\n",
       "   miglitol_Up  insulin_Down  insulin_No  insulin_Steady  insulin_Up  \\\n",
       "0            0             0           0               0           1   \n",
       "1            0             0           1               0           0   \n",
       "2            0             0           0               0           1   \n",
       "3            0             0           0               1           0   \n",
       "4            0             0           0               1           0   \n",
       "\n",
       "   glyburide-metformin_Down  glyburide-metformin_No  \\\n",
       "0                         0                       1   \n",
       "1                         0                       1   \n",
       "2                         0                       1   \n",
       "3                         0                       1   \n",
       "4                         0                       1   \n",
       "\n",
       "   glyburide-metformin_Steady  glyburide-metformin_Up  glipizide-metformin_No  \\\n",
       "0                           0                       0                       1   \n",
       "1                           0                       0                       1   \n",
       "2                           0                       0                       1   \n",
       "3                           0                       0                       1   \n",
       "4                           0                       0                       1   \n",
       "\n",
       "   glipizide-metformin_Steady  metformin-pioglitazone_No  \\\n",
       "0                           0                          1   \n",
       "1                           0                          1   \n",
       "2                           0                          1   \n",
       "3                           0                          1   \n",
       "4                           0                          1   \n",
       "\n",
       "   metformin-pioglitazone_Steady  \n",
       "0                              0  \n",
       "1                              0  \n",
       "2                              0  \n",
       "3                              0  \n",
       "4                              0  "
      ],
      "text/html": "<div>\n<style scoped>\n    .dataframe tbody tr th:only-of-type {\n        vertical-align: middle;\n    }\n\n    .dataframe tbody tr th {\n        vertical-align: top;\n    }\n\n    .dataframe thead th {\n        text-align: right;\n    }\n</style>\n<table border=\"1\" class=\"dataframe\">\n  <thead>\n    <tr style=\"text-align: right;\">\n      <th></th>\n      <th>Readmitted</th>\n      <th>Pmo</th>\n      <th>Race_AfricanAmerican</th>\n      <th>Race_Asian</th>\n      <th>Race_Caucasian</th>\n      <th>Race_Hispanic</th>\n      <th>Race_Other</th>\n      <th>Sex_0</th>\n      <th>Sex_1</th>\n      <th>Age_[0-10)</th>\n      <th>Age_[10-20)</th>\n      <th>Age_[20-30)</th>\n      <th>Age_[30-40)</th>\n      <th>Age_[40-50)</th>\n      <th>Age_[50-60)</th>\n      <th>Age_[60-70)</th>\n      <th>Age_[70-80)</th>\n      <th>Age_[80-90)</th>\n      <th>Age_[90-100)</th>\n      <th>Time_in_Hospital_(0.987, 3.6]</th>\n      <th>Time_in_Hospital_(11.4, 14.0]</th>\n      <th>Time_in_Hospital_(3.6, 6.2]</th>\n      <th>Time_in_Hospital_(6.2, 8.8]</th>\n      <th>Time_in_Hospital_(8.8, 11.4]</th>\n      <th>Procedures_1</th>\n      <th>Procedures_2</th>\n      <th>Procedures_3</th>\n      <th>Procedures_4</th>\n      <th>Procedures_5</th>\n      <th>Procedures_6</th>\n      <th>Procedures_7</th>\n      <th>Procedures_8</th>\n      <th>Procedures_9</th>\n      <th>Procedures_10</th>\n      <th>Procedures_11</th>\n      <th>Procedures_12</th>\n      <th>Procedures_13</th>\n      <th>Procedures_14</th>\n      <th>Procedures_15</th>\n      <th>Procedures_16</th>\n      <th>Procedures_17</th>\n      <th>Procedures_18</th>\n      <th>Procedures_19</th>\n      <th>Procedures_20</th>\n      <th>Procedures_21</th>\n      <th>Procedures_22</th>\n      <th>Procedures_23</th>\n      <th>Procedures_24</th>\n      <th>Procedures_25</th>\n      <th>Procedures_26</th>\n      <th>Procedures_27</th>\n      <th>Procedures_28</th>\n      <th>Procedures_29</th>\n      <th>Procedures_30</th>\n      <th>Procedures_31</th>\n      <th>Procedures_32</th>\n      <th>Procedures_33</th>\n      <th>Procedures_34</th>\n      <th>Procedures_35</th>\n      <th>Procedures_36</th>\n      <th>Procedures_37</th>\n      <th>Procedures_38</th>\n      <th>Procedures_39</th>\n      <th>Procedures_40</th>\n      <th>Procedures_41</th>\n      <th>Procedures_42</th>\n      <th>Procedures_43</th>\n      <th>Procedures_44</th>\n      <th>Procedures_45</th>\n      <th>Procedures_46</th>\n      <th>Procedures_47</th>\n      <th>Procedures_48</th>\n      <th>Procedures_49</th>\n      <th>Procedures_50</th>\n      <th>Procedures_51</th>\n      <th>Procedures_52</th>\n      <th>Procedures_53</th>\n      <th>Procedures_54</th>\n      <th>Procedures_55</th>\n      <th>Procedures_56</th>\n      <th>Procedures_57</th>\n      <th>Procedures_58</th>\n      <th>Procedures_59</th>\n      <th>Procedures_60</th>\n      <th>Procedures_61</th>\n      <th>Procedures_62</th>\n      <th>Procedures_63</th>\n      <th>Procedures_64</th>\n      <th>Procedures_65</th>\n      <th>Procedures_66</th>\n      <th>Procedures_67</th>\n      <th>Procedures_68</th>\n      <th>Procedures_69</th>\n      <th>Procedures_70</th>\n      <th>Procedures_71</th>\n      <th>Procedures_72</th>\n      <th>Procedures_73</th>\n      <th>Procedures_74</th>\n      <th>Procedures_75</th>\n      <th>Procedures_76</th>\n      <th>Procedures_77</th>\n      <th>Procedures_78</th>\n      <th>Procedures_79</th>\n      <th>Procedures_80</th>\n      <th>Procedures_81</th>\n      <th>Procedures_82</th>\n      <th>Procedures_83</th>\n      <th>Procedures_84</th>\n      <th>Procedures_85</th>\n      <th>Procedures_86</th>\n      <th>Procedures_87</th>\n      <th>Procedures_88</th>\n      <th>Procedures_89</th>\n      <th>Procedures_90</th>\n      <th>Procedures_91</th>\n      <th>Procedures_92</th>\n      <th>Procedures_93</th>\n      <th>Procedures_94</th>\n      <th>Procedures_95</th>\n      <th>Procedures_96</th>\n      <th>Procedures_97</th>\n      <th>Procedures_98</th>\n      <th>Procedures_99</th>\n      <th>Procedures_101</th>\n      <th>Procedures_102</th>\n      <th>Procedures_103</th>\n      <th>Procedures_105</th>\n      <th>Procedures_106</th>\n      <th>Procedures_107</th>\n      <th>Procedures_108</th>\n      <th>Procedures_111</th>\n      <th>Procedures_113</th>\n      <th>Procedures_118</th>\n      <th>Medications_1</th>\n      <th>Medications_2</th>\n      <th>Medications_3</th>\n      <th>Medications_4</th>\n      <th>Medications_5</th>\n      <th>Medications_6</th>\n      <th>Medications_7</th>\n      <th>Medications_8</th>\n      <th>Medications_9</th>\n      <th>Medications_10</th>\n      <th>Medications_11</th>\n      <th>Medications_12</th>\n      <th>Medications_13</th>\n      <th>Medications_14</th>\n      <th>Medications_15</th>\n      <th>Medications_16</th>\n      <th>Medications_17</th>\n      <th>Medications_18</th>\n      <th>Medications_19</th>\n      <th>Medications_20</th>\n      <th>Medications_21</th>\n      <th>Medications_22</th>\n      <th>Medications_23</th>\n      <th>Medications_24</th>\n      <th>Medications_25</th>\n      <th>Medications_26</th>\n      <th>Medications_27</th>\n      <th>Medications_28</th>\n      <th>Medications_29</th>\n      <th>Medications_30</th>\n      <th>Medications_31</th>\n      <th>Medications_32</th>\n      <th>Medications_33</th>\n      <th>Medications_34</th>\n      <th>Medications_35</th>\n      <th>Medications_36</th>\n      <th>Medications_37</th>\n      <th>Medications_38</th>\n      <th>Medications_39</th>\n      <th>Medications_40</th>\n      <th>Medications_41</th>\n      <th>Medications_42</th>\n      <th>Medications_43</th>\n      <th>Medications_44</th>\n      <th>Medications_45</th>\n      <th>Medications_46</th>\n      <th>Medications_47</th>\n      <th>Medications_48</th>\n      <th>Medications_49</th>\n      <th>Medications_50</th>\n      <th>Medications_51</th>\n      <th>Medications_52</th>\n      <th>Medications_53</th>\n      <th>Medications_54</th>\n      <th>Medications_55</th>\n      <th>Medications_56</th>\n      <th>Medications_57</th>\n      <th>Medications_58</th>\n      <th>Medications_59</th>\n      <th>Medications_60</th>\n      <th>Medications_61</th>\n      <th>Medications_62</th>\n      <th>Medications_66</th>\n      <th>Medications_67</th>\n      <th>Glu_result_&gt;200</th>\n      <th>Glu_result_&gt;300</th>\n      <th>Glu_result_None</th>\n      <th>Glu_result_Norm</th>\n      <th>A1C_result_&gt;7</th>\n      <th>A1C_result_&gt;8</th>\n      <th>A1C_result_None</th>\n      <th>A1C_result_Norm</th>\n      <th>Change_0</th>\n      <th>Change_1</th>\n      <th>Diabetes_Med_0</th>\n      <th>Diabetes_Med_1</th>\n      <th>metformin_Down</th>\n      <th>metformin_No</th>\n      <th>metformin_Steady</th>\n      <th>metformin_Up</th>\n      <th>repaglinide_Down</th>\n      <th>repaglinide_No</th>\n      <th>repaglinide_Steady</th>\n      <th>repaglinide_Up</th>\n      <th>nateglinide_Down</th>\n      <th>nateglinide_No</th>\n      <th>nateglinide_Steady</th>\n      <th>nateglinide_Up</th>\n      <th>glimepiride_Down</th>\n      <th>glimepiride_No</th>\n      <th>glimepiride_Steady</th>\n      <th>glimepiride_Up</th>\n      <th>glyburide_Down</th>\n      <th>glyburide_No</th>\n      <th>glyburide_Steady</th>\n      <th>glyburide_Up</th>\n      <th>pioglitazone_Down</th>\n      <th>pioglitazone_No</th>\n      <th>pioglitazone_Steady</th>\n      <th>pioglitazone_Up</th>\n      <th>rosiglitazone_Down</th>\n      <th>rosiglitazone_No</th>\n      <th>rosiglitazone_Steady</th>\n      <th>rosiglitazone_Up</th>\n      <th>miglitol_No</th>\n      <th>miglitol_Steady</th>\n      <th>miglitol_Up</th>\n      <th>insulin_Down</th>\n      <th>insulin_No</th>\n      <th>insulin_Steady</th>\n      <th>insulin_Up</th>\n      <th>glyburide-metformin_Down</th>\n      <th>glyburide-metformin_No</th>\n      <th>glyburide-metformin_Steady</th>\n      <th>glyburide-metformin_Up</th>\n      <th>glipizide-metformin_No</th>\n      <th>glipizide-metformin_Steady</th>\n      <th>metformin-pioglitazone_No</th>\n      <th>metformin-pioglitazone_Steady</th>\n    </tr>\n  </thead>\n  <tbody>\n    <tr>\n      <th>0</th>\n      <td>Y</td>\n      <td>55629189.0</td>\n      <td>0</td>\n      <td>0</td>\n      <td>1</td>\n      <td>0</td>\n      <td>0</td>\n      <td>0</td>\n      <td>1</td>\n      <td>0</td>\n      <td>1</td>\n      <td>0</td>\n      <td>0</td>\n      <td>0</td>\n      <td>0</td>\n      <td>0</td>\n      <td>0</td>\n      <td>0</td>\n      <td>0</td>\n      <td>1</td>\n      <td>0</td>\n      <td>0</td>\n      <td>0</td>\n      <td>0</td>\n      <td>0</td>\n      <td>0</td>\n      <td>0</td>\n      <td>0</td>\n      <td>0</td>\n      <td>0</td>\n      <td>0</td>\n      <td>0</td>\n      <td>0</td>\n      <td>0</td>\n      <td>0</td>\n      <td>0</td>\n      <td>0</td>\n      <td>0</td>\n      <td>0</td>\n      <td>0</td>\n      <td>0</td>\n      <td>0</td>\n      <td>0</td>\n      <td>0</td>\n      <td>0</td>\n      <td>0</td>\n      <td>0</td>\n      <td>0</td>\n      <td>0</td>\n      <td>0</td>\n      <td>0</td>\n      <td>0</td>\n      <td>0</td>\n      <td>0</td>\n      <td>0</td>\n      <td>0</td>\n      <td>0</td>\n      <td>0</td>\n      <td>0</td>\n      <td>0</td>\n      <td>0</td>\n      <td>0</td>\n      <td>0</td>\n      <td>0</td>\n      <td>0</td>\n      <td>0</td>\n      <td>0</td>\n      <td>0</td>\n      <td>0</td>\n      <td>0</td>\n      <td>0</td>\n      <td>0</td>\n      <td>0</td>\n      <td>0</td>\n      <td>0</td>\n      <td>0</td>\n      <td>0</td>\n      <td>0</td>\n      <td>0</td>\n      <td>0</td>\n      <td>0</td>\n      <td>0</td>\n      <td>1</td>\n      <td>0</td>\n      <td>0</td>\n      <td>0</td>\n      <td>0</td>\n      <td>0</td>\n      <td>0</td>\n      <td>0</td>\n      <td>0</td>\n      <td>0</td>\n      <td>0</td>\n      <td>0</td>\n      <td>0</td>\n      <td>0</td>\n      <td>0</td>\n      <td>0</td>\n      <td>0</td>\n      <td>0</td>\n      <td>0</td>\n      <td>0</td>\n      <td>0</td>\n      <td>0</td>\n      <td>0</td>\n      <td>0</td>\n      <td>0</td>\n      <td>0</td>\n      <td>0</td>\n      <td>0</td>\n      <td>0</td>\n      <td>0</td>\n      <td>0</td>\n      <td>0</td>\n      <td>0</td>\n      <td>0</td>\n      <td>0</td>\n      <td>0</td>\n      <td>0</td>\n      <td>0</td>\n      <td>0</td>\n      <td>0</td>\n      <td>0</td>\n      <td>0</td>\n      <td>0</td>\n      <td>0</td>\n      <td>0</td>\n      <td>0</td>\n      <td>0</td>\n      <td>0</td>\n      <td>0</td>\n      <td>0</td>\n      <td>0</td>\n      <td>0</td>\n      <td>0</td>\n      <td>0</td>\n      <td>0</td>\n      <td>0</td>\n      <td>0</td>\n      <td>0</td>\n      <td>0</td>\n      <td>0</td>\n      <td>0</td>\n      <td>0</td>\n      <td>0</td>\n      <td>0</td>\n      <td>0</td>\n      <td>0</td>\n      <td>0</td>\n      <td>0</td>\n      <td>1</td>\n      <td>0</td>\n      <td>0</td>\n      <td>0</td>\n      <td>0</td>\n      <td>0</td>\n      <td>0</td>\n      <td>0</td>\n      <td>0</td>\n      <td>0</td>\n      <td>0</td>\n      <td>0</td>\n      <td>0</td>\n      <td>0</td>\n      <td>0</td>\n      <td>0</td>\n      <td>0</td>\n      <td>0</td>\n      <td>0</td>\n      <td>0</td>\n      <td>0</td>\n      <td>0</td>\n      <td>0</td>\n      <td>0</td>\n      <td>0</td>\n      <td>0</td>\n      <td>0</td>\n      <td>0</td>\n      <td>0</td>\n      <td>0</td>\n      <td>0</td>\n      <td>0</td>\n      <td>0</td>\n      <td>0</td>\n      <td>0</td>\n      <td>0</td>\n      <td>0</td>\n      <td>0</td>\n      <td>0</td>\n      <td>0</td>\n      <td>0</td>\n      <td>0</td>\n      <td>0</td>\n      <td>0</td>\n      <td>0</td>\n      <td>0</td>\n      <td>0</td>\n      <td>0</td>\n      <td>0</td>\n      <td>1</td>\n      <td>0</td>\n      <td>0</td>\n      <td>0</td>\n      <td>1</td>\n      <td>0</td>\n      <td>0</td>\n      <td>1</td>\n      <td>0</td>\n      <td>1</td>\n      <td>0</td>\n      <td>1</td>\n      <td>0</td>\n      <td>0</td>\n      <td>0</td>\n      <td>1</td>\n      <td>0</td>\n      <td>0</td>\n      <td>0</td>\n      <td>1</td>\n      <td>0</td>\n      <td>0</td>\n      <td>0</td>\n      <td>1</td>\n      <td>0</td>\n      <td>0</td>\n      <td>0</td>\n      <td>1</td>\n      <td>0</td>\n      <td>0</td>\n      <td>0</td>\n      <td>1</td>\n      <td>0</td>\n      <td>0</td>\n      <td>0</td>\n      <td>1</td>\n      <td>0</td>\n      <td>0</td>\n      <td>1</td>\n      <td>0</td>\n      <td>0</td>\n      <td>0</td>\n      <td>0</td>\n      <td>0</td>\n      <td>1</td>\n      <td>0</td>\n      <td>1</td>\n      <td>0</td>\n      <td>0</td>\n      <td>1</td>\n      <td>0</td>\n      <td>1</td>\n      <td>0</td>\n    </tr>\n    <tr>\n      <th>1</th>\n      <td>N</td>\n      <td>86047875.0</td>\n      <td>1</td>\n      <td>0</td>\n      <td>0</td>\n      <td>0</td>\n      <td>0</td>\n      <td>0</td>\n      <td>1</td>\n      <td>0</td>\n      <td>0</td>\n      <td>1</td>\n      <td>0</td>\n      <td>0</td>\n      <td>0</td>\n      <td>0</td>\n      <td>0</td>\n      <td>0</td>\n      <td>0</td>\n      <td>1</td>\n      <td>0</td>\n      <td>0</td>\n      <td>0</td>\n      <td>0</td>\n      <td>0</td>\n      <td>0</td>\n      <td>0</td>\n      <td>0</td>\n      <td>0</td>\n      <td>0</td>\n      <td>0</td>\n      <td>0</td>\n      <td>0</td>\n      <td>0</td>\n      <td>1</td>\n      <td>0</td>\n      <td>0</td>\n      <td>0</td>\n      <td>0</td>\n      <td>0</td>\n      <td>0</td>\n      <td>0</td>\n      <td>0</td>\n      <td>0</td>\n      <td>0</td>\n      <td>0</td>\n      <td>0</td>\n      <td>0</td>\n      <td>0</td>\n      <td>0</td>\n      <td>0</td>\n      <td>0</td>\n      <td>0</td>\n      <td>0</td>\n      <td>0</td>\n      <td>0</td>\n      <td>0</td>\n      <td>0</td>\n      <td>0</td>\n      <td>0</td>\n      <td>0</td>\n      <td>0</td>\n      <td>0</td>\n      <td>0</td>\n      <td>0</td>\n      <td>0</td>\n      <td>0</td>\n      <td>0</td>\n      <td>0</td>\n      <td>0</td>\n      <td>0</td>\n      <td>0</td>\n      <td>0</td>\n      <td>0</td>\n      <td>0</td>\n      <td>0</td>\n      <td>0</td>\n      <td>0</td>\n      <td>0</td>\n      <td>0</td>\n      <td>0</td>\n      <td>0</td>\n      <td>0</td>\n      <td>0</td>\n      <td>0</td>\n      <td>0</td>\n      <td>0</td>\n      <td>0</td>\n      <td>0</td>\n      <td>0</td>\n      <td>0</td>\n      <td>0</td>\n      <td>0</td>\n      <td>0</td>\n      <td>0</td>\n      <td>0</td>\n      <td>0</td>\n      <td>0</td>\n      <td>0</td>\n      <td>0</td>\n      <td>0</td>\n      <td>0</td>\n      <td>0</td>\n      <td>0</td>\n      <td>0</td>\n      <td>0</td>\n      <td>0</td>\n      <td>0</td>\n      <td>0</td>\n      <td>0</td>\n      <td>0</td>\n      <td>0</td>\n      <td>0</td>\n      <td>0</td>\n      <td>0</td>\n      <td>0</td>\n      <td>0</td>\n      <td>0</td>\n      <td>0</td>\n      <td>0</td>\n      <td>0</td>\n      <td>0</td>\n      <td>0</td>\n      <td>0</td>\n      <td>0</td>\n      <td>0</td>\n      <td>0</td>\n      <td>0</td>\n      <td>0</td>\n      <td>0</td>\n      <td>0</td>\n      <td>0</td>\n      <td>0</td>\n      <td>0</td>\n      <td>0</td>\n      <td>0</td>\n      <td>0</td>\n      <td>0</td>\n      <td>0</td>\n      <td>0</td>\n      <td>0</td>\n      <td>0</td>\n      <td>0</td>\n      <td>0</td>\n      <td>0</td>\n      <td>1</td>\n      <td>0</td>\n      <td>0</td>\n      <td>0</td>\n      <td>0</td>\n      <td>0</td>\n      <td>0</td>\n      <td>0</td>\n      <td>0</td>\n      <td>0</td>\n      <td>0</td>\n      <td>0</td>\n      <td>0</td>\n      <td>0</td>\n      <td>0</td>\n      <td>0</td>\n      <td>0</td>\n      <td>0</td>\n      <td>0</td>\n      <td>0</td>\n      <td>0</td>\n      <td>0</td>\n      <td>0</td>\n      <td>0</td>\n      <td>0</td>\n      <td>0</td>\n      <td>0</td>\n      <td>0</td>\n      <td>0</td>\n      <td>0</td>\n      <td>0</td>\n      <td>0</td>\n      <td>0</td>\n      <td>0</td>\n      <td>0</td>\n      <td>0</td>\n      <td>0</td>\n      <td>0</td>\n      <td>0</td>\n      <td>0</td>\n      <td>0</td>\n      <td>0</td>\n      <td>0</td>\n      <td>0</td>\n      <td>0</td>\n      <td>0</td>\n      <td>0</td>\n      <td>0</td>\n      <td>0</td>\n      <td>0</td>\n      <td>0</td>\n      <td>0</td>\n      <td>0</td>\n      <td>0</td>\n      <td>1</td>\n      <td>0</td>\n      <td>0</td>\n      <td>0</td>\n      <td>1</td>\n      <td>0</td>\n      <td>1</td>\n      <td>0</td>\n      <td>0</td>\n      <td>1</td>\n      <td>0</td>\n      <td>1</td>\n      <td>0</td>\n      <td>0</td>\n      <td>0</td>\n      <td>1</td>\n      <td>0</td>\n      <td>0</td>\n      <td>0</td>\n      <td>1</td>\n      <td>0</td>\n      <td>0</td>\n      <td>0</td>\n      <td>1</td>\n      <td>0</td>\n      <td>0</td>\n      <td>0</td>\n      <td>1</td>\n      <td>0</td>\n      <td>0</td>\n      <td>0</td>\n      <td>1</td>\n      <td>0</td>\n      <td>0</td>\n      <td>0</td>\n      <td>1</td>\n      <td>0</td>\n      <td>0</td>\n      <td>1</td>\n      <td>0</td>\n      <td>0</td>\n      <td>0</td>\n      <td>1</td>\n      <td>0</td>\n      <td>0</td>\n      <td>0</td>\n      <td>1</td>\n      <td>0</td>\n      <td>0</td>\n      <td>1</td>\n      <td>0</td>\n      <td>1</td>\n      <td>0</td>\n    </tr>\n    <tr>\n      <th>2</th>\n      <td>N</td>\n      <td>82442376.0</td>\n      <td>0</td>\n      <td>0</td>\n      <td>1</td>\n      <td>0</td>\n      <td>0</td>\n      <td>1</td>\n      <td>0</td>\n      <td>0</td>\n      <td>0</td>\n      <td>0</td>\n      <td>1</td>\n      <td>0</td>\n      <td>0</td>\n      <td>0</td>\n      <td>0</td>\n      <td>0</td>\n      <td>0</td>\n      <td>1</td>\n      <td>0</td>\n      <td>0</td>\n      <td>0</td>\n      <td>0</td>\n      <td>0</td>\n      <td>0</td>\n      <td>0</td>\n      <td>0</td>\n      <td>0</td>\n      <td>0</td>\n      <td>0</td>\n      <td>0</td>\n      <td>0</td>\n      <td>0</td>\n      <td>0</td>\n      <td>0</td>\n      <td>0</td>\n      <td>0</td>\n      <td>0</td>\n      <td>0</td>\n      <td>0</td>\n      <td>0</td>\n      <td>0</td>\n      <td>0</td>\n      <td>0</td>\n      <td>0</td>\n      <td>0</td>\n      <td>0</td>\n      <td>0</td>\n      <td>0</td>\n      <td>0</td>\n      <td>0</td>\n      <td>0</td>\n      <td>0</td>\n      <td>0</td>\n      <td>0</td>\n      <td>0</td>\n      <td>0</td>\n      <td>0</td>\n      <td>0</td>\n      <td>0</td>\n      <td>0</td>\n      <td>0</td>\n      <td>0</td>\n      <td>0</td>\n      <td>0</td>\n      <td>0</td>\n      <td>1</td>\n      <td>0</td>\n      <td>0</td>\n      <td>0</td>\n      <td>0</td>\n      <td>0</td>\n      <td>0</td>\n      <td>0</td>\n      <td>0</td>\n      <td>0</td>\n      <td>0</td>\n      <td>0</td>\n      <td>0</td>\n      <td>0</td>\n      <td>0</td>\n      <td>0</td>\n      <td>0</td>\n      <td>0</td>\n      <td>0</td>\n      <td>0</td>\n      <td>0</td>\n      <td>0</td>\n      <td>0</td>\n      <td>0</td>\n      <td>0</td>\n      <td>0</td>\n      <td>0</td>\n      <td>0</td>\n      <td>0</td>\n      <td>0</td>\n      <td>0</td>\n      <td>0</td>\n      <td>0</td>\n      <td>0</td>\n      <td>0</td>\n      <td>0</td>\n      <td>0</td>\n      <td>0</td>\n      <td>0</td>\n      <td>0</td>\n      <td>0</td>\n      <td>0</td>\n      <td>0</td>\n      <td>0</td>\n      <td>0</td>\n      <td>0</td>\n      <td>0</td>\n      <td>0</td>\n      <td>0</td>\n      <td>0</td>\n      <td>0</td>\n      <td>0</td>\n      <td>0</td>\n      <td>0</td>\n      <td>0</td>\n      <td>0</td>\n      <td>0</td>\n      <td>0</td>\n      <td>0</td>\n      <td>0</td>\n      <td>0</td>\n      <td>0</td>\n      <td>0</td>\n      <td>0</td>\n      <td>0</td>\n      <td>0</td>\n      <td>0</td>\n      <td>0</td>\n      <td>0</td>\n      <td>0</td>\n      <td>0</td>\n      <td>0</td>\n      <td>0</td>\n      <td>0</td>\n      <td>0</td>\n      <td>0</td>\n      <td>0</td>\n      <td>0</td>\n      <td>0</td>\n      <td>0</td>\n      <td>0</td>\n      <td>1</td>\n      <td>0</td>\n      <td>0</td>\n      <td>0</td>\n      <td>0</td>\n      <td>0</td>\n      <td>0</td>\n      <td>0</td>\n      <td>0</td>\n      <td>0</td>\n      <td>0</td>\n      <td>0</td>\n      <td>0</td>\n      <td>0</td>\n      <td>0</td>\n      <td>0</td>\n      <td>0</td>\n      <td>0</td>\n      <td>0</td>\n      <td>0</td>\n      <td>0</td>\n      <td>0</td>\n      <td>0</td>\n      <td>0</td>\n      <td>0</td>\n      <td>0</td>\n      <td>0</td>\n      <td>0</td>\n      <td>0</td>\n      <td>0</td>\n      <td>0</td>\n      <td>0</td>\n      <td>0</td>\n      <td>0</td>\n      <td>0</td>\n      <td>0</td>\n      <td>0</td>\n      <td>0</td>\n      <td>0</td>\n      <td>0</td>\n      <td>0</td>\n      <td>0</td>\n      <td>0</td>\n      <td>0</td>\n      <td>0</td>\n      <td>0</td>\n      <td>0</td>\n      <td>0</td>\n      <td>0</td>\n      <td>0</td>\n      <td>0</td>\n      <td>1</td>\n      <td>0</td>\n      <td>0</td>\n      <td>0</td>\n      <td>1</td>\n      <td>0</td>\n      <td>0</td>\n      <td>1</td>\n      <td>0</td>\n      <td>1</td>\n      <td>0</td>\n      <td>1</td>\n      <td>0</td>\n      <td>0</td>\n      <td>0</td>\n      <td>1</td>\n      <td>0</td>\n      <td>0</td>\n      <td>0</td>\n      <td>1</td>\n      <td>0</td>\n      <td>0</td>\n      <td>0</td>\n      <td>1</td>\n      <td>0</td>\n      <td>0</td>\n      <td>0</td>\n      <td>1</td>\n      <td>0</td>\n      <td>0</td>\n      <td>0</td>\n      <td>1</td>\n      <td>0</td>\n      <td>0</td>\n      <td>0</td>\n      <td>1</td>\n      <td>0</td>\n      <td>0</td>\n      <td>1</td>\n      <td>0</td>\n      <td>0</td>\n      <td>0</td>\n      <td>0</td>\n      <td>0</td>\n      <td>1</td>\n      <td>0</td>\n      <td>1</td>\n      <td>0</td>\n      <td>0</td>\n      <td>1</td>\n      <td>0</td>\n      <td>1</td>\n      <td>0</td>\n    </tr>\n    <tr>\n      <th>3</th>\n      <td>N</td>\n      <td>42519267.0</td>\n      <td>0</td>\n      <td>0</td>\n      <td>1</td>\n      <td>0</td>\n      <td>0</td>\n      <td>1</td>\n      <td>0</td>\n      <td>0</td>\n      <td>0</td>\n      <td>0</td>\n      <td>0</td>\n      <td>1</td>\n      <td>0</td>\n      <td>0</td>\n      <td>0</td>\n      <td>0</td>\n      <td>0</td>\n      <td>1</td>\n      <td>0</td>\n      <td>0</td>\n      <td>0</td>\n      <td>0</td>\n      <td>0</td>\n      <td>0</td>\n      <td>0</td>\n      <td>0</td>\n      <td>0</td>\n      <td>0</td>\n      <td>0</td>\n      <td>0</td>\n      <td>0</td>\n      <td>0</td>\n      <td>0</td>\n      <td>0</td>\n      <td>0</td>\n      <td>0</td>\n      <td>0</td>\n      <td>0</td>\n      <td>0</td>\n      <td>0</td>\n      <td>0</td>\n      <td>0</td>\n      <td>0</td>\n      <td>0</td>\n      <td>0</td>\n      <td>0</td>\n      <td>0</td>\n      <td>0</td>\n      <td>0</td>\n      <td>0</td>\n      <td>0</td>\n      <td>0</td>\n      <td>0</td>\n      <td>0</td>\n      <td>0</td>\n      <td>0</td>\n      <td>0</td>\n      <td>0</td>\n      <td>0</td>\n      <td>0</td>\n      <td>0</td>\n      <td>0</td>\n      <td>0</td>\n      <td>0</td>\n      <td>0</td>\n      <td>0</td>\n      <td>0</td>\n      <td>0</td>\n      <td>0</td>\n      <td>0</td>\n      <td>0</td>\n      <td>0</td>\n      <td>1</td>\n      <td>0</td>\n      <td>0</td>\n      <td>0</td>\n      <td>0</td>\n      <td>0</td>\n      <td>0</td>\n      <td>0</td>\n      <td>0</td>\n      <td>0</td>\n      <td>0</td>\n      <td>0</td>\n      <td>0</td>\n      <td>0</td>\n      <td>0</td>\n      <td>0</td>\n      <td>0</td>\n      <td>0</td>\n      <td>0</td>\n      <td>0</td>\n      <td>0</td>\n      <td>0</td>\n      <td>0</td>\n      <td>0</td>\n      <td>0</td>\n      <td>0</td>\n      <td>0</td>\n      <td>0</td>\n      <td>0</td>\n      <td>0</td>\n      <td>0</td>\n      <td>0</td>\n      <td>0</td>\n      <td>0</td>\n      <td>0</td>\n      <td>0</td>\n      <td>0</td>\n      <td>0</td>\n      <td>0</td>\n      <td>0</td>\n      <td>0</td>\n      <td>0</td>\n      <td>0</td>\n      <td>0</td>\n      <td>0</td>\n      <td>0</td>\n      <td>0</td>\n      <td>0</td>\n      <td>0</td>\n      <td>0</td>\n      <td>0</td>\n      <td>0</td>\n      <td>0</td>\n      <td>0</td>\n      <td>0</td>\n      <td>0</td>\n      <td>0</td>\n      <td>0</td>\n      <td>0</td>\n      <td>0</td>\n      <td>0</td>\n      <td>0</td>\n      <td>0</td>\n      <td>0</td>\n      <td>0</td>\n      <td>0</td>\n      <td>1</td>\n      <td>0</td>\n      <td>0</td>\n      <td>0</td>\n      <td>0</td>\n      <td>0</td>\n      <td>0</td>\n      <td>0</td>\n      <td>0</td>\n      <td>0</td>\n      <td>0</td>\n      <td>0</td>\n      <td>0</td>\n      <td>0</td>\n      <td>0</td>\n      <td>0</td>\n      <td>0</td>\n      <td>0</td>\n      <td>0</td>\n      <td>0</td>\n      <td>0</td>\n      <td>0</td>\n      <td>0</td>\n      <td>0</td>\n      <td>0</td>\n      <td>0</td>\n      <td>0</td>\n      <td>0</td>\n      <td>0</td>\n      <td>0</td>\n      <td>0</td>\n      <td>0</td>\n      <td>0</td>\n      <td>0</td>\n      <td>0</td>\n      <td>0</td>\n      <td>0</td>\n      <td>0</td>\n      <td>0</td>\n      <td>0</td>\n      <td>0</td>\n      <td>0</td>\n      <td>0</td>\n      <td>0</td>\n      <td>0</td>\n      <td>0</td>\n      <td>0</td>\n      <td>0</td>\n      <td>0</td>\n      <td>0</td>\n      <td>0</td>\n      <td>0</td>\n      <td>0</td>\n      <td>0</td>\n      <td>0</td>\n      <td>0</td>\n      <td>0</td>\n      <td>0</td>\n      <td>0</td>\n      <td>1</td>\n      <td>0</td>\n      <td>0</td>\n      <td>0</td>\n      <td>1</td>\n      <td>0</td>\n      <td>0</td>\n      <td>1</td>\n      <td>0</td>\n      <td>1</td>\n      <td>0</td>\n      <td>1</td>\n      <td>0</td>\n      <td>0</td>\n      <td>0</td>\n      <td>1</td>\n      <td>0</td>\n      <td>0</td>\n      <td>0</td>\n      <td>1</td>\n      <td>0</td>\n      <td>0</td>\n      <td>0</td>\n      <td>1</td>\n      <td>0</td>\n      <td>0</td>\n      <td>0</td>\n      <td>1</td>\n      <td>0</td>\n      <td>0</td>\n      <td>0</td>\n      <td>1</td>\n      <td>0</td>\n      <td>0</td>\n      <td>0</td>\n      <td>1</td>\n      <td>0</td>\n      <td>0</td>\n      <td>1</td>\n      <td>0</td>\n      <td>0</td>\n      <td>0</td>\n      <td>0</td>\n      <td>1</td>\n      <td>0</td>\n      <td>0</td>\n      <td>1</td>\n      <td>0</td>\n      <td>0</td>\n      <td>1</td>\n      <td>0</td>\n      <td>1</td>\n      <td>0</td>\n    </tr>\n    <tr>\n      <th>4</th>\n      <td>Y</td>\n      <td>82637451.0</td>\n      <td>0</td>\n      <td>0</td>\n      <td>1</td>\n      <td>0</td>\n      <td>0</td>\n      <td>1</td>\n      <td>0</td>\n      <td>0</td>\n      <td>0</td>\n      <td>0</td>\n      <td>0</td>\n      <td>0</td>\n      <td>1</td>\n      <td>0</td>\n      <td>0</td>\n      <td>0</td>\n      <td>0</td>\n      <td>1</td>\n      <td>0</td>\n      <td>0</td>\n      <td>0</td>\n      <td>0</td>\n      <td>0</td>\n      <td>0</td>\n      <td>0</td>\n      <td>0</td>\n      <td>0</td>\n      <td>0</td>\n      <td>0</td>\n      <td>0</td>\n      <td>0</td>\n      <td>0</td>\n      <td>0</td>\n      <td>0</td>\n      <td>0</td>\n      <td>0</td>\n      <td>0</td>\n      <td>0</td>\n      <td>0</td>\n      <td>0</td>\n      <td>0</td>\n      <td>0</td>\n      <td>0</td>\n      <td>0</td>\n      <td>0</td>\n      <td>0</td>\n      <td>0</td>\n      <td>0</td>\n      <td>0</td>\n      <td>0</td>\n      <td>0</td>\n      <td>0</td>\n      <td>1</td>\n      <td>0</td>\n      <td>0</td>\n      <td>0</td>\n      <td>0</td>\n      <td>0</td>\n      <td>0</td>\n      <td>0</td>\n      <td>0</td>\n      <td>0</td>\n      <td>0</td>\n      <td>0</td>\n      <td>0</td>\n      <td>0</td>\n      <td>0</td>\n      <td>0</td>\n      <td>0</td>\n      <td>0</td>\n      <td>0</td>\n      <td>0</td>\n      <td>0</td>\n      <td>0</td>\n      <td>0</td>\n      <td>0</td>\n      <td>0</td>\n      <td>0</td>\n      <td>0</td>\n      <td>0</td>\n      <td>0</td>\n      <td>0</td>\n      <td>0</td>\n      <td>0</td>\n      <td>0</td>\n      <td>0</td>\n      <td>0</td>\n      <td>0</td>\n      <td>0</td>\n      <td>0</td>\n      <td>0</td>\n      <td>0</td>\n      <td>0</td>\n      <td>0</td>\n      <td>0</td>\n      <td>0</td>\n      <td>0</td>\n      <td>0</td>\n      <td>0</td>\n      <td>0</td>\n      <td>0</td>\n      <td>0</td>\n      <td>0</td>\n      <td>0</td>\n      <td>0</td>\n      <td>0</td>\n      <td>0</td>\n      <td>0</td>\n      <td>0</td>\n      <td>0</td>\n      <td>0</td>\n      <td>0</td>\n      <td>0</td>\n      <td>0</td>\n      <td>0</td>\n      <td>0</td>\n      <td>0</td>\n      <td>0</td>\n      <td>0</td>\n      <td>0</td>\n      <td>0</td>\n      <td>0</td>\n      <td>0</td>\n      <td>0</td>\n      <td>0</td>\n      <td>0</td>\n      <td>0</td>\n      <td>0</td>\n      <td>0</td>\n      <td>0</td>\n      <td>0</td>\n      <td>0</td>\n      <td>0</td>\n      <td>0</td>\n      <td>0</td>\n      <td>0</td>\n      <td>0</td>\n      <td>0</td>\n      <td>0</td>\n      <td>0</td>\n      <td>0</td>\n      <td>0</td>\n      <td>0</td>\n      <td>0</td>\n      <td>0</td>\n      <td>0</td>\n      <td>1</td>\n      <td>0</td>\n      <td>0</td>\n      <td>0</td>\n      <td>0</td>\n      <td>0</td>\n      <td>0</td>\n      <td>0</td>\n      <td>0</td>\n      <td>0</td>\n      <td>0</td>\n      <td>0</td>\n      <td>0</td>\n      <td>0</td>\n      <td>0</td>\n      <td>0</td>\n      <td>0</td>\n      <td>0</td>\n      <td>0</td>\n      <td>0</td>\n      <td>0</td>\n      <td>0</td>\n      <td>0</td>\n      <td>0</td>\n      <td>0</td>\n      <td>0</td>\n      <td>0</td>\n      <td>0</td>\n      <td>0</td>\n      <td>0</td>\n      <td>0</td>\n      <td>0</td>\n      <td>0</td>\n      <td>0</td>\n      <td>0</td>\n      <td>0</td>\n      <td>0</td>\n      <td>0</td>\n      <td>0</td>\n      <td>0</td>\n      <td>0</td>\n      <td>0</td>\n      <td>0</td>\n      <td>0</td>\n      <td>0</td>\n      <td>0</td>\n      <td>0</td>\n      <td>0</td>\n      <td>0</td>\n      <td>0</td>\n      <td>0</td>\n      <td>1</td>\n      <td>0</td>\n      <td>0</td>\n      <td>0</td>\n      <td>1</td>\n      <td>0</td>\n      <td>1</td>\n      <td>0</td>\n      <td>0</td>\n      <td>1</td>\n      <td>0</td>\n      <td>1</td>\n      <td>0</td>\n      <td>0</td>\n      <td>0</td>\n      <td>1</td>\n      <td>0</td>\n      <td>0</td>\n      <td>0</td>\n      <td>1</td>\n      <td>0</td>\n      <td>0</td>\n      <td>0</td>\n      <td>1</td>\n      <td>0</td>\n      <td>0</td>\n      <td>0</td>\n      <td>1</td>\n      <td>0</td>\n      <td>0</td>\n      <td>0</td>\n      <td>1</td>\n      <td>0</td>\n      <td>0</td>\n      <td>0</td>\n      <td>1</td>\n      <td>0</td>\n      <td>0</td>\n      <td>1</td>\n      <td>0</td>\n      <td>0</td>\n      <td>0</td>\n      <td>0</td>\n      <td>1</td>\n      <td>0</td>\n      <td>0</td>\n      <td>1</td>\n      <td>0</td>\n      <td>0</td>\n      <td>1</td>\n      <td>0</td>\n      <td>1</td>\n      <td>0</td>\n    </tr>\n  </tbody>\n</table>\n</div>"
     },
     "metadata": {},
     "execution_count": 7
    }
   ],
   "source": [
    "# One Hot Encoded df_dis variables\n",
    "one_hot_cols = df.columns.tolist()\n",
    "one_hot_cols.remove('Readmitted')                             # --> Here we remove Readmitted because we dont need encode this.\n",
    "one_hot_cols.remove('Pmo')                                    # --> Here we remove Pmo because we dont need encode this.\n",
    "df_dis_enc = pd.get_dummies(df, columns= one_hot_cols)\n",
    "\n",
    "df_dis_enc.head()"
   ]
  },
  {
   "cell_type": "code",
   "execution_count": 8,
   "metadata": {},
   "outputs": [
    {
     "output_type": "execute_result",
     "data": {
      "text/plain": [
       "   Readmitted  Race  Sex  Age  Time_in_Hospital  Procedures  Medications  \\\n",
       "0           1     2    1    1                 0          58           17   \n",
       "1           0     0    1    2                 0          10           12   \n",
       "2           0     2    0    3                 0          43           15   \n",
       "3           0     2    0    4                 0          50            7   \n",
       "4           1     2    0    5                 0          30           15   \n",
       "5           1     2    0    7                 2          72           11   \n",
       "\n",
       "   Glu_result  A1C_result  Change  Diabetes_Med  metformin  repaglinide  \\\n",
       "0           2           2       1             1          1            1   \n",
       "1           2           2       0             1          1            1   \n",
       "2           2           2       1             1          1            1   \n",
       "3           2           2       1             1          1            1   \n",
       "4           2           2       0             1          1            1   \n",
       "5           2           2       0             1          1            1   \n",
       "\n",
       "   nateglinide  glimepiride  glyburide  pioglitazone  rosiglitazone  miglitol  \\\n",
       "0            1            1          1             1              1         0   \n",
       "1            1            1          1             1              1         0   \n",
       "2            1            1          1             1              1         0   \n",
       "3            1            1          1             1              1         0   \n",
       "4            1            1          1             1              1         0   \n",
       "5            1            1          2             1              1         0   \n",
       "\n",
       "   insulin  glyburide-metformin  glipizide-metformin  metformin-pioglitazone  \\\n",
       "0        3                    1                    0                       0   \n",
       "1        1                    1                    0                       0   \n",
       "2        3                    1                    0                       0   \n",
       "3        2                    1                    0                       0   \n",
       "4        2                    1                    0                       0   \n",
       "5        1                    1                    0                       0   \n",
       "\n",
       "           Pmo  \n",
       "0   55629189.0  \n",
       "1   86047875.0  \n",
       "2   82442376.0  \n",
       "3   42519267.0  \n",
       "4   82637451.0  \n",
       "5  114882984.0  "
      ],
      "text/html": "<div>\n<style scoped>\n    .dataframe tbody tr th:only-of-type {\n        vertical-align: middle;\n    }\n\n    .dataframe tbody tr th {\n        vertical-align: top;\n    }\n\n    .dataframe thead th {\n        text-align: right;\n    }\n</style>\n<table border=\"1\" class=\"dataframe\">\n  <thead>\n    <tr style=\"text-align: right;\">\n      <th></th>\n      <th>Readmitted</th>\n      <th>Race</th>\n      <th>Sex</th>\n      <th>Age</th>\n      <th>Time_in_Hospital</th>\n      <th>Procedures</th>\n      <th>Medications</th>\n      <th>Glu_result</th>\n      <th>A1C_result</th>\n      <th>Change</th>\n      <th>Diabetes_Med</th>\n      <th>metformin</th>\n      <th>repaglinide</th>\n      <th>nateglinide</th>\n      <th>glimepiride</th>\n      <th>glyburide</th>\n      <th>pioglitazone</th>\n      <th>rosiglitazone</th>\n      <th>miglitol</th>\n      <th>insulin</th>\n      <th>glyburide-metformin</th>\n      <th>glipizide-metformin</th>\n      <th>metformin-pioglitazone</th>\n      <th>Pmo</th>\n    </tr>\n  </thead>\n  <tbody>\n    <tr>\n      <th>0</th>\n      <td>1</td>\n      <td>2</td>\n      <td>1</td>\n      <td>1</td>\n      <td>0</td>\n      <td>58</td>\n      <td>17</td>\n      <td>2</td>\n      <td>2</td>\n      <td>1</td>\n      <td>1</td>\n      <td>1</td>\n      <td>1</td>\n      <td>1</td>\n      <td>1</td>\n      <td>1</td>\n      <td>1</td>\n      <td>1</td>\n      <td>0</td>\n      <td>3</td>\n      <td>1</td>\n      <td>0</td>\n      <td>0</td>\n      <td>55629189.0</td>\n    </tr>\n    <tr>\n      <th>1</th>\n      <td>0</td>\n      <td>0</td>\n      <td>1</td>\n      <td>2</td>\n      <td>0</td>\n      <td>10</td>\n      <td>12</td>\n      <td>2</td>\n      <td>2</td>\n      <td>0</td>\n      <td>1</td>\n      <td>1</td>\n      <td>1</td>\n      <td>1</td>\n      <td>1</td>\n      <td>1</td>\n      <td>1</td>\n      <td>1</td>\n      <td>0</td>\n      <td>1</td>\n      <td>1</td>\n      <td>0</td>\n      <td>0</td>\n      <td>86047875.0</td>\n    </tr>\n    <tr>\n      <th>2</th>\n      <td>0</td>\n      <td>2</td>\n      <td>0</td>\n      <td>3</td>\n      <td>0</td>\n      <td>43</td>\n      <td>15</td>\n      <td>2</td>\n      <td>2</td>\n      <td>1</td>\n      <td>1</td>\n      <td>1</td>\n      <td>1</td>\n      <td>1</td>\n      <td>1</td>\n      <td>1</td>\n      <td>1</td>\n      <td>1</td>\n      <td>0</td>\n      <td>3</td>\n      <td>1</td>\n      <td>0</td>\n      <td>0</td>\n      <td>82442376.0</td>\n    </tr>\n    <tr>\n      <th>3</th>\n      <td>0</td>\n      <td>2</td>\n      <td>0</td>\n      <td>4</td>\n      <td>0</td>\n      <td>50</td>\n      <td>7</td>\n      <td>2</td>\n      <td>2</td>\n      <td>1</td>\n      <td>1</td>\n      <td>1</td>\n      <td>1</td>\n      <td>1</td>\n      <td>1</td>\n      <td>1</td>\n      <td>1</td>\n      <td>1</td>\n      <td>0</td>\n      <td>2</td>\n      <td>1</td>\n      <td>0</td>\n      <td>0</td>\n      <td>42519267.0</td>\n    </tr>\n    <tr>\n      <th>4</th>\n      <td>1</td>\n      <td>2</td>\n      <td>0</td>\n      <td>5</td>\n      <td>0</td>\n      <td>30</td>\n      <td>15</td>\n      <td>2</td>\n      <td>2</td>\n      <td>0</td>\n      <td>1</td>\n      <td>1</td>\n      <td>1</td>\n      <td>1</td>\n      <td>1</td>\n      <td>1</td>\n      <td>1</td>\n      <td>1</td>\n      <td>0</td>\n      <td>2</td>\n      <td>1</td>\n      <td>0</td>\n      <td>0</td>\n      <td>82637451.0</td>\n    </tr>\n    <tr>\n      <th>5</th>\n      <td>1</td>\n      <td>2</td>\n      <td>0</td>\n      <td>7</td>\n      <td>2</td>\n      <td>72</td>\n      <td>11</td>\n      <td>2</td>\n      <td>2</td>\n      <td>0</td>\n      <td>1</td>\n      <td>1</td>\n      <td>1</td>\n      <td>1</td>\n      <td>1</td>\n      <td>2</td>\n      <td>1</td>\n      <td>1</td>\n      <td>0</td>\n      <td>1</td>\n      <td>1</td>\n      <td>0</td>\n      <td>0</td>\n      <td>114882984.0</td>\n    </tr>\n  </tbody>\n</table>\n</div>"
     },
     "metadata": {},
     "execution_count": 8
    }
   ],
   "source": [
    "# Label Encoded using LabelEncoder()\n",
    "df_con_enc = df.apply(LabelEncoder().fit_transform)\n",
    "df_con_enc = df_con_enc.drop('Pmo', axis= 1)\n",
    "df_con_enc['Pmo'] = df['Pmo']\n",
    "df_con_enc.head(6)"
   ]
  },
  {
   "source": [
    "## 4. Feature Reduction / Selection\n",
    "\n",
    "Once we have our features ready to use, we might find that the number of features available is too large to be run in a reasonable timeframe by our machine learning algorithms. There's a number of options available to us for feature reduction and feature selection.\n",
    "\n",
    "\n",
    "### Feature Importance\n",
    "\n",
    "<b> Feature importance </b> refers to techniques that assign a score to input features based on how useful they are at predicting a target variable.\n",
    "\n",
    "\n",
    "Random forest consists of a number of decision trees. Every node in the decision trees is a condition on a single feature, designed to split the dataset into two so that similar response values end up in the same set. The measure based on which the (locally) optimal condition is chosen is called impurity. When training a tree, it can be computed how much each feature decreases the weighted impurity in a tree. For a forest, the impurity decrease from each feature can be averaged and the features are ranked according to this measure. This is the feature importance measure exposed in sklearn’s Random Forest implementations."
   ],
   "cell_type": "markdown",
   "metadata": {}
  },
  {
   "cell_type": "code",
   "execution_count": 9,
   "metadata": {},
   "outputs": [
    {
     "output_type": "execute_result",
     "data": {
      "text/plain": [
       "<AxesSubplot:>"
      ]
     },
     "metadata": {},
     "execution_count": 9
    },
    {
     "output_type": "display_data",
     "data": {
      "text/plain": "<Figure size 1440x792 with 1 Axes>",
      "image/svg+xml": "<?xml version=\"1.0\" encoding=\"utf-8\" standalone=\"no\"?>\r\n<!DOCTYPE svg PUBLIC \"-//W3C//DTD SVG 1.1//EN\"\r\n  \"http://www.w3.org/Graphics/SVG/1.1/DTD/svg11.dtd\">\r\n<!-- Created with matplotlib (https://matplotlib.org/) -->\r\n<svg height=\"672.223438pt\" version=\"1.1\" viewBox=\"0 0 1412.31 672.223438\" width=\"1412.31pt\" xmlns=\"http://www.w3.org/2000/svg\" xmlns:xlink=\"http://www.w3.org/1999/xlink\">\r\n <metadata>\r\n  <rdf:RDF xmlns:cc=\"http://creativecommons.org/ns#\" xmlns:dc=\"http://purl.org/dc/elements/1.1/\" xmlns:rdf=\"http://www.w3.org/1999/02/22-rdf-syntax-ns#\">\r\n   <cc:Work>\r\n    <dc:type rdf:resource=\"http://purl.org/dc/dcmitype/StillImage\"/>\r\n    <dc:date>2021-01-31T10:31:13.961383</dc:date>\r\n    <dc:format>image/svg+xml</dc:format>\r\n    <dc:creator>\r\n     <cc:Agent>\r\n      <dc:title>Matplotlib v3.3.2, https://matplotlib.org/</dc:title>\r\n     </cc:Agent>\r\n    </dc:creator>\r\n   </cc:Work>\r\n  </rdf:RDF>\r\n </metadata>\r\n <defs>\r\n  <style type=\"text/css\">*{stroke-linecap:butt;stroke-linejoin:round;}</style>\r\n </defs>\r\n <g id=\"figure_1\">\r\n  <g id=\"patch_1\">\r\n   <path d=\"M 0 672.223438 \r\nL 1412.31 672.223438 \r\nL 1412.31 0 \r\nL 0 0 \r\nz\r\n\" style=\"fill:#ffffff;\"/>\r\n  </g>\r\n  <g id=\"axes_1\">\r\n   <g id=\"patch_2\">\r\n    <path d=\"M 152.31 648.72 \r\nL 1405.11 648.72 \r\nL 1405.11 7.2 \r\nL 152.31 7.2 \r\nz\r\n\" style=\"fill:#ffffff;\"/>\r\n   </g>\r\n   <g id=\"matplotlib.axis_1\">\r\n    <g id=\"xtick_1\">\r\n     <g id=\"line2d_1\">\r\n      <path clip-path=\"url(#p7e5d16cb10)\" d=\"M 152.31 648.72 \r\nL 152.31 7.2 \r\n\" style=\"fill:none;stroke:#cccccc;stroke-linecap:round;\"/>\r\n     </g>\r\n     <g id=\"line2d_2\"/>\r\n     <g id=\"text_1\">\r\n      <!-- 0.00 -->\r\n      <g style=\"fill:#262626;\" transform=\"translate(138.687344 662.240938)scale(0.14 -0.14)\">\r\n       <defs>\r\n        <path d=\"M 4.15625 35.296875 \r\nQ 4.15625 48 6.765625 55.734375 \r\nQ 9.375 63.484375 14.515625 67.671875 \r\nQ 19.671875 71.875 27.484375 71.875 \r\nQ 33.25 71.875 37.59375 69.546875 \r\nQ 41.9375 67.234375 44.765625 62.859375 \r\nQ 47.609375 58.5 49.21875 52.21875 \r\nQ 50.828125 45.953125 50.828125 35.296875 \r\nQ 50.828125 22.703125 48.234375 14.96875 \r\nQ 45.65625 7.234375 40.5 3 \r\nQ 35.359375 -1.21875 27.484375 -1.21875 \r\nQ 17.140625 -1.21875 11.234375 6.203125 \r\nQ 4.15625 15.140625 4.15625 35.296875 \r\nz\r\nM 13.1875 35.296875 \r\nQ 13.1875 17.671875 17.3125 11.828125 \r\nQ 21.4375 6 27.484375 6 \r\nQ 33.546875 6 37.671875 11.859375 \r\nQ 41.796875 17.71875 41.796875 35.296875 \r\nQ 41.796875 52.984375 37.671875 58.78125 \r\nQ 33.546875 64.59375 27.390625 64.59375 \r\nQ 21.34375 64.59375 17.71875 59.46875 \r\nQ 13.1875 52.9375 13.1875 35.296875 \r\nz\r\n\" id=\"ArialMT-48\"/>\r\n        <path d=\"M 9.078125 0 \r\nL 9.078125 10.015625 \r\nL 19.09375 10.015625 \r\nL 19.09375 0 \r\nz\r\n\" id=\"ArialMT-46\"/>\r\n       </defs>\r\n       <use xlink:href=\"#ArialMT-48\"/>\r\n       <use x=\"55.615234\" xlink:href=\"#ArialMT-46\"/>\r\n       <use x=\"83.398438\" xlink:href=\"#ArialMT-48\"/>\r\n       <use x=\"139.013672\" xlink:href=\"#ArialMT-48\"/>\r\n      </g>\r\n     </g>\r\n    </g>\r\n    <g id=\"xtick_2\">\r\n     <g id=\"line2d_3\">\r\n      <path clip-path=\"url(#p7e5d16cb10)\" d=\"M 346.768413 648.72 \r\nL 346.768413 7.2 \r\n\" style=\"fill:none;stroke:#cccccc;stroke-linecap:round;\"/>\r\n     </g>\r\n     <g id=\"line2d_4\"/>\r\n     <g id=\"text_2\">\r\n      <!-- 0.05 -->\r\n      <g style=\"fill:#262626;\" transform=\"translate(333.145757 662.240938)scale(0.14 -0.14)\">\r\n       <defs>\r\n        <path d=\"M 4.15625 18.75 \r\nL 13.375 19.53125 \r\nQ 14.40625 12.796875 18.140625 9.390625 \r\nQ 21.875 6 27.15625 6 \r\nQ 33.5 6 37.890625 10.78125 \r\nQ 42.28125 15.578125 42.28125 23.484375 \r\nQ 42.28125 31 38.0625 35.34375 \r\nQ 33.84375 39.703125 27 39.703125 \r\nQ 22.75 39.703125 19.328125 37.765625 \r\nQ 15.921875 35.84375 13.96875 32.765625 \r\nL 5.71875 33.84375 \r\nL 12.640625 70.609375 \r\nL 48.25 70.609375 \r\nL 48.25 62.203125 \r\nL 19.671875 62.203125 \r\nL 15.828125 42.96875 \r\nQ 22.265625 47.46875 29.34375 47.46875 \r\nQ 38.71875 47.46875 45.15625 40.96875 \r\nQ 51.609375 34.46875 51.609375 24.265625 \r\nQ 51.609375 14.546875 45.953125 7.46875 \r\nQ 39.0625 -1.21875 27.15625 -1.21875 \r\nQ 17.390625 -1.21875 11.203125 4.25 \r\nQ 5.03125 9.71875 4.15625 18.75 \r\nz\r\n\" id=\"ArialMT-53\"/>\r\n       </defs>\r\n       <use xlink:href=\"#ArialMT-48\"/>\r\n       <use x=\"55.615234\" xlink:href=\"#ArialMT-46\"/>\r\n       <use x=\"83.398438\" xlink:href=\"#ArialMT-48\"/>\r\n       <use x=\"139.013672\" xlink:href=\"#ArialMT-53\"/>\r\n      </g>\r\n     </g>\r\n    </g>\r\n    <g id=\"xtick_3\">\r\n     <g id=\"line2d_5\">\r\n      <path clip-path=\"url(#p7e5d16cb10)\" d=\"M 541.226826 648.72 \r\nL 541.226826 7.2 \r\n\" style=\"fill:none;stroke:#cccccc;stroke-linecap:round;\"/>\r\n     </g>\r\n     <g id=\"line2d_6\"/>\r\n     <g id=\"text_3\">\r\n      <!-- 0.10 -->\r\n      <g style=\"fill:#262626;\" transform=\"translate(527.60417 662.240938)scale(0.14 -0.14)\">\r\n       <defs>\r\n        <path d=\"M 37.25 0 \r\nL 28.46875 0 \r\nL 28.46875 56 \r\nQ 25.296875 52.984375 20.140625 49.953125 \r\nQ 14.984375 46.921875 10.890625 45.40625 \r\nL 10.890625 53.90625 \r\nQ 18.265625 57.375 23.78125 62.296875 \r\nQ 29.296875 67.234375 31.59375 71.875 \r\nL 37.25 71.875 \r\nz\r\n\" id=\"ArialMT-49\"/>\r\n       </defs>\r\n       <use xlink:href=\"#ArialMT-48\"/>\r\n       <use x=\"55.615234\" xlink:href=\"#ArialMT-46\"/>\r\n       <use x=\"83.398438\" xlink:href=\"#ArialMT-49\"/>\r\n       <use x=\"139.013672\" xlink:href=\"#ArialMT-48\"/>\r\n      </g>\r\n     </g>\r\n    </g>\r\n    <g id=\"xtick_4\">\r\n     <g id=\"line2d_7\">\r\n      <path clip-path=\"url(#p7e5d16cb10)\" d=\"M 735.685239 648.72 \r\nL 735.685239 7.2 \r\n\" style=\"fill:none;stroke:#cccccc;stroke-linecap:round;\"/>\r\n     </g>\r\n     <g id=\"line2d_8\"/>\r\n     <g id=\"text_4\">\r\n      <!-- 0.15 -->\r\n      <g style=\"fill:#262626;\" transform=\"translate(722.062583 662.240938)scale(0.14 -0.14)\">\r\n       <use xlink:href=\"#ArialMT-48\"/>\r\n       <use x=\"55.615234\" xlink:href=\"#ArialMT-46\"/>\r\n       <use x=\"83.398438\" xlink:href=\"#ArialMT-49\"/>\r\n       <use x=\"139.013672\" xlink:href=\"#ArialMT-53\"/>\r\n      </g>\r\n     </g>\r\n    </g>\r\n    <g id=\"xtick_5\">\r\n     <g id=\"line2d_9\">\r\n      <path clip-path=\"url(#p7e5d16cb10)\" d=\"M 930.143652 648.72 \r\nL 930.143652 7.2 \r\n\" style=\"fill:none;stroke:#cccccc;stroke-linecap:round;\"/>\r\n     </g>\r\n     <g id=\"line2d_10\"/>\r\n     <g id=\"text_5\">\r\n      <!-- 0.20 -->\r\n      <g style=\"fill:#262626;\" transform=\"translate(916.520995 662.240938)scale(0.14 -0.14)\">\r\n       <defs>\r\n        <path d=\"M 50.34375 8.453125 \r\nL 50.34375 0 \r\nL 3.03125 0 \r\nQ 2.9375 3.171875 4.046875 6.109375 \r\nQ 5.859375 10.9375 9.828125 15.625 \r\nQ 13.8125 20.3125 21.34375 26.46875 \r\nQ 33.015625 36.03125 37.109375 41.625 \r\nQ 41.21875 47.21875 41.21875 52.203125 \r\nQ 41.21875 57.421875 37.46875 61 \r\nQ 33.734375 64.59375 27.734375 64.59375 \r\nQ 21.390625 64.59375 17.578125 60.78125 \r\nQ 13.765625 56.984375 13.71875 50.25 \r\nL 4.6875 51.171875 \r\nQ 5.609375 61.28125 11.65625 66.578125 \r\nQ 17.71875 71.875 27.9375 71.875 \r\nQ 38.234375 71.875 44.234375 66.15625 \r\nQ 50.25 60.453125 50.25 52 \r\nQ 50.25 47.703125 48.484375 43.546875 \r\nQ 46.734375 39.40625 42.65625 34.8125 \r\nQ 38.578125 30.21875 29.109375 22.21875 \r\nQ 21.1875 15.578125 18.9375 13.203125 \r\nQ 16.703125 10.84375 15.234375 8.453125 \r\nz\r\n\" id=\"ArialMT-50\"/>\r\n       </defs>\r\n       <use xlink:href=\"#ArialMT-48\"/>\r\n       <use x=\"55.615234\" xlink:href=\"#ArialMT-46\"/>\r\n       <use x=\"83.398438\" xlink:href=\"#ArialMT-50\"/>\r\n       <use x=\"139.013672\" xlink:href=\"#ArialMT-48\"/>\r\n      </g>\r\n     </g>\r\n    </g>\r\n    <g id=\"xtick_6\">\r\n     <g id=\"line2d_11\">\r\n      <path clip-path=\"url(#p7e5d16cb10)\" d=\"M 1124.602065 648.72 \r\nL 1124.602065 7.2 \r\n\" style=\"fill:none;stroke:#cccccc;stroke-linecap:round;\"/>\r\n     </g>\r\n     <g id=\"line2d_12\"/>\r\n     <g id=\"text_6\">\r\n      <!-- 0.25 -->\r\n      <g style=\"fill:#262626;\" transform=\"translate(1110.979408 662.240938)scale(0.14 -0.14)\">\r\n       <use xlink:href=\"#ArialMT-48\"/>\r\n       <use x=\"55.615234\" xlink:href=\"#ArialMT-46\"/>\r\n       <use x=\"83.398438\" xlink:href=\"#ArialMT-50\"/>\r\n       <use x=\"139.013672\" xlink:href=\"#ArialMT-53\"/>\r\n      </g>\r\n     </g>\r\n    </g>\r\n    <g id=\"xtick_7\">\r\n     <g id=\"line2d_13\">\r\n      <path clip-path=\"url(#p7e5d16cb10)\" d=\"M 1319.060478 648.72 \r\nL 1319.060478 7.2 \r\n\" style=\"fill:none;stroke:#cccccc;stroke-linecap:round;\"/>\r\n     </g>\r\n     <g id=\"line2d_14\"/>\r\n     <g id=\"text_7\">\r\n      <!-- 0.30 -->\r\n      <g style=\"fill:#262626;\" transform=\"translate(1305.437821 662.240938)scale(0.14 -0.14)\">\r\n       <defs>\r\n        <path d=\"M 4.203125 18.890625 \r\nL 12.984375 20.0625 \r\nQ 14.5 12.59375 18.140625 9.296875 \r\nQ 21.78125 6 27 6 \r\nQ 33.203125 6 37.46875 10.296875 \r\nQ 41.75 14.59375 41.75 20.953125 \r\nQ 41.75 27 37.796875 30.921875 \r\nQ 33.84375 34.859375 27.734375 34.859375 \r\nQ 25.25 34.859375 21.53125 33.890625 \r\nL 22.515625 41.609375 \r\nQ 23.390625 41.5 23.921875 41.5 \r\nQ 29.546875 41.5 34.03125 44.421875 \r\nQ 38.53125 47.359375 38.53125 53.46875 \r\nQ 38.53125 58.296875 35.25 61.46875 \r\nQ 31.984375 64.65625 26.8125 64.65625 \r\nQ 21.6875 64.65625 18.265625 61.421875 \r\nQ 14.84375 58.203125 13.875 51.765625 \r\nL 5.078125 53.328125 \r\nQ 6.6875 62.15625 12.390625 67.015625 \r\nQ 18.109375 71.875 26.609375 71.875 \r\nQ 32.46875 71.875 37.390625 69.359375 \r\nQ 42.328125 66.84375 44.9375 62.5 \r\nQ 47.5625 58.15625 47.5625 53.265625 \r\nQ 47.5625 48.640625 45.0625 44.828125 \r\nQ 42.578125 41.015625 37.703125 38.765625 \r\nQ 44.046875 37.3125 47.5625 32.6875 \r\nQ 51.078125 28.078125 51.078125 21.140625 \r\nQ 51.078125 11.765625 44.234375 5.25 \r\nQ 37.40625 -1.265625 26.953125 -1.265625 \r\nQ 17.53125 -1.265625 11.296875 4.34375 \r\nQ 5.078125 9.96875 4.203125 18.890625 \r\nz\r\n\" id=\"ArialMT-51\"/>\r\n       </defs>\r\n       <use xlink:href=\"#ArialMT-48\"/>\r\n       <use x=\"55.615234\" xlink:href=\"#ArialMT-46\"/>\r\n       <use x=\"83.398438\" xlink:href=\"#ArialMT-51\"/>\r\n       <use x=\"139.013672\" xlink:href=\"#ArialMT-48\"/>\r\n      </g>\r\n     </g>\r\n    </g>\r\n   </g>\r\n   <g id=\"matplotlib.axis_2\">\r\n    <g id=\"ytick_1\">\r\n     <g id=\"line2d_15\">\r\n      <path clip-path=\"url(#p7e5d16cb10)\" d=\"M 152.31 634.14 \r\nL 1405.11 634.14 \r\n\" style=\"fill:none;stroke:#cccccc;stroke-linecap:round;\"/>\r\n     </g>\r\n     <g id=\"line2d_16\"/>\r\n     <g id=\"text_8\">\r\n      <!-- metformin-pioglitazone -->\r\n      <g style=\"fill:#262626;\" transform=\"translate(7.2 639.235781)scale(0.14 -0.14)\">\r\n       <defs>\r\n        <path d=\"M 6.59375 0 \r\nL 6.59375 51.859375 \r\nL 14.453125 51.859375 \r\nL 14.453125 44.578125 \r\nQ 16.890625 48.390625 20.9375 50.703125 \r\nQ 25 53.03125 30.171875 53.03125 \r\nQ 35.9375 53.03125 39.625 50.640625 \r\nQ 43.3125 48.25 44.828125 43.953125 \r\nQ 50.984375 53.03125 60.84375 53.03125 \r\nQ 68.5625 53.03125 72.703125 48.75 \r\nQ 76.859375 44.484375 76.859375 35.59375 \r\nL 76.859375 0 \r\nL 68.109375 0 \r\nL 68.109375 32.671875 \r\nQ 68.109375 37.9375 67.25 40.25 \r\nQ 66.40625 42.578125 64.15625 43.984375 \r\nQ 61.921875 45.40625 58.890625 45.40625 \r\nQ 53.421875 45.40625 49.796875 41.765625 \r\nQ 46.1875 38.140625 46.1875 30.125 \r\nL 46.1875 0 \r\nL 37.40625 0 \r\nL 37.40625 33.6875 \r\nQ 37.40625 39.546875 35.25 42.46875 \r\nQ 33.109375 45.40625 28.21875 45.40625 \r\nQ 24.515625 45.40625 21.359375 43.453125 \r\nQ 18.21875 41.5 16.796875 37.734375 \r\nQ 15.375 33.984375 15.375 26.90625 \r\nL 15.375 0 \r\nz\r\n\" id=\"ArialMT-109\"/>\r\n        <path d=\"M 42.09375 16.703125 \r\nL 51.171875 15.578125 \r\nQ 49.03125 7.625 43.21875 3.21875 \r\nQ 37.40625 -1.171875 28.375 -1.171875 \r\nQ 17 -1.171875 10.328125 5.828125 \r\nQ 3.65625 12.84375 3.65625 25.484375 \r\nQ 3.65625 38.578125 10.390625 45.796875 \r\nQ 17.140625 53.03125 27.875 53.03125 \r\nQ 38.28125 53.03125 44.875 45.953125 \r\nQ 51.46875 38.875 51.46875 26.03125 \r\nQ 51.46875 25.25 51.421875 23.6875 \r\nL 12.75 23.6875 \r\nQ 13.234375 15.140625 17.578125 10.59375 \r\nQ 21.921875 6.0625 28.421875 6.0625 \r\nQ 33.25 6.0625 36.671875 8.59375 \r\nQ 40.09375 11.140625 42.09375 16.703125 \r\nz\r\nM 13.234375 30.90625 \r\nL 42.1875 30.90625 \r\nQ 41.609375 37.453125 38.875 40.71875 \r\nQ 34.671875 45.796875 27.984375 45.796875 \r\nQ 21.921875 45.796875 17.796875 41.75 \r\nQ 13.671875 37.703125 13.234375 30.90625 \r\nz\r\n\" id=\"ArialMT-101\"/>\r\n        <path d=\"M 25.78125 7.859375 \r\nL 27.046875 0.09375 \r\nQ 23.34375 -0.6875 20.40625 -0.6875 \r\nQ 15.625 -0.6875 12.984375 0.828125 \r\nQ 10.359375 2.34375 9.28125 4.8125 \r\nQ 8.203125 7.28125 8.203125 15.1875 \r\nL 8.203125 45.015625 \r\nL 1.765625 45.015625 \r\nL 1.765625 51.859375 \r\nL 8.203125 51.859375 \r\nL 8.203125 64.703125 \r\nL 16.9375 69.96875 \r\nL 16.9375 51.859375 \r\nL 25.78125 51.859375 \r\nL 25.78125 45.015625 \r\nL 16.9375 45.015625 \r\nL 16.9375 14.703125 \r\nQ 16.9375 10.9375 17.40625 9.859375 \r\nQ 17.875 8.796875 18.921875 8.15625 \r\nQ 19.96875 7.515625 21.921875 7.515625 \r\nQ 23.390625 7.515625 25.78125 7.859375 \r\nz\r\n\" id=\"ArialMT-116\"/>\r\n        <path d=\"M 8.6875 0 \r\nL 8.6875 45.015625 \r\nL 0.921875 45.015625 \r\nL 0.921875 51.859375 \r\nL 8.6875 51.859375 \r\nL 8.6875 57.375 \r\nQ 8.6875 62.59375 9.625 65.140625 \r\nQ 10.890625 68.5625 14.078125 70.671875 \r\nQ 17.28125 72.796875 23.046875 72.796875 \r\nQ 26.765625 72.796875 31.25 71.921875 \r\nL 29.9375 64.265625 \r\nQ 27.203125 64.75 24.75 64.75 \r\nQ 20.75 64.75 19.09375 63.03125 \r\nQ 17.4375 61.328125 17.4375 56.640625 \r\nL 17.4375 51.859375 \r\nL 27.546875 51.859375 \r\nL 27.546875 45.015625 \r\nL 17.4375 45.015625 \r\nL 17.4375 0 \r\nz\r\n\" id=\"ArialMT-102\"/>\r\n        <path d=\"M 3.328125 25.921875 \r\nQ 3.328125 40.328125 11.328125 47.265625 \r\nQ 18.015625 53.03125 27.640625 53.03125 \r\nQ 38.328125 53.03125 45.109375 46.015625 \r\nQ 51.90625 39.015625 51.90625 26.65625 \r\nQ 51.90625 16.65625 48.90625 10.90625 \r\nQ 45.90625 5.171875 40.15625 2 \r\nQ 34.421875 -1.171875 27.640625 -1.171875 \r\nQ 16.75 -1.171875 10.03125 5.8125 \r\nQ 3.328125 12.796875 3.328125 25.921875 \r\nz\r\nM 12.359375 25.921875 \r\nQ 12.359375 15.96875 16.703125 11.015625 \r\nQ 21.046875 6.0625 27.640625 6.0625 \r\nQ 34.1875 6.0625 38.53125 11.03125 \r\nQ 42.875 16.015625 42.875 26.21875 \r\nQ 42.875 35.84375 38.5 40.796875 \r\nQ 34.125 45.75 27.640625 45.75 \r\nQ 21.046875 45.75 16.703125 40.8125 \r\nQ 12.359375 35.890625 12.359375 25.921875 \r\nz\r\n\" id=\"ArialMT-111\"/>\r\n        <path d=\"M 6.5 0 \r\nL 6.5 51.859375 \r\nL 14.40625 51.859375 \r\nL 14.40625 44 \r\nQ 17.4375 49.515625 20 51.265625 \r\nQ 22.5625 53.03125 25.640625 53.03125 \r\nQ 30.078125 53.03125 34.671875 50.203125 \r\nL 31.640625 42.046875 \r\nQ 28.421875 43.953125 25.203125 43.953125 \r\nQ 22.3125 43.953125 20.015625 42.21875 \r\nQ 17.71875 40.484375 16.75 37.40625 \r\nQ 15.28125 32.71875 15.28125 27.15625 \r\nL 15.28125 0 \r\nz\r\n\" id=\"ArialMT-114\"/>\r\n        <path d=\"M 6.640625 61.46875 \r\nL 6.640625 71.578125 \r\nL 15.4375 71.578125 \r\nL 15.4375 61.46875 \r\nz\r\nM 6.640625 0 \r\nL 6.640625 51.859375 \r\nL 15.4375 51.859375 \r\nL 15.4375 0 \r\nz\r\n\" id=\"ArialMT-105\"/>\r\n        <path d=\"M 6.59375 0 \r\nL 6.59375 51.859375 \r\nL 14.5 51.859375 \r\nL 14.5 44.484375 \r\nQ 20.21875 53.03125 31 53.03125 \r\nQ 35.6875 53.03125 39.625 51.34375 \r\nQ 43.5625 49.65625 45.515625 46.921875 \r\nQ 47.46875 44.1875 48.25 40.4375 \r\nQ 48.734375 37.984375 48.734375 31.890625 \r\nL 48.734375 0 \r\nL 39.9375 0 \r\nL 39.9375 31.546875 \r\nQ 39.9375 36.921875 38.90625 39.578125 \r\nQ 37.890625 42.234375 35.28125 43.8125 \r\nQ 32.671875 45.40625 29.15625 45.40625 \r\nQ 23.53125 45.40625 19.453125 41.84375 \r\nQ 15.375 38.28125 15.375 28.328125 \r\nL 15.375 0 \r\nz\r\n\" id=\"ArialMT-110\"/>\r\n        <path d=\"M 3.171875 21.484375 \r\nL 3.171875 30.328125 \r\nL 30.171875 30.328125 \r\nL 30.171875 21.484375 \r\nz\r\n\" id=\"ArialMT-45\"/>\r\n        <path d=\"M 6.59375 -19.875 \r\nL 6.59375 51.859375 \r\nL 14.59375 51.859375 \r\nL 14.59375 45.125 \r\nQ 17.4375 49.078125 21 51.046875 \r\nQ 24.5625 53.03125 29.640625 53.03125 \r\nQ 36.28125 53.03125 41.359375 49.609375 \r\nQ 46.4375 46.1875 49.015625 39.953125 \r\nQ 51.609375 33.734375 51.609375 26.3125 \r\nQ 51.609375 18.359375 48.75 11.984375 \r\nQ 45.90625 5.609375 40.453125 2.21875 \r\nQ 35.015625 -1.171875 29 -1.171875 \r\nQ 24.609375 -1.171875 21.109375 0.6875 \r\nQ 17.625 2.546875 15.375 5.375 \r\nL 15.375 -19.875 \r\nz\r\nM 14.546875 25.640625 \r\nQ 14.546875 15.625 18.59375 10.84375 \r\nQ 22.65625 6.0625 28.421875 6.0625 \r\nQ 34.28125 6.0625 38.453125 11.015625 \r\nQ 42.625 15.96875 42.625 26.375 \r\nQ 42.625 36.28125 38.546875 41.203125 \r\nQ 34.46875 46.140625 28.8125 46.140625 \r\nQ 23.1875 46.140625 18.859375 40.890625 \r\nQ 14.546875 35.640625 14.546875 25.640625 \r\nz\r\n\" id=\"ArialMT-112\"/>\r\n        <path d=\"M 4.984375 -4.296875 \r\nL 13.53125 -5.5625 \r\nQ 14.0625 -9.515625 16.5 -11.328125 \r\nQ 19.78125 -13.765625 25.4375 -13.765625 \r\nQ 31.546875 -13.765625 34.859375 -11.328125 \r\nQ 38.1875 -8.890625 39.359375 -4.5 \r\nQ 40.046875 -1.8125 39.984375 6.78125 \r\nQ 34.234375 0 25.640625 0 \r\nQ 14.9375 0 9.078125 7.71875 \r\nQ 3.21875 15.4375 3.21875 26.21875 \r\nQ 3.21875 33.640625 5.90625 39.90625 \r\nQ 8.59375 46.1875 13.6875 49.609375 \r\nQ 18.796875 53.03125 25.6875 53.03125 \r\nQ 34.859375 53.03125 40.828125 45.609375 \r\nL 40.828125 51.859375 \r\nL 48.921875 51.859375 \r\nL 48.921875 7.03125 \r\nQ 48.921875 -5.078125 46.453125 -10.125 \r\nQ 44 -15.1875 38.640625 -18.109375 \r\nQ 33.296875 -21.046875 25.484375 -21.046875 \r\nQ 16.21875 -21.046875 10.5 -16.875 \r\nQ 4.78125 -12.703125 4.984375 -4.296875 \r\nz\r\nM 12.25 26.859375 \r\nQ 12.25 16.65625 16.296875 11.96875 \r\nQ 20.359375 7.28125 26.46875 7.28125 \r\nQ 32.515625 7.28125 36.609375 11.9375 \r\nQ 40.71875 16.609375 40.71875 26.5625 \r\nQ 40.71875 36.078125 36.5 40.90625 \r\nQ 32.28125 45.75 26.3125 45.75 \r\nQ 20.453125 45.75 16.34375 40.984375 \r\nQ 12.25 36.234375 12.25 26.859375 \r\nz\r\n\" id=\"ArialMT-103\"/>\r\n        <path d=\"M 6.390625 0 \r\nL 6.390625 71.578125 \r\nL 15.1875 71.578125 \r\nL 15.1875 0 \r\nz\r\n\" id=\"ArialMT-108\"/>\r\n        <path d=\"M 40.4375 6.390625 \r\nQ 35.546875 2.25 31.03125 0.53125 \r\nQ 26.515625 -1.171875 21.34375 -1.171875 \r\nQ 12.796875 -1.171875 8.203125 3 \r\nQ 3.609375 7.171875 3.609375 13.671875 \r\nQ 3.609375 17.484375 5.34375 20.625 \r\nQ 7.078125 23.78125 9.890625 25.6875 \r\nQ 12.703125 27.59375 16.21875 28.5625 \r\nQ 18.796875 29.25 24.03125 29.890625 \r\nQ 34.671875 31.15625 39.703125 32.90625 \r\nQ 39.75 34.71875 39.75 35.203125 \r\nQ 39.75 40.578125 37.25 42.78125 \r\nQ 33.890625 45.75 27.25 45.75 \r\nQ 21.046875 45.75 18.09375 43.578125 \r\nQ 15.140625 41.40625 13.71875 35.890625 \r\nL 5.125 37.0625 \r\nQ 6.296875 42.578125 8.984375 45.96875 \r\nQ 11.671875 49.359375 16.75 51.1875 \r\nQ 21.828125 53.03125 28.515625 53.03125 \r\nQ 35.15625 53.03125 39.296875 51.46875 \r\nQ 43.453125 49.90625 45.40625 47.53125 \r\nQ 47.359375 45.171875 48.140625 41.546875 \r\nQ 48.578125 39.3125 48.578125 33.453125 \r\nL 48.578125 21.734375 \r\nQ 48.578125 9.46875 49.140625 6.21875 \r\nQ 49.703125 2.984375 51.375 0 \r\nL 42.1875 0 \r\nQ 40.828125 2.734375 40.4375 6.390625 \r\nz\r\nM 39.703125 26.03125 \r\nQ 34.90625 24.078125 25.34375 22.703125 \r\nQ 19.921875 21.921875 17.671875 20.9375 \r\nQ 15.4375 19.96875 14.203125 18.09375 \r\nQ 12.984375 16.21875 12.984375 13.921875 \r\nQ 12.984375 10.40625 15.640625 8.0625 \r\nQ 18.3125 5.71875 23.4375 5.71875 \r\nQ 28.515625 5.71875 32.46875 7.9375 \r\nQ 36.421875 10.15625 38.28125 14.015625 \r\nQ 39.703125 17 39.703125 22.796875 \r\nz\r\n\" id=\"ArialMT-97\"/>\r\n        <path d=\"M 1.953125 0 \r\nL 1.953125 7.125 \r\nL 34.96875 45.015625 \r\nQ 29.34375 44.734375 25.046875 44.734375 \r\nL 3.90625 44.734375 \r\nL 3.90625 51.859375 \r\nL 46.296875 51.859375 \r\nL 46.296875 46.046875 \r\nL 18.21875 13.140625 \r\nL 12.796875 7.125 \r\nQ 18.703125 7.5625 23.875 7.5625 \r\nL 47.859375 7.5625 \r\nL 47.859375 0 \r\nz\r\n\" id=\"ArialMT-122\"/>\r\n       </defs>\r\n       <use xlink:href=\"#ArialMT-109\"/>\r\n       <use x=\"83.300781\" xlink:href=\"#ArialMT-101\"/>\r\n       <use x=\"138.916016\" xlink:href=\"#ArialMT-116\"/>\r\n       <use x=\"166.699219\" xlink:href=\"#ArialMT-102\"/>\r\n       <use x=\"194.482422\" xlink:href=\"#ArialMT-111\"/>\r\n       <use x=\"250.097656\" xlink:href=\"#ArialMT-114\"/>\r\n       <use x=\"283.398438\" xlink:href=\"#ArialMT-109\"/>\r\n       <use x=\"366.699219\" xlink:href=\"#ArialMT-105\"/>\r\n       <use x=\"388.916016\" xlink:href=\"#ArialMT-110\"/>\r\n       <use x=\"444.53125\" xlink:href=\"#ArialMT-45\"/>\r\n       <use x=\"477.832031\" xlink:href=\"#ArialMT-112\"/>\r\n       <use x=\"533.447266\" xlink:href=\"#ArialMT-105\"/>\r\n       <use x=\"555.664062\" xlink:href=\"#ArialMT-111\"/>\r\n       <use x=\"611.279297\" xlink:href=\"#ArialMT-103\"/>\r\n       <use x=\"666.894531\" xlink:href=\"#ArialMT-108\"/>\r\n       <use x=\"689.111328\" xlink:href=\"#ArialMT-105\"/>\r\n       <use x=\"711.328125\" xlink:href=\"#ArialMT-116\"/>\r\n       <use x=\"739.111328\" xlink:href=\"#ArialMT-97\"/>\r\n       <use x=\"794.726562\" xlink:href=\"#ArialMT-122\"/>\r\n       <use x=\"844.726562\" xlink:href=\"#ArialMT-111\"/>\r\n       <use x=\"900.341797\" xlink:href=\"#ArialMT-110\"/>\r\n       <use x=\"955.957031\" xlink:href=\"#ArialMT-101\"/>\r\n      </g>\r\n     </g>\r\n    </g>\r\n    <g id=\"ytick_2\">\r\n     <g id=\"line2d_17\">\r\n      <path clip-path=\"url(#p7e5d16cb10)\" d=\"M 152.31 604.98 \r\nL 1405.11 604.98 \r\n\" style=\"fill:none;stroke:#cccccc;stroke-linecap:round;\"/>\r\n     </g>\r\n     <g id=\"line2d_18\"/>\r\n     <g id=\"text_9\">\r\n      <!-- glipizide-metformin -->\r\n      <g style=\"fill:#262626;\" transform=\"translate(31.334687 610.075781)scale(0.14 -0.14)\">\r\n       <defs>\r\n        <path d=\"M 40.234375 0 \r\nL 40.234375 6.546875 \r\nQ 35.296875 -1.171875 25.734375 -1.171875 \r\nQ 19.53125 -1.171875 14.328125 2.25 \r\nQ 9.125 5.671875 6.265625 11.796875 \r\nQ 3.421875 17.921875 3.421875 25.875 \r\nQ 3.421875 33.640625 6 39.96875 \r\nQ 8.59375 46.296875 13.765625 49.65625 \r\nQ 18.953125 53.03125 25.34375 53.03125 \r\nQ 30.03125 53.03125 33.6875 51.046875 \r\nQ 37.359375 49.078125 39.65625 45.90625 \r\nL 39.65625 71.578125 \r\nL 48.390625 71.578125 \r\nL 48.390625 0 \r\nz\r\nM 12.453125 25.875 \r\nQ 12.453125 15.921875 16.640625 10.984375 \r\nQ 20.84375 6.0625 26.5625 6.0625 \r\nQ 32.328125 6.0625 36.34375 10.765625 \r\nQ 40.375 15.484375 40.375 25.140625 \r\nQ 40.375 35.796875 36.265625 40.765625 \r\nQ 32.171875 45.75 26.171875 45.75 \r\nQ 20.3125 45.75 16.375 40.96875 \r\nQ 12.453125 36.1875 12.453125 25.875 \r\nz\r\n\" id=\"ArialMT-100\"/>\r\n       </defs>\r\n       <use xlink:href=\"#ArialMT-103\"/>\r\n       <use x=\"55.615234\" xlink:href=\"#ArialMT-108\"/>\r\n       <use x=\"77.832031\" xlink:href=\"#ArialMT-105\"/>\r\n       <use x=\"100.048828\" xlink:href=\"#ArialMT-112\"/>\r\n       <use x=\"155.664062\" xlink:href=\"#ArialMT-105\"/>\r\n       <use x=\"177.880859\" xlink:href=\"#ArialMT-122\"/>\r\n       <use x=\"227.880859\" xlink:href=\"#ArialMT-105\"/>\r\n       <use x=\"250.097656\" xlink:href=\"#ArialMT-100\"/>\r\n       <use x=\"305.712891\" xlink:href=\"#ArialMT-101\"/>\r\n       <use x=\"361.328125\" xlink:href=\"#ArialMT-45\"/>\r\n       <use x=\"394.628906\" xlink:href=\"#ArialMT-109\"/>\r\n       <use x=\"477.929688\" xlink:href=\"#ArialMT-101\"/>\r\n       <use x=\"533.544922\" xlink:href=\"#ArialMT-116\"/>\r\n       <use x=\"561.328125\" xlink:href=\"#ArialMT-102\"/>\r\n       <use x=\"589.111328\" xlink:href=\"#ArialMT-111\"/>\r\n       <use x=\"644.726562\" xlink:href=\"#ArialMT-114\"/>\r\n       <use x=\"678.027344\" xlink:href=\"#ArialMT-109\"/>\r\n       <use x=\"761.328125\" xlink:href=\"#ArialMT-105\"/>\r\n       <use x=\"783.544922\" xlink:href=\"#ArialMT-110\"/>\r\n      </g>\r\n     </g>\r\n    </g>\r\n    <g id=\"ytick_3\">\r\n     <g id=\"line2d_19\">\r\n      <path clip-path=\"url(#p7e5d16cb10)\" d=\"M 152.31 575.82 \r\nL 1405.11 575.82 \r\n\" style=\"fill:none;stroke:#cccccc;stroke-linecap:round;\"/>\r\n     </g>\r\n     <g id=\"line2d_20\"/>\r\n     <g id=\"text_10\">\r\n      <!-- miglitol -->\r\n      <g style=\"fill:#262626;\" transform=\"translate(105.245937 580.830469)scale(0.14 -0.14)\">\r\n       <use xlink:href=\"#ArialMT-109\"/>\r\n       <use x=\"83.300781\" xlink:href=\"#ArialMT-105\"/>\r\n       <use x=\"105.517578\" xlink:href=\"#ArialMT-103\"/>\r\n       <use x=\"161.132812\" xlink:href=\"#ArialMT-108\"/>\r\n       <use x=\"183.349609\" xlink:href=\"#ArialMT-105\"/>\r\n       <use x=\"205.566406\" xlink:href=\"#ArialMT-116\"/>\r\n       <use x=\"233.349609\" xlink:href=\"#ArialMT-111\"/>\r\n       <use x=\"288.964844\" xlink:href=\"#ArialMT-108\"/>\r\n      </g>\r\n     </g>\r\n    </g>\r\n    <g id=\"ytick_4\">\r\n     <g id=\"line2d_21\">\r\n      <path clip-path=\"url(#p7e5d16cb10)\" d=\"M 152.31 546.66 \r\nL 1405.11 546.66 \r\n\" style=\"fill:none;stroke:#cccccc;stroke-linecap:round;\"/>\r\n     </g>\r\n     <g id=\"line2d_22\"/>\r\n     <g id=\"text_11\">\r\n      <!-- glyburide-metformin -->\r\n      <g style=\"fill:#262626;\" transform=\"translate(25.109062 551.755781)scale(0.14 -0.14)\">\r\n       <defs>\r\n        <path d=\"M 6.203125 -19.96875 \r\nL 5.21875 -11.71875 \r\nQ 8.109375 -12.5 10.25 -12.5 \r\nQ 13.1875 -12.5 14.9375 -11.515625 \r\nQ 16.703125 -10.546875 17.828125 -8.796875 \r\nQ 18.65625 -7.46875 20.515625 -2.25 \r\nQ 20.75 -1.515625 21.296875 -0.09375 \r\nL 1.609375 51.859375 \r\nL 11.078125 51.859375 \r\nL 21.875 21.828125 \r\nQ 23.96875 16.109375 25.640625 9.8125 \r\nQ 27.15625 15.875 29.25 21.625 \r\nL 40.328125 51.859375 \r\nL 49.125 51.859375 \r\nL 29.390625 -0.875 \r\nQ 26.21875 -9.421875 24.46875 -12.640625 \r\nQ 22.125 -17 19.09375 -19.015625 \r\nQ 16.0625 -21.046875 11.859375 -21.046875 \r\nQ 9.328125 -21.046875 6.203125 -19.96875 \r\nz\r\n\" id=\"ArialMT-121\"/>\r\n        <path d=\"M 14.703125 0 \r\nL 6.546875 0 \r\nL 6.546875 71.578125 \r\nL 15.328125 71.578125 \r\nL 15.328125 46.046875 \r\nQ 20.90625 53.03125 29.546875 53.03125 \r\nQ 34.328125 53.03125 38.59375 51.09375 \r\nQ 42.875 49.171875 45.625 45.671875 \r\nQ 48.390625 42.1875 49.953125 37.25 \r\nQ 51.515625 32.328125 51.515625 26.703125 \r\nQ 51.515625 13.375 44.921875 6.09375 \r\nQ 38.328125 -1.171875 29.109375 -1.171875 \r\nQ 19.921875 -1.171875 14.703125 6.5 \r\nz\r\nM 14.59375 26.3125 \r\nQ 14.59375 17 17.140625 12.84375 \r\nQ 21.296875 6.0625 28.375 6.0625 \r\nQ 34.125 6.0625 38.328125 11.0625 \r\nQ 42.53125 16.0625 42.53125 25.984375 \r\nQ 42.53125 36.140625 38.5 40.96875 \r\nQ 34.46875 45.796875 28.765625 45.796875 \r\nQ 23 45.796875 18.796875 40.796875 \r\nQ 14.59375 35.796875 14.59375 26.3125 \r\nz\r\n\" id=\"ArialMT-98\"/>\r\n        <path d=\"M 40.578125 0 \r\nL 40.578125 7.625 \r\nQ 34.515625 -1.171875 24.125 -1.171875 \r\nQ 19.53125 -1.171875 15.546875 0.578125 \r\nQ 11.578125 2.34375 9.640625 5 \r\nQ 7.71875 7.671875 6.9375 11.53125 \r\nQ 6.390625 14.109375 6.390625 19.734375 \r\nL 6.390625 51.859375 \r\nL 15.1875 51.859375 \r\nL 15.1875 23.09375 \r\nQ 15.1875 16.21875 15.71875 13.8125 \r\nQ 16.546875 10.359375 19.234375 8.375 \r\nQ 21.921875 6.390625 25.875 6.390625 \r\nQ 29.828125 6.390625 33.296875 8.421875 \r\nQ 36.765625 10.453125 38.203125 13.9375 \r\nQ 39.65625 17.4375 39.65625 24.078125 \r\nL 39.65625 51.859375 \r\nL 48.4375 51.859375 \r\nL 48.4375 0 \r\nz\r\n\" id=\"ArialMT-117\"/>\r\n       </defs>\r\n       <use xlink:href=\"#ArialMT-103\"/>\r\n       <use x=\"55.615234\" xlink:href=\"#ArialMT-108\"/>\r\n       <use x=\"77.832031\" xlink:href=\"#ArialMT-121\"/>\r\n       <use x=\"127.832031\" xlink:href=\"#ArialMT-98\"/>\r\n       <use x=\"183.447266\" xlink:href=\"#ArialMT-117\"/>\r\n       <use x=\"239.0625\" xlink:href=\"#ArialMT-114\"/>\r\n       <use x=\"272.363281\" xlink:href=\"#ArialMT-105\"/>\r\n       <use x=\"294.580078\" xlink:href=\"#ArialMT-100\"/>\r\n       <use x=\"350.195312\" xlink:href=\"#ArialMT-101\"/>\r\n       <use x=\"405.810547\" xlink:href=\"#ArialMT-45\"/>\r\n       <use x=\"439.111328\" xlink:href=\"#ArialMT-109\"/>\r\n       <use x=\"522.412109\" xlink:href=\"#ArialMT-101\"/>\r\n       <use x=\"578.027344\" xlink:href=\"#ArialMT-116\"/>\r\n       <use x=\"605.810547\" xlink:href=\"#ArialMT-102\"/>\r\n       <use x=\"633.59375\" xlink:href=\"#ArialMT-111\"/>\r\n       <use x=\"689.208984\" xlink:href=\"#ArialMT-114\"/>\r\n       <use x=\"722.509766\" xlink:href=\"#ArialMT-109\"/>\r\n       <use x=\"805.810547\" xlink:href=\"#ArialMT-105\"/>\r\n       <use x=\"828.027344\" xlink:href=\"#ArialMT-110\"/>\r\n      </g>\r\n     </g>\r\n    </g>\r\n    <g id=\"ytick_5\">\r\n     <g id=\"line2d_23\">\r\n      <path clip-path=\"url(#p7e5d16cb10)\" d=\"M 152.31 517.5 \r\nL 1405.11 517.5 \r\n\" style=\"fill:none;stroke:#cccccc;stroke-linecap:round;\"/>\r\n     </g>\r\n     <g id=\"line2d_24\"/>\r\n     <g id=\"text_12\">\r\n      <!-- nateglinide -->\r\n      <g style=\"fill:#262626;\" transform=\"translate(81.091562 522.510469)scale(0.14 -0.14)\">\r\n       <use xlink:href=\"#ArialMT-110\"/>\r\n       <use x=\"55.615234\" xlink:href=\"#ArialMT-97\"/>\r\n       <use x=\"111.230469\" xlink:href=\"#ArialMT-116\"/>\r\n       <use x=\"139.013672\" xlink:href=\"#ArialMT-101\"/>\r\n       <use x=\"194.628906\" xlink:href=\"#ArialMT-103\"/>\r\n       <use x=\"250.244141\" xlink:href=\"#ArialMT-108\"/>\r\n       <use x=\"272.460938\" xlink:href=\"#ArialMT-105\"/>\r\n       <use x=\"294.677734\" xlink:href=\"#ArialMT-110\"/>\r\n       <use x=\"350.292969\" xlink:href=\"#ArialMT-105\"/>\r\n       <use x=\"372.509766\" xlink:href=\"#ArialMT-100\"/>\r\n       <use x=\"428.125\" xlink:href=\"#ArialMT-101\"/>\r\n      </g>\r\n     </g>\r\n    </g>\r\n    <g id=\"ytick_6\">\r\n     <g id=\"line2d_25\">\r\n      <path clip-path=\"url(#p7e5d16cb10)\" d=\"M 152.31 488.34 \r\nL 1405.11 488.34 \r\n\" style=\"fill:none;stroke:#cccccc;stroke-linecap:round;\"/>\r\n     </g>\r\n     <g id=\"line2d_26\"/>\r\n     <g id=\"text_13\">\r\n      <!-- repaglinide -->\r\n      <g style=\"fill:#262626;\" transform=\"translate(80.319375 493.350469)scale(0.14 -0.14)\">\r\n       <use xlink:href=\"#ArialMT-114\"/>\r\n       <use x=\"33.300781\" xlink:href=\"#ArialMT-101\"/>\r\n       <use x=\"88.916016\" xlink:href=\"#ArialMT-112\"/>\r\n       <use x=\"144.53125\" xlink:href=\"#ArialMT-97\"/>\r\n       <use x=\"200.146484\" xlink:href=\"#ArialMT-103\"/>\r\n       <use x=\"255.761719\" xlink:href=\"#ArialMT-108\"/>\r\n       <use x=\"277.978516\" xlink:href=\"#ArialMT-105\"/>\r\n       <use x=\"300.195312\" xlink:href=\"#ArialMT-110\"/>\r\n       <use x=\"355.810547\" xlink:href=\"#ArialMT-105\"/>\r\n       <use x=\"378.027344\" xlink:href=\"#ArialMT-100\"/>\r\n       <use x=\"433.642578\" xlink:href=\"#ArialMT-101\"/>\r\n      </g>\r\n     </g>\r\n    </g>\r\n    <g id=\"ytick_7\">\r\n     <g id=\"line2d_27\">\r\n      <path clip-path=\"url(#p7e5d16cb10)\" d=\"M 152.31 459.18 \r\nL 1405.11 459.18 \r\n\" style=\"fill:none;stroke:#cccccc;stroke-linecap:round;\"/>\r\n     </g>\r\n     <g id=\"line2d_28\"/>\r\n     <g id=\"text_14\">\r\n      <!-- Diabetes_Med -->\r\n      <g style=\"fill:#262626;\" transform=\"translate(58.540625 464.190469)scale(0.14 -0.14)\">\r\n       <defs>\r\n        <path d=\"M 7.71875 0 \r\nL 7.71875 71.578125 \r\nL 32.375 71.578125 \r\nQ 40.71875 71.578125 45.125 70.5625 \r\nQ 51.265625 69.140625 55.609375 65.4375 \r\nQ 61.28125 60.640625 64.078125 53.1875 \r\nQ 66.890625 45.75 66.890625 36.1875 \r\nQ 66.890625 28.03125 64.984375 21.734375 \r\nQ 63.09375 15.4375 60.109375 11.296875 \r\nQ 57.125 7.171875 53.578125 4.796875 \r\nQ 50.046875 2.4375 45.046875 1.21875 \r\nQ 40.046875 0 33.546875 0 \r\nz\r\nM 17.1875 8.453125 \r\nL 32.46875 8.453125 \r\nQ 39.546875 8.453125 43.578125 9.765625 \r\nQ 47.609375 11.078125 50 13.484375 \r\nQ 53.375 16.84375 55.25 22.53125 \r\nQ 57.125 28.21875 57.125 36.328125 \r\nQ 57.125 47.5625 53.4375 53.59375 \r\nQ 49.75 59.625 44.484375 61.671875 \r\nQ 40.671875 63.140625 32.234375 63.140625 \r\nL 17.1875 63.140625 \r\nz\r\n\" id=\"ArialMT-68\"/>\r\n        <path d=\"M 3.078125 15.484375 \r\nL 11.765625 16.84375 \r\nQ 12.5 11.625 15.84375 8.84375 \r\nQ 19.1875 6.0625 25.203125 6.0625 \r\nQ 31.25 6.0625 34.171875 8.515625 \r\nQ 37.109375 10.984375 37.109375 14.3125 \r\nQ 37.109375 17.28125 34.515625 19 \r\nQ 32.71875 20.171875 25.53125 21.96875 \r\nQ 15.875 24.421875 12.140625 26.203125 \r\nQ 8.40625 27.984375 6.46875 31.125 \r\nQ 4.546875 34.28125 4.546875 38.09375 \r\nQ 4.546875 41.546875 6.125 44.5 \r\nQ 7.71875 47.46875 10.453125 49.421875 \r\nQ 12.5 50.921875 16.03125 51.96875 \r\nQ 19.578125 53.03125 23.640625 53.03125 \r\nQ 29.734375 53.03125 34.34375 51.265625 \r\nQ 38.96875 49.515625 41.15625 46.5 \r\nQ 43.359375 43.5 44.1875 38.484375 \r\nL 35.59375 37.3125 \r\nQ 35.015625 41.3125 32.203125 43.546875 \r\nQ 29.390625 45.796875 24.265625 45.796875 \r\nQ 18.21875 45.796875 15.625 43.796875 \r\nQ 13.03125 41.796875 13.03125 39.109375 \r\nQ 13.03125 37.40625 14.109375 36.03125 \r\nQ 15.1875 34.625 17.484375 33.6875 \r\nQ 18.796875 33.203125 25.25 31.453125 \r\nQ 34.578125 28.953125 38.25 27.359375 \r\nQ 41.9375 25.78125 44.03125 22.75 \r\nQ 46.140625 19.734375 46.140625 15.234375 \r\nQ 46.140625 10.84375 43.578125 6.953125 \r\nQ 41.015625 3.078125 36.171875 0.953125 \r\nQ 31.34375 -1.171875 25.25 -1.171875 \r\nQ 15.140625 -1.171875 9.84375 3.03125 \r\nQ 4.546875 7.234375 3.078125 15.484375 \r\nz\r\n\" id=\"ArialMT-115\"/>\r\n        <path d=\"M -1.515625 -19.875 \r\nL -1.515625 -13.53125 \r\nL 56.734375 -13.53125 \r\nL 56.734375 -19.875 \r\nz\r\n\" id=\"ArialMT-95\"/>\r\n        <path d=\"M 7.421875 0 \r\nL 7.421875 71.578125 \r\nL 21.6875 71.578125 \r\nL 38.625 20.90625 \r\nQ 40.96875 13.8125 42.046875 10.296875 \r\nQ 43.265625 14.203125 45.84375 21.78125 \r\nL 62.984375 71.578125 \r\nL 75.734375 71.578125 \r\nL 75.734375 0 \r\nL 66.609375 0 \r\nL 66.609375 59.90625 \r\nL 45.796875 0 \r\nL 37.25 0 \r\nL 16.546875 60.9375 \r\nL 16.546875 0 \r\nz\r\n\" id=\"ArialMT-77\"/>\r\n       </defs>\r\n       <use xlink:href=\"#ArialMT-68\"/>\r\n       <use x=\"72.216797\" xlink:href=\"#ArialMT-105\"/>\r\n       <use x=\"94.433594\" xlink:href=\"#ArialMT-97\"/>\r\n       <use x=\"150.048828\" xlink:href=\"#ArialMT-98\"/>\r\n       <use x=\"205.664062\" xlink:href=\"#ArialMT-101\"/>\r\n       <use x=\"261.279297\" xlink:href=\"#ArialMT-116\"/>\r\n       <use x=\"289.0625\" xlink:href=\"#ArialMT-101\"/>\r\n       <use x=\"344.677734\" xlink:href=\"#ArialMT-115\"/>\r\n       <use x=\"394.677734\" xlink:href=\"#ArialMT-95\"/>\r\n       <use x=\"450.292969\" xlink:href=\"#ArialMT-77\"/>\r\n       <use x=\"533.59375\" xlink:href=\"#ArialMT-101\"/>\r\n       <use x=\"589.208984\" xlink:href=\"#ArialMT-100\"/>\r\n      </g>\r\n     </g>\r\n    </g>\r\n    <g id=\"ytick_8\">\r\n     <g id=\"line2d_29\">\r\n      <path clip-path=\"url(#p7e5d16cb10)\" d=\"M 152.31 430.02 \r\nL 1405.11 430.02 \r\n\" style=\"fill:none;stroke:#cccccc;stroke-linecap:round;\"/>\r\n     </g>\r\n     <g id=\"line2d_30\"/>\r\n     <g id=\"text_15\">\r\n      <!-- glimepiride -->\r\n      <g style=\"fill:#262626;\" transform=\"translate(81.117812 435.030469)scale(0.14 -0.14)\">\r\n       <use xlink:href=\"#ArialMT-103\"/>\r\n       <use x=\"55.615234\" xlink:href=\"#ArialMT-108\"/>\r\n       <use x=\"77.832031\" xlink:href=\"#ArialMT-105\"/>\r\n       <use x=\"100.048828\" xlink:href=\"#ArialMT-109\"/>\r\n       <use x=\"183.349609\" xlink:href=\"#ArialMT-101\"/>\r\n       <use x=\"238.964844\" xlink:href=\"#ArialMT-112\"/>\r\n       <use x=\"294.580078\" xlink:href=\"#ArialMT-105\"/>\r\n       <use x=\"316.796875\" xlink:href=\"#ArialMT-114\"/>\r\n       <use x=\"350.097656\" xlink:href=\"#ArialMT-105\"/>\r\n       <use x=\"372.314453\" xlink:href=\"#ArialMT-100\"/>\r\n       <use x=\"427.929688\" xlink:href=\"#ArialMT-101\"/>\r\n      </g>\r\n     </g>\r\n    </g>\r\n    <g id=\"ytick_9\">\r\n     <g id=\"line2d_31\">\r\n      <path clip-path=\"url(#p7e5d16cb10)\" d=\"M 152.31 400.86 \r\nL 1405.11 400.86 \r\n\" style=\"fill:none;stroke:#cccccc;stroke-linecap:round;\"/>\r\n     </g>\r\n     <g id=\"line2d_32\"/>\r\n     <g id=\"text_16\">\r\n      <!-- rosiglitazone -->\r\n      <g style=\"fill:#262626;\" transform=\"translate(70.215312 405.870469)scale(0.14 -0.14)\">\r\n       <use xlink:href=\"#ArialMT-114\"/>\r\n       <use x=\"33.300781\" xlink:href=\"#ArialMT-111\"/>\r\n       <use x=\"88.916016\" xlink:href=\"#ArialMT-115\"/>\r\n       <use x=\"138.916016\" xlink:href=\"#ArialMT-105\"/>\r\n       <use x=\"161.132812\" xlink:href=\"#ArialMT-103\"/>\r\n       <use x=\"216.748047\" xlink:href=\"#ArialMT-108\"/>\r\n       <use x=\"238.964844\" xlink:href=\"#ArialMT-105\"/>\r\n       <use x=\"261.181641\" xlink:href=\"#ArialMT-116\"/>\r\n       <use x=\"288.964844\" xlink:href=\"#ArialMT-97\"/>\r\n       <use x=\"344.580078\" xlink:href=\"#ArialMT-122\"/>\r\n       <use x=\"394.580078\" xlink:href=\"#ArialMT-111\"/>\r\n       <use x=\"450.195312\" xlink:href=\"#ArialMT-110\"/>\r\n       <use x=\"505.810547\" xlink:href=\"#ArialMT-101\"/>\r\n      </g>\r\n     </g>\r\n    </g>\r\n    <g id=\"ytick_10\">\r\n     <g id=\"line2d_33\">\r\n      <path clip-path=\"url(#p7e5d16cb10)\" d=\"M 152.31 371.7 \r\nL 1405.11 371.7 \r\n\" style=\"fill:none;stroke:#cccccc;stroke-linecap:round;\"/>\r\n     </g>\r\n     <g id=\"line2d_34\"/>\r\n     <g id=\"text_17\">\r\n      <!-- Change -->\r\n      <g style=\"fill:#262626;\" transform=\"translate(99.772813 376.795781)scale(0.14 -0.14)\">\r\n       <defs>\r\n        <path d=\"M 58.796875 25.09375 \r\nL 68.265625 22.703125 \r\nQ 65.28125 11.03125 57.546875 4.90625 \r\nQ 49.8125 -1.21875 38.625 -1.21875 \r\nQ 27.046875 -1.21875 19.796875 3.484375 \r\nQ 12.546875 8.203125 8.765625 17.140625 \r\nQ 4.984375 26.078125 4.984375 36.328125 \r\nQ 4.984375 47.515625 9.25 55.828125 \r\nQ 13.53125 64.15625 21.40625 68.46875 \r\nQ 29.296875 72.796875 38.765625 72.796875 \r\nQ 49.515625 72.796875 56.828125 67.328125 \r\nQ 64.15625 61.859375 67.046875 51.953125 \r\nL 57.71875 49.75 \r\nQ 55.21875 57.5625 50.484375 61.125 \r\nQ 45.75 64.703125 38.578125 64.703125 \r\nQ 30.328125 64.703125 24.78125 60.734375 \r\nQ 19.234375 56.78125 16.984375 50.109375 \r\nQ 14.75 43.453125 14.75 36.375 \r\nQ 14.75 27.25 17.40625 20.4375 \r\nQ 20.0625 13.625 25.671875 10.25 \r\nQ 31.296875 6.890625 37.84375 6.890625 \r\nQ 45.796875 6.890625 51.3125 11.46875 \r\nQ 56.84375 16.0625 58.796875 25.09375 \r\nz\r\n\" id=\"ArialMT-67\"/>\r\n        <path d=\"M 6.59375 0 \r\nL 6.59375 71.578125 \r\nL 15.375 71.578125 \r\nL 15.375 45.90625 \r\nQ 21.53125 53.03125 30.90625 53.03125 \r\nQ 36.671875 53.03125 40.921875 50.75 \r\nQ 45.171875 48.484375 47 44.484375 \r\nQ 48.828125 40.484375 48.828125 32.859375 \r\nL 48.828125 0 \r\nL 40.046875 0 \r\nL 40.046875 32.859375 \r\nQ 40.046875 39.453125 37.1875 42.453125 \r\nQ 34.328125 45.453125 29.109375 45.453125 \r\nQ 25.203125 45.453125 21.75 43.421875 \r\nQ 18.3125 41.40625 16.84375 37.9375 \r\nQ 15.375 34.46875 15.375 28.375 \r\nL 15.375 0 \r\nz\r\n\" id=\"ArialMT-104\"/>\r\n       </defs>\r\n       <use xlink:href=\"#ArialMT-67\"/>\r\n       <use x=\"72.216797\" xlink:href=\"#ArialMT-104\"/>\r\n       <use x=\"127.832031\" xlink:href=\"#ArialMT-97\"/>\r\n       <use x=\"183.447266\" xlink:href=\"#ArialMT-110\"/>\r\n       <use x=\"239.0625\" xlink:href=\"#ArialMT-103\"/>\r\n       <use x=\"294.677734\" xlink:href=\"#ArialMT-101\"/>\r\n      </g>\r\n     </g>\r\n    </g>\r\n    <g id=\"ytick_11\">\r\n     <g id=\"line2d_35\">\r\n      <path clip-path=\"url(#p7e5d16cb10)\" d=\"M 152.31 342.54 \r\nL 1405.11 342.54 \r\n\" style=\"fill:none;stroke:#cccccc;stroke-linecap:round;\"/>\r\n     </g>\r\n     <g id=\"line2d_36\"/>\r\n     <g id=\"text_18\">\r\n      <!-- pioglitazone -->\r\n      <g style=\"fill:#262626;\" transform=\"translate(74.091562 347.550469)scale(0.14 -0.14)\">\r\n       <use xlink:href=\"#ArialMT-112\"/>\r\n       <use x=\"55.615234\" xlink:href=\"#ArialMT-105\"/>\r\n       <use x=\"77.832031\" xlink:href=\"#ArialMT-111\"/>\r\n       <use x=\"133.447266\" xlink:href=\"#ArialMT-103\"/>\r\n       <use x=\"189.0625\" xlink:href=\"#ArialMT-108\"/>\r\n       <use x=\"211.279297\" xlink:href=\"#ArialMT-105\"/>\r\n       <use x=\"233.496094\" xlink:href=\"#ArialMT-116\"/>\r\n       <use x=\"261.279297\" xlink:href=\"#ArialMT-97\"/>\r\n       <use x=\"316.894531\" xlink:href=\"#ArialMT-122\"/>\r\n       <use x=\"366.894531\" xlink:href=\"#ArialMT-111\"/>\r\n       <use x=\"422.509766\" xlink:href=\"#ArialMT-110\"/>\r\n       <use x=\"478.125\" xlink:href=\"#ArialMT-101\"/>\r\n      </g>\r\n     </g>\r\n    </g>\r\n    <g id=\"ytick_12\">\r\n     <g id=\"line2d_37\">\r\n      <path clip-path=\"url(#p7e5d16cb10)\" d=\"M 152.31 313.38 \r\nL 1405.11 313.38 \r\n\" style=\"fill:none;stroke:#cccccc;stroke-linecap:round;\"/>\r\n     </g>\r\n     <g id=\"line2d_38\"/>\r\n     <g id=\"text_19\">\r\n      <!-- Glu_result -->\r\n      <g style=\"fill:#262626;\" transform=\"translate(85.007187 318.475781)scale(0.14 -0.14)\">\r\n       <defs>\r\n        <path d=\"M 41.21875 28.078125 \r\nL 41.21875 36.46875 \r\nL 71.53125 36.53125 \r\nL 71.53125 9.96875 \r\nQ 64.546875 4.390625 57.125 1.578125 \r\nQ 49.703125 -1.21875 41.890625 -1.21875 \r\nQ 31.34375 -1.21875 22.71875 3.296875 \r\nQ 14.109375 7.8125 9.71875 16.359375 \r\nQ 5.328125 24.90625 5.328125 35.453125 \r\nQ 5.328125 45.90625 9.6875 54.953125 \r\nQ 14.0625 64.015625 22.265625 68.40625 \r\nQ 30.46875 72.796875 41.15625 72.796875 \r\nQ 48.921875 72.796875 55.1875 70.28125 \r\nQ 61.46875 67.78125 65.03125 63.28125 \r\nQ 68.609375 58.796875 70.453125 51.5625 \r\nL 61.921875 49.21875 \r\nQ 60.296875 54.6875 57.90625 57.8125 \r\nQ 55.515625 60.9375 51.0625 62.8125 \r\nQ 46.625 64.703125 41.21875 64.703125 \r\nQ 34.71875 64.703125 29.984375 62.71875 \r\nQ 25.25 60.75 22.34375 57.515625 \r\nQ 19.4375 54.296875 17.828125 50.4375 \r\nQ 15.09375 43.796875 15.09375 36.03125 \r\nQ 15.09375 26.46875 18.390625 20.015625 \r\nQ 21.6875 13.578125 27.984375 10.453125 \r\nQ 34.28125 7.328125 41.359375 7.328125 \r\nQ 47.515625 7.328125 53.375 9.6875 \r\nQ 59.234375 12.0625 62.25 14.75 \r\nL 62.25 28.078125 \r\nz\r\n\" id=\"ArialMT-71\"/>\r\n       </defs>\r\n       <use xlink:href=\"#ArialMT-71\"/>\r\n       <use x=\"77.783203\" xlink:href=\"#ArialMT-108\"/>\r\n       <use x=\"100\" xlink:href=\"#ArialMT-117\"/>\r\n       <use x=\"155.615234\" xlink:href=\"#ArialMT-95\"/>\r\n       <use x=\"211.230469\" xlink:href=\"#ArialMT-114\"/>\r\n       <use x=\"244.53125\" xlink:href=\"#ArialMT-101\"/>\r\n       <use x=\"300.146484\" xlink:href=\"#ArialMT-115\"/>\r\n       <use x=\"350.146484\" xlink:href=\"#ArialMT-117\"/>\r\n       <use x=\"405.761719\" xlink:href=\"#ArialMT-108\"/>\r\n       <use x=\"427.978516\" xlink:href=\"#ArialMT-116\"/>\r\n      </g>\r\n     </g>\r\n    </g>\r\n    <g id=\"ytick_13\">\r\n     <g id=\"line2d_39\">\r\n      <path clip-path=\"url(#p7e5d16cb10)\" d=\"M 152.31 284.22 \r\nL 1405.11 284.22 \r\n\" style=\"fill:none;stroke:#cccccc;stroke-linecap:round;\"/>\r\n     </g>\r\n     <g id=\"line2d_40\"/>\r\n     <g id=\"text_20\">\r\n      <!-- glyburide -->\r\n      <g style=\"fill:#262626;\" transform=\"translate(92.000625 289.230469)scale(0.14 -0.14)\">\r\n       <use xlink:href=\"#ArialMT-103\"/>\r\n       <use x=\"55.615234\" xlink:href=\"#ArialMT-108\"/>\r\n       <use x=\"77.832031\" xlink:href=\"#ArialMT-121\"/>\r\n       <use x=\"127.832031\" xlink:href=\"#ArialMT-98\"/>\r\n       <use x=\"183.447266\" xlink:href=\"#ArialMT-117\"/>\r\n       <use x=\"239.0625\" xlink:href=\"#ArialMT-114\"/>\r\n       <use x=\"272.363281\" xlink:href=\"#ArialMT-105\"/>\r\n       <use x=\"294.580078\" xlink:href=\"#ArialMT-100\"/>\r\n       <use x=\"350.195312\" xlink:href=\"#ArialMT-101\"/>\r\n      </g>\r\n     </g>\r\n    </g>\r\n    <g id=\"ytick_14\">\r\n     <g id=\"line2d_41\">\r\n      <path clip-path=\"url(#p7e5d16cb10)\" d=\"M 152.31 255.06 \r\nL 1405.11 255.06 \r\n\" style=\"fill:none;stroke:#cccccc;stroke-linecap:round;\"/>\r\n     </g>\r\n     <g id=\"line2d_42\"/>\r\n     <g id=\"text_21\">\r\n      <!-- metformin -->\r\n      <g style=\"fill:#262626;\" transform=\"translate(86.58 260.070469)scale(0.14 -0.14)\">\r\n       <use xlink:href=\"#ArialMT-109\"/>\r\n       <use x=\"83.300781\" xlink:href=\"#ArialMT-101\"/>\r\n       <use x=\"138.916016\" xlink:href=\"#ArialMT-116\"/>\r\n       <use x=\"166.699219\" xlink:href=\"#ArialMT-102\"/>\r\n       <use x=\"194.482422\" xlink:href=\"#ArialMT-111\"/>\r\n       <use x=\"250.097656\" xlink:href=\"#ArialMT-114\"/>\r\n       <use x=\"283.398438\" xlink:href=\"#ArialMT-109\"/>\r\n       <use x=\"366.699219\" xlink:href=\"#ArialMT-105\"/>\r\n       <use x=\"388.916016\" xlink:href=\"#ArialMT-110\"/>\r\n      </g>\r\n     </g>\r\n    </g>\r\n    <g id=\"ytick_15\">\r\n     <g id=\"line2d_43\">\r\n      <path clip-path=\"url(#p7e5d16cb10)\" d=\"M 152.31 225.9 \r\nL 1405.11 225.9 \r\n\" style=\"fill:none;stroke:#cccccc;stroke-linecap:round;\"/>\r\n     </g>\r\n     <g id=\"line2d_44\"/>\r\n     <g id=\"text_22\">\r\n      <!-- Sex -->\r\n      <g style=\"fill:#262626;\" transform=\"translate(124.68625 230.910469)scale(0.14 -0.14)\">\r\n       <defs>\r\n        <path d=\"M 4.5 23 \r\nL 13.421875 23.78125 \r\nQ 14.0625 18.40625 16.375 14.96875 \r\nQ 18.703125 11.53125 23.578125 9.40625 \r\nQ 28.46875 7.28125 34.578125 7.28125 \r\nQ 39.984375 7.28125 44.140625 8.890625 \r\nQ 48.296875 10.5 50.3125 13.296875 \r\nQ 52.34375 16.109375 52.34375 19.4375 \r\nQ 52.34375 22.796875 50.390625 25.3125 \r\nQ 48.4375 27.828125 43.953125 29.546875 \r\nQ 41.0625 30.671875 31.203125 33.03125 \r\nQ 21.34375 35.40625 17.390625 37.5 \r\nQ 12.25 40.1875 9.734375 44.15625 \r\nQ 7.234375 48.140625 7.234375 53.078125 \r\nQ 7.234375 58.5 10.296875 63.203125 \r\nQ 13.375 67.921875 19.28125 70.359375 \r\nQ 25.203125 72.796875 32.421875 72.796875 \r\nQ 40.375 72.796875 46.453125 70.234375 \r\nQ 52.546875 67.671875 55.8125 62.6875 \r\nQ 59.078125 57.71875 59.328125 51.421875 \r\nL 50.25 50.734375 \r\nQ 49.515625 57.515625 45.28125 60.984375 \r\nQ 41.0625 64.453125 32.8125 64.453125 \r\nQ 24.21875 64.453125 20.28125 61.296875 \r\nQ 16.359375 58.15625 16.359375 53.71875 \r\nQ 16.359375 49.859375 19.140625 47.359375 \r\nQ 21.875 44.875 33.421875 42.265625 \r\nQ 44.96875 39.65625 49.265625 37.703125 \r\nQ 55.515625 34.8125 58.484375 30.390625 \r\nQ 61.46875 25.984375 61.46875 20.21875 \r\nQ 61.46875 14.5 58.203125 9.4375 \r\nQ 54.9375 4.390625 48.796875 1.578125 \r\nQ 42.671875 -1.21875 35.015625 -1.21875 \r\nQ 25.296875 -1.21875 18.71875 1.609375 \r\nQ 12.15625 4.4375 8.421875 10.125 \r\nQ 4.6875 15.828125 4.5 23 \r\nz\r\n\" id=\"ArialMT-83\"/>\r\n        <path d=\"M 0.734375 0 \r\nL 19.671875 26.953125 \r\nL 2.15625 51.859375 \r\nL 13.140625 51.859375 \r\nL 21.09375 39.703125 \r\nQ 23.34375 36.234375 24.703125 33.890625 \r\nQ 26.859375 37.109375 28.65625 39.59375 \r\nL 37.40625 51.859375 \r\nL 47.90625 51.859375 \r\nL 29.984375 27.4375 \r\nL 49.265625 0 \r\nL 38.484375 0 \r\nL 27.828125 16.109375 \r\nL 25 20.453125 \r\nL 11.375 0 \r\nz\r\n\" id=\"ArialMT-120\"/>\r\n       </defs>\r\n       <use xlink:href=\"#ArialMT-83\"/>\r\n       <use x=\"66.699219\" xlink:href=\"#ArialMT-101\"/>\r\n       <use x=\"122.314453\" xlink:href=\"#ArialMT-120\"/>\r\n      </g>\r\n     </g>\r\n    </g>\r\n    <g id=\"ytick_16\">\r\n     <g id=\"line2d_45\">\r\n      <path clip-path=\"url(#p7e5d16cb10)\" d=\"M 152.31 196.74 \r\nL 1405.11 196.74 \r\n\" style=\"fill:none;stroke:#cccccc;stroke-linecap:round;\"/>\r\n     </g>\r\n     <g id=\"line2d_46\"/>\r\n     <g id=\"text_23\">\r\n      <!-- A1C_result -->\r\n      <g style=\"fill:#262626;\" transform=\"translate(79.558125 201.835781)scale(0.14 -0.14)\">\r\n       <defs>\r\n        <path d=\"M -0.140625 0 \r\nL 27.34375 71.578125 \r\nL 37.546875 71.578125 \r\nL 66.84375 0 \r\nL 56.0625 0 \r\nL 47.703125 21.6875 \r\nL 17.78125 21.6875 \r\nL 9.90625 0 \r\nz\r\nM 20.515625 29.390625 \r\nL 44.78125 29.390625 \r\nL 37.3125 49.21875 \r\nQ 33.890625 58.25 32.234375 64.0625 \r\nQ 30.859375 57.171875 28.375 50.390625 \r\nz\r\n\" id=\"ArialMT-65\"/>\r\n       </defs>\r\n       <use xlink:href=\"#ArialMT-65\"/>\r\n       <use x=\"66.699219\" xlink:href=\"#ArialMT-49\"/>\r\n       <use x=\"122.314453\" xlink:href=\"#ArialMT-67\"/>\r\n       <use x=\"194.53125\" xlink:href=\"#ArialMT-95\"/>\r\n       <use x=\"250.146484\" xlink:href=\"#ArialMT-114\"/>\r\n       <use x=\"283.447266\" xlink:href=\"#ArialMT-101\"/>\r\n       <use x=\"339.0625\" xlink:href=\"#ArialMT-115\"/>\r\n       <use x=\"389.0625\" xlink:href=\"#ArialMT-117\"/>\r\n       <use x=\"444.677734\" xlink:href=\"#ArialMT-108\"/>\r\n       <use x=\"466.894531\" xlink:href=\"#ArialMT-116\"/>\r\n      </g>\r\n     </g>\r\n    </g>\r\n    <g id=\"ytick_17\">\r\n     <g id=\"line2d_47\">\r\n      <path clip-path=\"url(#p7e5d16cb10)\" d=\"M 152.31 167.58 \r\nL 1405.11 167.58 \r\n\" style=\"fill:none;stroke:#cccccc;stroke-linecap:round;\"/>\r\n     </g>\r\n     <g id=\"line2d_48\"/>\r\n     <g id=\"text_24\">\r\n      <!-- Race -->\r\n      <g style=\"fill:#262626;\" transform=\"translate(116.12875 172.590469)scale(0.14 -0.14)\">\r\n       <defs>\r\n        <path d=\"M 7.859375 0 \r\nL 7.859375 71.578125 \r\nL 39.59375 71.578125 \r\nQ 49.171875 71.578125 54.140625 69.640625 \r\nQ 59.125 67.71875 62.109375 62.828125 \r\nQ 65.09375 57.953125 65.09375 52.046875 \r\nQ 65.09375 44.4375 60.15625 39.203125 \r\nQ 55.21875 33.984375 44.921875 32.5625 \r\nQ 48.6875 30.765625 50.640625 29 \r\nQ 54.78125 25.203125 58.5 19.484375 \r\nL 70.953125 0 \r\nL 59.03125 0 \r\nL 49.5625 14.890625 \r\nQ 45.40625 21.34375 42.71875 24.75 \r\nQ 40.046875 28.171875 37.921875 29.53125 \r\nQ 35.796875 30.90625 33.59375 31.453125 \r\nQ 31.984375 31.78125 28.328125 31.78125 \r\nL 17.328125 31.78125 \r\nL 17.328125 0 \r\nz\r\nM 17.328125 39.984375 \r\nL 37.703125 39.984375 \r\nQ 44.1875 39.984375 47.84375 41.328125 \r\nQ 51.515625 42.671875 53.421875 45.625 \r\nQ 55.328125 48.578125 55.328125 52.046875 \r\nQ 55.328125 57.125 51.640625 60.390625 \r\nQ 47.953125 63.671875 39.984375 63.671875 \r\nL 17.328125 63.671875 \r\nz\r\n\" id=\"ArialMT-82\"/>\r\n        <path d=\"M 40.4375 19 \r\nL 49.078125 17.875 \r\nQ 47.65625 8.9375 41.8125 3.875 \r\nQ 35.984375 -1.171875 27.484375 -1.171875 \r\nQ 16.84375 -1.171875 10.375 5.78125 \r\nQ 3.90625 12.75 3.90625 25.734375 \r\nQ 3.90625 34.125 6.6875 40.421875 \r\nQ 9.46875 46.734375 15.15625 49.875 \r\nQ 20.84375 53.03125 27.546875 53.03125 \r\nQ 35.984375 53.03125 41.359375 48.75 \r\nQ 46.734375 44.484375 48.25 36.625 \r\nL 39.703125 35.296875 \r\nQ 38.484375 40.53125 35.375 43.15625 \r\nQ 32.28125 45.796875 27.875 45.796875 \r\nQ 21.234375 45.796875 17.078125 41.03125 \r\nQ 12.9375 36.28125 12.9375 25.984375 \r\nQ 12.9375 15.53125 16.9375 10.796875 \r\nQ 20.953125 6.0625 27.390625 6.0625 \r\nQ 32.5625 6.0625 36.03125 9.234375 \r\nQ 39.5 12.40625 40.4375 19 \r\nz\r\n\" id=\"ArialMT-99\"/>\r\n       </defs>\r\n       <use xlink:href=\"#ArialMT-82\"/>\r\n       <use x=\"72.216797\" xlink:href=\"#ArialMT-97\"/>\r\n       <use x=\"127.832031\" xlink:href=\"#ArialMT-99\"/>\r\n       <use x=\"177.832031\" xlink:href=\"#ArialMT-101\"/>\r\n      </g>\r\n     </g>\r\n    </g>\r\n    <g id=\"ytick_18\">\r\n     <g id=\"line2d_49\">\r\n      <path clip-path=\"url(#p7e5d16cb10)\" d=\"M 152.31 138.42 \r\nL 1405.11 138.42 \r\n\" style=\"fill:none;stroke:#cccccc;stroke-linecap:round;\"/>\r\n     </g>\r\n     <g id=\"line2d_50\"/>\r\n     <g id=\"text_25\">\r\n      <!-- Time_in_Hospital -->\r\n      <g style=\"fill:#262626;\" transform=\"translate(41.182812 143.430469)scale(0.14 -0.14)\">\r\n       <defs>\r\n        <path d=\"M 25.921875 0 \r\nL 25.921875 63.140625 \r\nL 2.34375 63.140625 \r\nL 2.34375 71.578125 \r\nL 59.078125 71.578125 \r\nL 59.078125 63.140625 \r\nL 35.40625 63.140625 \r\nL 35.40625 0 \r\nz\r\n\" id=\"ArialMT-84\"/>\r\n        <path d=\"M 8.015625 0 \r\nL 8.015625 71.578125 \r\nL 17.484375 71.578125 \r\nL 17.484375 42.1875 \r\nL 54.6875 42.1875 \r\nL 54.6875 71.578125 \r\nL 64.15625 71.578125 \r\nL 64.15625 0 \r\nL 54.6875 0 \r\nL 54.6875 33.734375 \r\nL 17.484375 33.734375 \r\nL 17.484375 0 \r\nz\r\n\" id=\"ArialMT-72\"/>\r\n       </defs>\r\n       <use xlink:href=\"#ArialMT-84\"/>\r\n       <use x=\"57.333984\" xlink:href=\"#ArialMT-105\"/>\r\n       <use x=\"79.550781\" xlink:href=\"#ArialMT-109\"/>\r\n       <use x=\"162.851562\" xlink:href=\"#ArialMT-101\"/>\r\n       <use x=\"218.466797\" xlink:href=\"#ArialMT-95\"/>\r\n       <use x=\"274.082031\" xlink:href=\"#ArialMT-105\"/>\r\n       <use x=\"296.298828\" xlink:href=\"#ArialMT-110\"/>\r\n       <use x=\"351.914062\" xlink:href=\"#ArialMT-95\"/>\r\n       <use x=\"407.529297\" xlink:href=\"#ArialMT-72\"/>\r\n       <use x=\"479.746094\" xlink:href=\"#ArialMT-111\"/>\r\n       <use x=\"535.361328\" xlink:href=\"#ArialMT-115\"/>\r\n       <use x=\"585.361328\" xlink:href=\"#ArialMT-112\"/>\r\n       <use x=\"640.976562\" xlink:href=\"#ArialMT-105\"/>\r\n       <use x=\"663.193359\" xlink:href=\"#ArialMT-116\"/>\r\n       <use x=\"690.976562\" xlink:href=\"#ArialMT-97\"/>\r\n       <use x=\"746.591797\" xlink:href=\"#ArialMT-108\"/>\r\n      </g>\r\n     </g>\r\n    </g>\r\n    <g id=\"ytick_19\">\r\n     <g id=\"line2d_51\">\r\n      <path clip-path=\"url(#p7e5d16cb10)\" d=\"M 152.31 109.26 \r\nL 1405.11 109.26 \r\n\" style=\"fill:none;stroke:#cccccc;stroke-linecap:round;\"/>\r\n     </g>\r\n     <g id=\"line2d_52\"/>\r\n     <g id=\"text_26\">\r\n      <!-- insulin -->\r\n      <g style=\"fill:#262626;\" transform=\"translate(109.122187 114.270469)scale(0.14 -0.14)\">\r\n       <use xlink:href=\"#ArialMT-105\"/>\r\n       <use x=\"22.216797\" xlink:href=\"#ArialMT-110\"/>\r\n       <use x=\"77.832031\" xlink:href=\"#ArialMT-115\"/>\r\n       <use x=\"127.832031\" xlink:href=\"#ArialMT-117\"/>\r\n       <use x=\"183.447266\" xlink:href=\"#ArialMT-108\"/>\r\n       <use x=\"205.664062\" xlink:href=\"#ArialMT-105\"/>\r\n       <use x=\"227.880859\" xlink:href=\"#ArialMT-110\"/>\r\n      </g>\r\n     </g>\r\n    </g>\r\n    <g id=\"ytick_20\">\r\n     <g id=\"line2d_53\">\r\n      <path clip-path=\"url(#p7e5d16cb10)\" d=\"M 152.31 80.1 \r\nL 1405.11 80.1 \r\n\" style=\"fill:none;stroke:#cccccc;stroke-linecap:round;\"/>\r\n     </g>\r\n     <g id=\"line2d_54\"/>\r\n     <g id=\"text_27\">\r\n      <!-- Age -->\r\n      <g style=\"fill:#262626;\" transform=\"translate(123.900937 85.110469)scale(0.14 -0.14)\">\r\n       <use xlink:href=\"#ArialMT-65\"/>\r\n       <use x=\"66.699219\" xlink:href=\"#ArialMT-103\"/>\r\n       <use x=\"122.314453\" xlink:href=\"#ArialMT-101\"/>\r\n      </g>\r\n     </g>\r\n    </g>\r\n    <g id=\"ytick_21\">\r\n     <g id=\"line2d_55\">\r\n      <path clip-path=\"url(#p7e5d16cb10)\" d=\"M 152.31 50.94 \r\nL 1405.11 50.94 \r\n\" style=\"fill:none;stroke:#cccccc;stroke-linecap:round;\"/>\r\n     </g>\r\n     <g id=\"line2d_56\"/>\r\n     <g id=\"text_28\">\r\n      <!-- Medications -->\r\n      <g style=\"fill:#262626;\" transform=\"translate(74.11125 55.950469)scale(0.14 -0.14)\">\r\n       <use xlink:href=\"#ArialMT-77\"/>\r\n       <use x=\"83.300781\" xlink:href=\"#ArialMT-101\"/>\r\n       <use x=\"138.916016\" xlink:href=\"#ArialMT-100\"/>\r\n       <use x=\"194.53125\" xlink:href=\"#ArialMT-105\"/>\r\n       <use x=\"216.748047\" xlink:href=\"#ArialMT-99\"/>\r\n       <use x=\"266.748047\" xlink:href=\"#ArialMT-97\"/>\r\n       <use x=\"322.363281\" xlink:href=\"#ArialMT-116\"/>\r\n       <use x=\"350.146484\" xlink:href=\"#ArialMT-105\"/>\r\n       <use x=\"372.363281\" xlink:href=\"#ArialMT-111\"/>\r\n       <use x=\"427.978516\" xlink:href=\"#ArialMT-110\"/>\r\n       <use x=\"483.59375\" xlink:href=\"#ArialMT-115\"/>\r\n      </g>\r\n     </g>\r\n    </g>\r\n    <g id=\"ytick_22\">\r\n     <g id=\"line2d_57\">\r\n      <path clip-path=\"url(#p7e5d16cb10)\" d=\"M 152.31 21.78 \r\nL 1405.11 21.78 \r\n\" style=\"fill:none;stroke:#cccccc;stroke-linecap:round;\"/>\r\n     </g>\r\n     <g id=\"line2d_58\"/>\r\n     <g id=\"text_29\">\r\n      <!-- Procedures -->\r\n      <g style=\"fill:#262626;\" transform=\"translate(77.221875 26.790469)scale(0.14 -0.14)\">\r\n       <defs>\r\n        <path d=\"M 7.71875 0 \r\nL 7.71875 71.578125 \r\nL 34.71875 71.578125 \r\nQ 41.84375 71.578125 45.609375 70.90625 \r\nQ 50.875 70.015625 54.4375 67.546875 \r\nQ 58.015625 65.09375 60.1875 60.640625 \r\nQ 62.359375 56.203125 62.359375 50.875 \r\nQ 62.359375 41.75 56.546875 35.421875 \r\nQ 50.734375 29.109375 35.546875 29.109375 \r\nL 17.1875 29.109375 \r\nL 17.1875 0 \r\nz\r\nM 17.1875 37.546875 \r\nL 35.6875 37.546875 \r\nQ 44.875 37.546875 48.734375 40.96875 \r\nQ 52.59375 44.390625 52.59375 50.59375 \r\nQ 52.59375 55.078125 50.3125 58.265625 \r\nQ 48.046875 61.46875 44.34375 62.5 \r\nQ 41.9375 63.140625 35.5 63.140625 \r\nL 17.1875 63.140625 \r\nz\r\n\" id=\"ArialMT-80\"/>\r\n       </defs>\r\n       <use xlink:href=\"#ArialMT-80\"/>\r\n       <use x=\"66.699219\" xlink:href=\"#ArialMT-114\"/>\r\n       <use x=\"100\" xlink:href=\"#ArialMT-111\"/>\r\n       <use x=\"155.615234\" xlink:href=\"#ArialMT-99\"/>\r\n       <use x=\"205.615234\" xlink:href=\"#ArialMT-101\"/>\r\n       <use x=\"261.230469\" xlink:href=\"#ArialMT-100\"/>\r\n       <use x=\"316.845703\" xlink:href=\"#ArialMT-117\"/>\r\n       <use x=\"372.460938\" xlink:href=\"#ArialMT-114\"/>\r\n       <use x=\"405.761719\" xlink:href=\"#ArialMT-101\"/>\r\n       <use x=\"461.376953\" xlink:href=\"#ArialMT-115\"/>\r\n      </g>\r\n     </g>\r\n    </g>\r\n   </g>\r\n   <g id=\"patch_3\">\r\n    <path clip-path=\"url(#p7e5d16cb10)\" d=\"M 152.31 641.43 \r\nL 152.372547 641.43 \r\nL 152.372547 626.85 \r\nL 152.31 626.85 \r\nz\r\n\" style=\"fill:#008fd5;\"/>\r\n   </g>\r\n   <g id=\"patch_4\">\r\n    <path clip-path=\"url(#p7e5d16cb10)\" d=\"M 152.31 612.27 \r\nL 152.441641 612.27 \r\nL 152.441641 597.69 \r\nL 152.31 597.69 \r\nz\r\n\" style=\"fill:#008fd5;\"/>\r\n   </g>\r\n   <g id=\"patch_5\">\r\n    <path clip-path=\"url(#p7e5d16cb10)\" d=\"M 152.31 583.11 \r\nL 153.306618 583.11 \r\nL 153.306618 568.53 \r\nL 152.31 568.53 \r\nz\r\n\" style=\"fill:#008fd5;\"/>\r\n   </g>\r\n   <g id=\"patch_6\">\r\n    <path clip-path=\"url(#p7e5d16cb10)\" d=\"M 152.31 553.95 \r\nL 165.862126 553.95 \r\nL 165.862126 539.37 \r\nL 152.31 539.37 \r\nz\r\n\" style=\"fill:#008fd5;\"/>\r\n   </g>\r\n   <g id=\"patch_7\">\r\n    <path clip-path=\"url(#p7e5d16cb10)\" d=\"M 152.31 524.79 \r\nL 165.954496 524.79 \r\nL 165.954496 510.21 \r\nL 152.31 510.21 \r\nz\r\n\" style=\"fill:#008fd5;\"/>\r\n   </g>\r\n   <g id=\"patch_8\">\r\n    <path clip-path=\"url(#p7e5d16cb10)\" d=\"M 152.31 495.63 \r\nL 173.41377 495.63 \r\nL 173.41377 481.05 \r\nL 152.31 481.05 \r\nz\r\n\" style=\"fill:#008fd5;\"/>\r\n   </g>\r\n   <g id=\"patch_9\">\r\n    <path clip-path=\"url(#p7e5d16cb10)\" d=\"M 152.31 466.47 \r\nL 185.43489 466.47 \r\nL 185.43489 451.89 \r\nL 152.31 451.89 \r\nz\r\n\" style=\"fill:#008fd5;\"/>\r\n   </g>\r\n   <g id=\"patch_10\">\r\n    <path clip-path=\"url(#p7e5d16cb10)\" d=\"M 152.31 437.31 \r\nL 208.286409 437.31 \r\nL 208.286409 422.73 \r\nL 152.31 422.73 \r\nz\r\n\" style=\"fill:#008fd5;\"/>\r\n   </g>\r\n   <g id=\"patch_11\">\r\n    <path clip-path=\"url(#p7e5d16cb10)\" d=\"M 152.31 408.15 \r\nL 213.319638 408.15 \r\nL 213.319638 393.57 \r\nL 152.31 393.57 \r\nz\r\n\" style=\"fill:#008fd5;\"/>\r\n   </g>\r\n   <g id=\"patch_12\">\r\n    <path clip-path=\"url(#p7e5d16cb10)\" d=\"M 152.31 378.99 \r\nL 220.035241 378.99 \r\nL 220.035241 364.41 \r\nL 152.31 364.41 \r\nz\r\n\" style=\"fill:#008fd5;\"/>\r\n   </g>\r\n   <g id=\"patch_13\">\r\n    <path clip-path=\"url(#p7e5d16cb10)\" d=\"M 152.31 349.83 \r\nL 221.688008 349.83 \r\nL 221.688008 335.25 \r\nL 152.31 335.25 \r\nz\r\n\" style=\"fill:#008fd5;\"/>\r\n   </g>\r\n   <g id=\"patch_14\">\r\n    <path clip-path=\"url(#p7e5d16cb10)\" d=\"M 152.31 320.67 \r\nL 222.501657 320.67 \r\nL 222.501657 306.09 \r\nL 152.31 306.09 \r\nz\r\n\" style=\"fill:#008fd5;\"/>\r\n   </g>\r\n   <g id=\"patch_15\">\r\n    <path clip-path=\"url(#p7e5d16cb10)\" d=\"M 152.31 291.51 \r\nL 236.379575 291.51 \r\nL 236.379575 276.93 \r\nL 152.31 276.93 \r\nz\r\n\" style=\"fill:#008fd5;\"/>\r\n   </g>\r\n   <g id=\"patch_16\">\r\n    <path clip-path=\"url(#p7e5d16cb10)\" d=\"M 152.31 262.35 \r\nL 247.142908 262.35 \r\nL 247.142908 247.77 \r\nL 152.31 247.77 \r\nz\r\n\" style=\"fill:#008fd5;\"/>\r\n   </g>\r\n   <g id=\"patch_17\">\r\n    <path clip-path=\"url(#p7e5d16cb10)\" d=\"M 152.31 233.19 \r\nL 273.856652 233.19 \r\nL 273.856652 218.61 \r\nL 152.31 218.61 \r\nz\r\n\" style=\"fill:#008fd5;\"/>\r\n   </g>\r\n   <g id=\"patch_18\">\r\n    <path clip-path=\"url(#p7e5d16cb10)\" d=\"M 152.31 204.03 \r\nL 304.64437 204.03 \r\nL 304.64437 189.45 \r\nL 152.31 189.45 \r\nz\r\n\" style=\"fill:#008fd5;\"/>\r\n   </g>\r\n   <g id=\"patch_19\">\r\n    <path clip-path=\"url(#p7e5d16cb10)\" d=\"M 152.31 174.87 \r\nL 319.613186 174.87 \r\nL 319.613186 160.29 \r\nL 152.31 160.29 \r\nz\r\n\" style=\"fill:#008fd5;\"/>\r\n   </g>\r\n   <g id=\"patch_20\">\r\n    <path clip-path=\"url(#p7e5d16cb10)\" d=\"M 152.31 145.71 \r\nL 328.363644 145.71 \r\nL 328.363644 131.13 \r\nL 152.31 131.13 \r\nz\r\n\" style=\"fill:#008fd5;\"/>\r\n   </g>\r\n   <g id=\"patch_21\">\r\n    <path clip-path=\"url(#p7e5d16cb10)\" d=\"M 152.31 116.55 \r\nL 334.093259 116.55 \r\nL 334.093259 101.97 \r\nL 152.31 101.97 \r\nz\r\n\" style=\"fill:#008fd5;\"/>\r\n   </g>\r\n   <g id=\"patch_22\">\r\n    <path clip-path=\"url(#p7e5d16cb10)\" d=\"M 152.31 87.39 \r\nL 552.131448 87.39 \r\nL 552.131448 72.81 \r\nL 152.31 72.81 \r\nz\r\n\" style=\"fill:#008fd5;\"/>\r\n   </g>\r\n   <g id=\"patch_23\">\r\n    <path clip-path=\"url(#p7e5d16cb10)\" d=\"M 152.31 58.23 \r\nL 1063.693319 58.23 \r\nL 1063.693319 43.65 \r\nL 152.31 43.65 \r\nz\r\n\" style=\"fill:#008fd5;\"/>\r\n   </g>\r\n   <g id=\"patch_24\">\r\n    <path clip-path=\"url(#p7e5d16cb10)\" d=\"M 152.31 29.07 \r\nL 1345.452857 29.07 \r\nL 1345.452857 14.49 \r\nL 152.31 14.49 \r\nz\r\n\" style=\"fill:#008fd5;\"/>\r\n   </g>\r\n   <g id=\"patch_25\">\r\n    <path d=\"M 152.31 648.72 \r\nL 152.31 7.2 \r\n\" style=\"fill:none;stroke:#cccccc;stroke-linecap:square;stroke-linejoin:miter;\"/>\r\n   </g>\r\n   <g id=\"patch_26\">\r\n    <path d=\"M 1405.11 648.72 \r\nL 1405.11 7.2 \r\n\" style=\"fill:none;stroke:#cccccc;stroke-linecap:square;stroke-linejoin:miter;\"/>\r\n   </g>\r\n   <g id=\"patch_27\">\r\n    <path d=\"M 152.31 648.72 \r\nL 1405.11 648.72 \r\n\" style=\"fill:none;stroke:#cccccc;stroke-linecap:square;stroke-linejoin:miter;\"/>\r\n   </g>\r\n   <g id=\"patch_28\">\r\n    <path d=\"M 152.31 7.2 \r\nL 1405.11 7.2 \r\n\" style=\"fill:none;stroke:#cccccc;stroke-linecap:square;stroke-linejoin:miter;\"/>\r\n   </g>\r\n   <g id=\"legend_1\">\r\n    <g id=\"patch_29\">\r\n     <path d=\"M 164.91 633.3375 \r\nL 192.91 633.3375 \r\nL 192.91 623.5375 \r\nL 164.91 623.5375 \r\nz\r\n\" style=\"fill:#008fd5;\"/>\r\n    </g>\r\n    <g id=\"text_30\">\r\n     <!-- Importance -->\r\n     <g style=\"fill:#262626;\" transform=\"translate(204.11 633.3375)scale(0.14 -0.14)\">\r\n      <defs>\r\n       <path d=\"M 9.328125 0 \r\nL 9.328125 71.578125 \r\nL 18.796875 71.578125 \r\nL 18.796875 0 \r\nz\r\n\" id=\"ArialMT-73\"/>\r\n      </defs>\r\n      <use xlink:href=\"#ArialMT-73\"/>\r\n      <use x=\"27.783203\" xlink:href=\"#ArialMT-109\"/>\r\n      <use x=\"111.083984\" xlink:href=\"#ArialMT-112\"/>\r\n      <use x=\"166.699219\" xlink:href=\"#ArialMT-111\"/>\r\n      <use x=\"222.314453\" xlink:href=\"#ArialMT-114\"/>\r\n      <use x=\"255.615234\" xlink:href=\"#ArialMT-116\"/>\r\n      <use x=\"283.398438\" xlink:href=\"#ArialMT-97\"/>\r\n      <use x=\"339.013672\" xlink:href=\"#ArialMT-110\"/>\r\n      <use x=\"394.628906\" xlink:href=\"#ArialMT-99\"/>\r\n      <use x=\"444.628906\" xlink:href=\"#ArialMT-101\"/>\r\n     </g>\r\n    </g>\r\n   </g>\r\n  </g>\r\n </g>\r\n <defs>\r\n  <clipPath id=\"p7e5d16cb10\">\r\n   <rect height=\"641.52\" width=\"1252.8\" x=\"152.31\" y=\"7.2\"/>\r\n  </clipPath>\r\n </defs>\r\n</svg>\r\n",
      "image/png": "[encoded data removed]"
     },
     "metadata": {}
    }
   ],
   "source": [
    "# Using Random Forest to gain an insight on Feature Importance\n",
    "clf = RandomForestClassifier()\n",
    "clf.fit(df_con_enc.drop(columns= ['Readmitted','Pmo'], axis=1), df_con_enc['Readmitted'])\n",
    "\n",
    "plt.style.use('seaborn-whitegrid')\n",
    "importance = clf.feature_importances_\n",
    "importance = pd.DataFrame(importance, index=df_con_enc.drop(columns= ['Readmitted','Pmo'], axis=1).columns, columns=[\"Importance\"])\n",
    "importance.sort_values(by='Importance', ascending=True).plot(kind='barh', figsize=(20,len(importance)/2))"
   ]
  },
  {
   "source": [
    "#### Why would you want feature importance?\n",
    "\n",
    "Feature importance shows how much each feature contributed to the model.\n",
    "\n",
    "We could take this information and remove features which don't contribute much to reduce dimenstionality (and save compute).\n",
    "\n",
    "Feature importance figures also show people who may not be familiar with the problem what features of their data are most important when it comes to making predictions with machine learning models."
   ],
   "cell_type": "markdown",
   "metadata": {}
  },
  {
   "source": [
    "## 4. Splitting into Training and Testing datasets.\n",
    "\n",
    "**We need to split the data into the training and testing datasets.**\n",
    "\n",
    "There is no optimal split percentage.\n",
    "\n",
    "> You must choose a split percentage that meets your project’s objectives with considerations that include:\n",
    "- **Computational cost in training the model.**\n",
    "- **Computational cost in evaluating the model.**\n",
    "- **Training set representativeness.**\n",
    "- **Test set representativeness.**\n",
    "\n",
    "> Nevertheless, common split percentages include:\n",
    "- **Train: 80%, Test: 20%**\n",
    "- **Train: 67%, Test: 33%**\n",
    "- **Train: 50%, Test: 50%**"
   ],
   "cell_type": "markdown",
   "metadata": {}
  },
  {
   "cell_type": "code",
   "execution_count": 10,
   "metadata": {},
   "outputs": [],
   "source": [
    "# We will be using the Label Encoded dataframe for simplicity.\n",
    "selected_df = df_con_enc"
   ]
  },
  {
   "cell_type": "code",
   "execution_count": 11,
   "metadata": {},
   "outputs": [],
   "source": [
    "X = selected_df.drop('Readmitted', axis= 1)\n",
    "y = selected_df['Readmitted']"
   ]
  },
  {
   "cell_type": "code",
   "execution_count": 12,
   "metadata": {},
   "outputs": [],
   "source": [
    "X_train, X_test, y_train, y_test = train_test_split(X, y, test_size=0.2, random_state=42, stratify= y)"
   ]
  },
  {
   "cell_type": "code",
   "execution_count": 13,
   "metadata": {},
   "outputs": [
    {
     "output_type": "execute_result",
     "data": {
      "text/plain": [
       "       Race  Sex  Age  Time_in_Hospital  Procedures  Medications  Glu_result  \\\n",
       "3923      2    1    4                 0          75           19           2   \n",
       "5407      2    1    5                 0          39            8           2   \n",
       "23244     2    0    6                 0           0            4           2   \n",
       "3573      0    1    7                 0          34            7           2   \n",
       "10259     2    0    4                 0           7           14           2   \n",
       "\n",
       "       A1C_result  Change  Diabetes_Med  metformin  repaglinide  nateglinide  \\\n",
       "3923            0       0             1          1            1            1   \n",
       "5407            2       0             0          1            1            1   \n",
       "23244           2       0             0          1            1            1   \n",
       "3573            1       0             1          1            1            1   \n",
       "10259           2       1             1          1            1            1   \n",
       "\n",
       "       glimepiride  glyburide  pioglitazone  rosiglitazone  miglitol  insulin  \\\n",
       "3923             1          1             1              1         0        2   \n",
       "5407             1          1             1              1         0        1   \n",
       "23244            1          1             1              1         0        1   \n",
       "3573             1          2             1              1         0        1   \n",
       "10259            1          1             2              1         0        0   \n",
       "\n",
       "       glyburide-metformin  glipizide-metformin  metformin-pioglitazone  \n",
       "3923                     1                    0                       0  \n",
       "5407                     1                    0                       0  \n",
       "23244                    1                    0                       0  \n",
       "3573                     1                    0                       0  \n",
       "10259                    1                    0                       0  "
      ],
      "text/html": "<div>\n<style scoped>\n    .dataframe tbody tr th:only-of-type {\n        vertical-align: middle;\n    }\n\n    .dataframe tbody tr th {\n        vertical-align: top;\n    }\n\n    .dataframe thead th {\n        text-align: right;\n    }\n</style>\n<table border=\"1\" class=\"dataframe\">\n  <thead>\n    <tr style=\"text-align: right;\">\n      <th></th>\n      <th>Race</th>\n      <th>Sex</th>\n      <th>Age</th>\n      <th>Time_in_Hospital</th>\n      <th>Procedures</th>\n      <th>Medications</th>\n      <th>Glu_result</th>\n      <th>A1C_result</th>\n      <th>Change</th>\n      <th>Diabetes_Med</th>\n      <th>metformin</th>\n      <th>repaglinide</th>\n      <th>nateglinide</th>\n      <th>glimepiride</th>\n      <th>glyburide</th>\n      <th>pioglitazone</th>\n      <th>rosiglitazone</th>\n      <th>miglitol</th>\n      <th>insulin</th>\n      <th>glyburide-metformin</th>\n      <th>glipizide-metformin</th>\n      <th>metformin-pioglitazone</th>\n    </tr>\n  </thead>\n  <tbody>\n    <tr>\n      <th>3923</th>\n      <td>2</td>\n      <td>1</td>\n      <td>4</td>\n      <td>0</td>\n      <td>75</td>\n      <td>19</td>\n      <td>2</td>\n      <td>0</td>\n      <td>0</td>\n      <td>1</td>\n      <td>1</td>\n      <td>1</td>\n      <td>1</td>\n      <td>1</td>\n      <td>1</td>\n      <td>1</td>\n      <td>1</td>\n      <td>0</td>\n      <td>2</td>\n      <td>1</td>\n      <td>0</td>\n      <td>0</td>\n    </tr>\n    <tr>\n      <th>5407</th>\n      <td>2</td>\n      <td>1</td>\n      <td>5</td>\n      <td>0</td>\n      <td>39</td>\n      <td>8</td>\n      <td>2</td>\n      <td>2</td>\n      <td>0</td>\n      <td>0</td>\n      <td>1</td>\n      <td>1</td>\n      <td>1</td>\n      <td>1</td>\n      <td>1</td>\n      <td>1</td>\n      <td>1</td>\n      <td>0</td>\n      <td>1</td>\n      <td>1</td>\n      <td>0</td>\n      <td>0</td>\n    </tr>\n    <tr>\n      <th>23244</th>\n      <td>2</td>\n      <td>0</td>\n      <td>6</td>\n      <td>0</td>\n      <td>0</td>\n      <td>4</td>\n      <td>2</td>\n      <td>2</td>\n      <td>0</td>\n      <td>0</td>\n      <td>1</td>\n      <td>1</td>\n      <td>1</td>\n      <td>1</td>\n      <td>1</td>\n      <td>1</td>\n      <td>1</td>\n      <td>0</td>\n      <td>1</td>\n      <td>1</td>\n      <td>0</td>\n      <td>0</td>\n    </tr>\n    <tr>\n      <th>3573</th>\n      <td>0</td>\n      <td>1</td>\n      <td>7</td>\n      <td>0</td>\n      <td>34</td>\n      <td>7</td>\n      <td>2</td>\n      <td>1</td>\n      <td>0</td>\n      <td>1</td>\n      <td>1</td>\n      <td>1</td>\n      <td>1</td>\n      <td>1</td>\n      <td>2</td>\n      <td>1</td>\n      <td>1</td>\n      <td>0</td>\n      <td>1</td>\n      <td>1</td>\n      <td>0</td>\n      <td>0</td>\n    </tr>\n    <tr>\n      <th>10259</th>\n      <td>2</td>\n      <td>0</td>\n      <td>4</td>\n      <td>0</td>\n      <td>7</td>\n      <td>14</td>\n      <td>2</td>\n      <td>2</td>\n      <td>1</td>\n      <td>1</td>\n      <td>1</td>\n      <td>1</td>\n      <td>1</td>\n      <td>1</td>\n      <td>1</td>\n      <td>2</td>\n      <td>1</td>\n      <td>0</td>\n      <td>0</td>\n      <td>1</td>\n      <td>0</td>\n      <td>0</td>\n    </tr>\n  </tbody>\n</table>\n</div>"
     },
     "metadata": {},
     "execution_count": 13
    }
   ],
   "source": [
    "X_train = X_train.drop('Pmo', axis= 1)\n",
    "X_train.head()"
   ]
  },
  {
   "cell_type": "code",
   "execution_count": 14,
   "metadata": {},
   "outputs": [
    {
     "output_type": "execute_result",
     "data": {
      "text/plain": [
       "3923     1\n",
       "5407     0\n",
       "23244    0\n",
       "3573     1\n",
       "10259    1\n",
       "19123    1\n",
       "11239    0\n",
       "14980    1\n",
       "19892    0\n",
       "24044    0\n",
       "Name: Readmitted, dtype: int32"
      ]
     },
     "metadata": {},
     "execution_count": 14
    }
   ],
   "source": [
    "y_train.head(10)"
   ]
  },
  {
   "cell_type": "code",
   "execution_count": 15,
   "metadata": {},
   "outputs": [
    {
     "output_type": "execute_result",
     "data": {
      "text/plain": [
       "       Race  Sex  Age  Time_in_Hospital  Procedures  Medications  Glu_result  \\\n",
       "11283     2    1    3                 2          35           11           2   \n",
       "9081      2    1    7                 2          42           17           2   \n",
       "281       0    0    5                 4          65           27           2   \n",
       "22937     2    1    7                 2          56           19           2   \n",
       "3472      2    1    7                 2          63            5           2   \n",
       "\n",
       "       A1C_result  Change  Diabetes_Med  metformin  repaglinide  nateglinide  \\\n",
       "11283           2       0             1          1            1            1   \n",
       "9081            2       0             1          1            1            1   \n",
       "281             2       0             1          1            1            1   \n",
       "22937           1       1             1          2            1            1   \n",
       "3472            2       0             0          1            1            1   \n",
       "\n",
       "       glimepiride  glyburide  pioglitazone  rosiglitazone  miglitol  insulin  \\\n",
       "11283            1          1             1              1         0        2   \n",
       "9081             1          1             1              1         0        2   \n",
       "281              1          1             1              1         0        2   \n",
       "22937            1          1             1              1         0        2   \n",
       "3472             1          1             1              1         0        1   \n",
       "\n",
       "       glyburide-metformin  glipizide-metformin  metformin-pioglitazone  \\\n",
       "11283                    1                    0                       0   \n",
       "9081                     1                    0                       0   \n",
       "281                      1                    0                       0   \n",
       "22937                    1                    0                       0   \n",
       "3472                     1                    0                       0   \n",
       "\n",
       "              Pmo  \n",
       "11283  60817248.0  \n",
       "9081   24204024.0  \n",
       "281     8166528.0  \n",
       "22937  50630004.0  \n",
       "3472   79113843.0  "
      ],
      "text/html": "<div>\n<style scoped>\n    .dataframe tbody tr th:only-of-type {\n        vertical-align: middle;\n    }\n\n    .dataframe tbody tr th {\n        vertical-align: top;\n    }\n\n    .dataframe thead th {\n        text-align: right;\n    }\n</style>\n<table border=\"1\" class=\"dataframe\">\n  <thead>\n    <tr style=\"text-align: right;\">\n      <th></th>\n      <th>Race</th>\n      <th>Sex</th>\n      <th>Age</th>\n      <th>Time_in_Hospital</th>\n      <th>Procedures</th>\n      <th>Medications</th>\n      <th>Glu_result</th>\n      <th>A1C_result</th>\n      <th>Change</th>\n      <th>Diabetes_Med</th>\n      <th>metformin</th>\n      <th>repaglinide</th>\n      <th>nateglinide</th>\n      <th>glimepiride</th>\n      <th>glyburide</th>\n      <th>pioglitazone</th>\n      <th>rosiglitazone</th>\n      <th>miglitol</th>\n      <th>insulin</th>\n      <th>glyburide-metformin</th>\n      <th>glipizide-metformin</th>\n      <th>metformin-pioglitazone</th>\n      <th>Pmo</th>\n    </tr>\n  </thead>\n  <tbody>\n    <tr>\n      <th>11283</th>\n      <td>2</td>\n      <td>1</td>\n      <td>3</td>\n      <td>2</td>\n      <td>35</td>\n      <td>11</td>\n      <td>2</td>\n      <td>2</td>\n      <td>0</td>\n      <td>1</td>\n      <td>1</td>\n      <td>1</td>\n      <td>1</td>\n      <td>1</td>\n      <td>1</td>\n      <td>1</td>\n      <td>1</td>\n      <td>0</td>\n      <td>2</td>\n      <td>1</td>\n      <td>0</td>\n      <td>0</td>\n      <td>60817248.0</td>\n    </tr>\n    <tr>\n      <th>9081</th>\n      <td>2</td>\n      <td>1</td>\n      <td>7</td>\n      <td>2</td>\n      <td>42</td>\n      <td>17</td>\n      <td>2</td>\n      <td>2</td>\n      <td>0</td>\n      <td>1</td>\n      <td>1</td>\n      <td>1</td>\n      <td>1</td>\n      <td>1</td>\n      <td>1</td>\n      <td>1</td>\n      <td>1</td>\n      <td>0</td>\n      <td>2</td>\n      <td>1</td>\n      <td>0</td>\n      <td>0</td>\n      <td>24204024.0</td>\n    </tr>\n    <tr>\n      <th>281</th>\n      <td>0</td>\n      <td>0</td>\n      <td>5</td>\n      <td>4</td>\n      <td>65</td>\n      <td>27</td>\n      <td>2</td>\n      <td>2</td>\n      <td>0</td>\n      <td>1</td>\n      <td>1</td>\n      <td>1</td>\n      <td>1</td>\n      <td>1</td>\n      <td>1</td>\n      <td>1</td>\n      <td>1</td>\n      <td>0</td>\n      <td>2</td>\n      <td>1</td>\n      <td>0</td>\n      <td>0</td>\n      <td>8166528.0</td>\n    </tr>\n    <tr>\n      <th>22937</th>\n      <td>2</td>\n      <td>1</td>\n      <td>7</td>\n      <td>2</td>\n      <td>56</td>\n      <td>19</td>\n      <td>2</td>\n      <td>1</td>\n      <td>1</td>\n      <td>1</td>\n      <td>2</td>\n      <td>1</td>\n      <td>1</td>\n      <td>1</td>\n      <td>1</td>\n      <td>1</td>\n      <td>1</td>\n      <td>0</td>\n      <td>2</td>\n      <td>1</td>\n      <td>0</td>\n      <td>0</td>\n      <td>50630004.0</td>\n    </tr>\n    <tr>\n      <th>3472</th>\n      <td>2</td>\n      <td>1</td>\n      <td>7</td>\n      <td>2</td>\n      <td>63</td>\n      <td>5</td>\n      <td>2</td>\n      <td>2</td>\n      <td>0</td>\n      <td>0</td>\n      <td>1</td>\n      <td>1</td>\n      <td>1</td>\n      <td>1</td>\n      <td>1</td>\n      <td>1</td>\n      <td>1</td>\n      <td>0</td>\n      <td>1</td>\n      <td>1</td>\n      <td>0</td>\n      <td>0</td>\n      <td>79113843.0</td>\n    </tr>\n  </tbody>\n</table>\n</div>"
     },
     "metadata": {},
     "execution_count": 15
    }
   ],
   "source": [
    "X_test.head()"
   ]
  },
  {
   "source": [
    "## 5. Start Building Maching Learning Models\n",
    "\n",
    "Before running a ML model our aim was to turn all values to numbers. Since we have done that, we will now run a series of machine learning algorithm to see which will yield the best results.\n",
    "\n",
    "### Algorithms\n",
    "From here, we will be running the following algorithms.\n",
    "\n",
    "- **Logistic Regression**\n",
    "- **KNN**\n",
    "- **Naive Bayes**\n",
    "- **Stochastic Gradient Decent**\n",
    "- **Linear SVC**\n",
    "- **Decision Tree**\n",
    "- **Gradient Boosted Trees**\n",
    "- **CatBoost Algorithm**\n",
    "\n",
    "In any model building, we mainly focus on 3 main steps:\n",
    "\n",
    "- Fitting the model and finding the accuracy (accuracy score) of the fitted model.\n",
    "- Perform K-Fold Cross Validation (K needs to be specified).\n",
    "- Find the accuracy of the Cross Validation. \n",
    "\n",
    "**We will be running a whole bunch of models to figure out which model is best suited for our data.**"
   ],
   "cell_type": "markdown",
   "metadata": {}
  },
  {
   "cell_type": "code",
   "execution_count": 16,
   "metadata": {},
   "outputs": [],
   "source": [
    "# For our simplicity let us create a function that we can call for each model.\n",
    "def ML_algo(algo, X_train, y_train, cv):\n",
    "    \n",
    "    ## Step 1:\n",
    "    model = algo.fit(X_train, y_train)                          # Creating the model. We will fit the algorithm to the training data.\n",
    "    accuracy = round(model.score(X_train, y_train)*100, 2)\n",
    "\n",
    "    ## Step 2:  --> This code performs Cross Validation automatically.\n",
    "    train_pred = model_selection.cross_val_predict(algo, X_train, y_train, cv= cv, n_jobs= -1)\n",
    "\n",
    "    \n",
    "    ## Step 3:  --> Cross Validation accuracy metric.\n",
    "    accuracy_cv = round(metrics.accuracy_score(y_train, train_pred)*100, 2)\n",
    "\n",
    "    return train_pred, accuracy, accuracy_cv"
   ]
  },
  {
   "source": [
    "#### Model 1: Logistic Regression"
   ],
   "cell_type": "markdown",
   "metadata": {}
  },
  {
   "cell_type": "code",
   "execution_count": 17,
   "metadata": {},
   "outputs": [
    {
     "output_type": "stream",
     "name": "stdout",
     "text": [
      "Accuracy of the model is:  60.05\nAccuracy of 10-Fold CV is:  60.13\nRunning time is:  0:00:24.832748\n"
     ]
    }
   ],
   "source": [
    "# Logistic Regression\n",
    "start_time = time.time()\n",
    "log_train_pred, log_acc, log_acc_cv = ML_algo(LogisticRegression(), X_train, y_train, 10)\n",
    "\n",
    "log_time = (time.time()- start_time)\n",
    "\n",
    "print('Accuracy of the model is: ', log_acc)\n",
    "print('Accuracy of 10-Fold CV is: ', log_acc_cv)\n",
    "print('Running time is: ', datetime.timedelta(seconds= log_time))"
   ]
  },
  {
   "source": [
    "#### Model 2: K-Nearest Neighbours"
   ],
   "cell_type": "markdown",
   "metadata": {}
  },
  {
   "cell_type": "code",
   "execution_count": 22,
   "metadata": {},
   "outputs": [
    {
     "output_type": "stream",
     "name": "stdout",
     "text": [
      "Accuracy of the model is:  68.2\nAccuracy of 10-Fold CV is:  55.6\nRunning time is:  0:00:13.770294\n"
     ]
    }
   ],
   "source": [
    "# K-Nearest Neighbours\n",
    "start_time = time.time()\n",
    "knn_train_pred, knn_acc, knn_acc_cv = ML_algo(KNeighborsClassifier(n_neighbors= 7), X_train, y_train, 10)\n",
    "\n",
    "knn_time = (time.time()- start_time)\n",
    "\n",
    "print('Accuracy of the model is: ', knn_acc)\n",
    "print('Accuracy of 10-Fold CV is: ', knn_acc_cv)\n",
    "print('Running time is: ', datetime.timedelta(seconds= knn_time))"
   ]
  },
  {
   "source": [
    "#### Model 3: Gaussian Naive Bayes"
   ],
   "cell_type": "markdown",
   "metadata": {}
  },
  {
   "cell_type": "code",
   "execution_count": 23,
   "metadata": {},
   "outputs": [
    {
     "output_type": "stream",
     "name": "stdout",
     "text": [
      "Accuracy of the model is:  60.1\nAccuracy of 10-Fold CV is:  58.13\nRunning time is:  0:00:00.896365\n"
     ]
    }
   ],
   "source": [
    "# Gaussian Naive Bayes\n",
    "start_time = time.time()\n",
    "gnb_train_pred, gnb_acc, gnb_acc_cv = ML_algo(GaussianNB(), X_train, y_train, 10)\n",
    "\n",
    "gnb_time = (time.time()- start_time)\n",
    "\n",
    "print('Accuracy of the model is: ', gnb_acc)\n",
    "print('Accuracy of 10-Fold CV is: ', gnb_acc_cv)\n",
    "print('Running time is: ', datetime.timedelta(seconds= gnb_time))"
   ]
  },
  {
   "source": [
    "#### Model 4: Linear Support Vector Machines (SVC)"
   ],
   "cell_type": "markdown",
   "metadata": {}
  },
  {
   "cell_type": "code",
   "execution_count": 24,
   "metadata": {},
   "outputs": [
    {
     "output_type": "stream",
     "name": "stdout",
     "text": [
      "Accuracy of the model is:  58.87\nAccuracy of 10-Fold CV is:  50.4\nRunning time is:  0:01:32.800418\n"
     ]
    }
   ],
   "source": [
    "# Support Vector Machines\n",
    "start_time = time.time()\n",
    "svm_train_pred, svm_acc, svm_acc_cv = ML_algo(LinearSVC(), X_train, y_train, 10)\n",
    "\n",
    "svm_time = (time.time()- start_time)\n",
    "\n",
    "print('Accuracy of the model is: ', svm_acc)\n",
    "print('Accuracy of 10-Fold CV is: ', svm_acc_cv)\n",
    "print('Running time is: ', datetime.timedelta(seconds= svm_time))"
   ]
  },
  {
   "source": [
    "#### Model 5: Stochastic Gradient Descent"
   ],
   "cell_type": "markdown",
   "metadata": {}
  },
  {
   "cell_type": "code",
   "execution_count": 25,
   "metadata": {},
   "outputs": [
    {
     "output_type": "stream",
     "name": "stdout",
     "text": [
      "Accuracy of the model is:  42.36\nAccuracy of 10-Fold CV is:  51.77\nRunning time is:  0:00:16.774949\n"
     ]
    }
   ],
   "source": [
    "# Stochastic Gradient Descent\n",
    "start_time = time.time()\n",
    "sgd_train_pred, sgd_acc, sgd_acc_cv = ML_algo(SGDClassifier(), X_train, y_train, 10)\n",
    "\n",
    "sgd_time = (time.time()- start_time)\n",
    "\n",
    "print('Accuracy of the model is: ', sgd_acc)\n",
    "print('Accuracy of 10-Fold CV is: ', sgd_acc_cv)\n",
    "print('Running time is: ', datetime.timedelta(seconds= sgd_time))"
   ]
  },
  {
   "source": [
    "#### Model 6: Decision Tree Classifier"
   ],
   "cell_type": "markdown",
   "metadata": {}
  },
  {
   "cell_type": "code",
   "execution_count": 26,
   "metadata": {},
   "outputs": [
    {
     "output_type": "stream",
     "name": "stdout",
     "text": [
      "Accuracy of the model is:  99.49\nAccuracy of 10-Fold CV is:  53.54\nRunning time is:  0:00:03.113652\n"
     ]
    }
   ],
   "source": [
    "# Decision Tree Classifier\n",
    "start_time = time.time()\n",
    "dtc_train_pred, dtc_acc, dtc_acc_cv = ML_algo(DecisionTreeClassifier(), X_train, y_train, 10)\n",
    "\n",
    "dtc_time = (time.time()- start_time)\n",
    "\n",
    "print('Accuracy of the model is: ', dtc_acc)\n",
    "print('Accuracy of 10-Fold CV is: ', dtc_acc_cv)\n",
    "print('Running time is: ', datetime.timedelta(seconds= dtc_time))"
   ]
  },
  {
   "source": [
    "#### Model 7: Gradient Boost Trees"
   ],
   "cell_type": "markdown",
   "metadata": {}
  },
  {
   "cell_type": "code",
   "execution_count": 27,
   "metadata": {},
   "outputs": [
    {
     "output_type": "stream",
     "name": "stdout",
     "text": [
      "Accuracy of the model is:  62.33\nAccuracy of 10-Fold CV is:  60.58\nRunning time is:  0:00:50.125006\n"
     ]
    }
   ],
   "source": [
    "# Gradient Boost Trees\n",
    "start_time = time.time()\n",
    "gbt_train_pred, gbt_acc, gbt_acc_cv = ML_algo(GradientBoostingClassifier(), X_train, y_train, 10)\n",
    "\n",
    "gbt_time = (time.time()- start_time)\n",
    "\n",
    "print('Accuracy of the model is: ', gbt_acc)\n",
    "print('Accuracy of 10-Fold CV is: ', gbt_acc_cv)\n",
    "print('Running time is: ', datetime.timedelta(seconds= gbt_time))"
   ]
  },
  {
   "source": [
    "#### Model 8: CatBoost Algorithm\n",
    "\n",
    "This is by a Russian company (Yandex) who created it as an in-house algorithm but now it is open sourced.\n",
    "\n",
    "- CatBoost is a state-of-the-art open source gradient boosting on decision trees library.\n",
    "- It is simple and easy to use. \n",
    "\n",
    "For more details --> https://catboost.ai/"
   ],
   "cell_type": "markdown",
   "metadata": {}
  },
  {
   "cell_type": "code",
   "execution_count": 28,
   "metadata": {},
   "outputs": [
    {
     "output_type": "execute_result",
     "data": {
      "text/plain": [
       "       Race  Sex  Age  Time_in_Hospital  Procedures  Medications  Glu_result  \\\n",
       "3923      2    1    4                 0          75           19           2   \n",
       "5407      2    1    5                 0          39            8           2   \n",
       "23244     2    0    6                 0           0            4           2   \n",
       "3573      0    1    7                 0          34            7           2   \n",
       "10259     2    0    4                 0           7           14           2   \n",
       "\n",
       "       A1C_result  Change  Diabetes_Med  metformin  repaglinide  nateglinide  \\\n",
       "3923            0       0             1          1            1            1   \n",
       "5407            2       0             0          1            1            1   \n",
       "23244           2       0             0          1            1            1   \n",
       "3573            1       0             1          1            1            1   \n",
       "10259           2       1             1          1            1            1   \n",
       "\n",
       "       glimepiride  glyburide  pioglitazone  rosiglitazone  miglitol  insulin  \\\n",
       "3923             1          1             1              1         0        2   \n",
       "5407             1          1             1              1         0        1   \n",
       "23244            1          1             1              1         0        1   \n",
       "3573             1          2             1              1         0        1   \n",
       "10259            1          1             2              1         0        0   \n",
       "\n",
       "       glyburide-metformin  glipizide-metformin  metformin-pioglitazone  \n",
       "3923                     1                    0                       0  \n",
       "5407                     1                    0                       0  \n",
       "23244                    1                    0                       0  \n",
       "3573                     1                    0                       0  \n",
       "10259                    1                    0                       0  "
      ],
      "text/html": "<div>\n<style scoped>\n    .dataframe tbody tr th:only-of-type {\n        vertical-align: middle;\n    }\n\n    .dataframe tbody tr th {\n        vertical-align: top;\n    }\n\n    .dataframe thead th {\n        text-align: right;\n    }\n</style>\n<table border=\"1\" class=\"dataframe\">\n  <thead>\n    <tr style=\"text-align: right;\">\n      <th></th>\n      <th>Race</th>\n      <th>Sex</th>\n      <th>Age</th>\n      <th>Time_in_Hospital</th>\n      <th>Procedures</th>\n      <th>Medications</th>\n      <th>Glu_result</th>\n      <th>A1C_result</th>\n      <th>Change</th>\n      <th>Diabetes_Med</th>\n      <th>metformin</th>\n      <th>repaglinide</th>\n      <th>nateglinide</th>\n      <th>glimepiride</th>\n      <th>glyburide</th>\n      <th>pioglitazone</th>\n      <th>rosiglitazone</th>\n      <th>miglitol</th>\n      <th>insulin</th>\n      <th>glyburide-metformin</th>\n      <th>glipizide-metformin</th>\n      <th>metformin-pioglitazone</th>\n    </tr>\n  </thead>\n  <tbody>\n    <tr>\n      <th>3923</th>\n      <td>2</td>\n      <td>1</td>\n      <td>4</td>\n      <td>0</td>\n      <td>75</td>\n      <td>19</td>\n      <td>2</td>\n      <td>0</td>\n      <td>0</td>\n      <td>1</td>\n      <td>1</td>\n      <td>1</td>\n      <td>1</td>\n      <td>1</td>\n      <td>1</td>\n      <td>1</td>\n      <td>1</td>\n      <td>0</td>\n      <td>2</td>\n      <td>1</td>\n      <td>0</td>\n      <td>0</td>\n    </tr>\n    <tr>\n      <th>5407</th>\n      <td>2</td>\n      <td>1</td>\n      <td>5</td>\n      <td>0</td>\n      <td>39</td>\n      <td>8</td>\n      <td>2</td>\n      <td>2</td>\n      <td>0</td>\n      <td>0</td>\n      <td>1</td>\n      <td>1</td>\n      <td>1</td>\n      <td>1</td>\n      <td>1</td>\n      <td>1</td>\n      <td>1</td>\n      <td>0</td>\n      <td>1</td>\n      <td>1</td>\n      <td>0</td>\n      <td>0</td>\n    </tr>\n    <tr>\n      <th>23244</th>\n      <td>2</td>\n      <td>0</td>\n      <td>6</td>\n      <td>0</td>\n      <td>0</td>\n      <td>4</td>\n      <td>2</td>\n      <td>2</td>\n      <td>0</td>\n      <td>0</td>\n      <td>1</td>\n      <td>1</td>\n      <td>1</td>\n      <td>1</td>\n      <td>1</td>\n      <td>1</td>\n      <td>1</td>\n      <td>0</td>\n      <td>1</td>\n      <td>1</td>\n      <td>0</td>\n      <td>0</td>\n    </tr>\n    <tr>\n      <th>3573</th>\n      <td>0</td>\n      <td>1</td>\n      <td>7</td>\n      <td>0</td>\n      <td>34</td>\n      <td>7</td>\n      <td>2</td>\n      <td>1</td>\n      <td>0</td>\n      <td>1</td>\n      <td>1</td>\n      <td>1</td>\n      <td>1</td>\n      <td>1</td>\n      <td>2</td>\n      <td>1</td>\n      <td>1</td>\n      <td>0</td>\n      <td>1</td>\n      <td>1</td>\n      <td>0</td>\n      <td>0</td>\n    </tr>\n    <tr>\n      <th>10259</th>\n      <td>2</td>\n      <td>0</td>\n      <td>4</td>\n      <td>0</td>\n      <td>7</td>\n      <td>14</td>\n      <td>2</td>\n      <td>2</td>\n      <td>1</td>\n      <td>1</td>\n      <td>1</td>\n      <td>1</td>\n      <td>1</td>\n      <td>1</td>\n      <td>1</td>\n      <td>2</td>\n      <td>1</td>\n      <td>0</td>\n      <td>0</td>\n      <td>1</td>\n      <td>0</td>\n      <td>0</td>\n    </tr>\n  </tbody>\n</table>\n</div>"
     },
     "metadata": {},
     "execution_count": 28
    }
   ],
   "source": [
    "# View the features for CatBoost model\n",
    "X_train.head()"
   ]
  },
  {
   "cell_type": "code",
   "execution_count": 29,
   "metadata": {},
   "outputs": [
    {
     "output_type": "execute_result",
     "data": {
      "text/plain": [
       "3923     1\n",
       "5407     0\n",
       "23244    0\n",
       "3573     1\n",
       "10259    1\n",
       "Name: Readmitted, dtype: int32"
      ]
     },
     "metadata": {},
     "execution_count": 29
    }
   ],
   "source": [
    "# View the label for CatBoost model\n",
    "y_train.head()"
   ]
  },
  {
   "cell_type": "code",
   "execution_count": 30,
   "metadata": {},
   "outputs": [
    {
     "output_type": "execute_result",
     "data": {
      "text/plain": [
       "array([ 0,  1,  2,  3,  4,  5,  6,  7,  8,  9, 10, 11, 12, 13, 14, 15, 16,\n",
       "       17, 18, 19, 20, 21], dtype=int64)"
      ]
     },
     "metadata": {},
     "execution_count": 30
    }
   ],
   "source": [
    "# Define the categorical features for CatBoost model\n",
    "cat_features = np.where(X_train.dtypes != np.float)[0]\n",
    "cat_features"
   ]
  },
  {
   "source": [
    "- Therefore, we can see that all the features are integers."
   ],
   "cell_type": "markdown",
   "metadata": {}
  },
  {
   "cell_type": "code",
   "execution_count": 31,
   "metadata": {},
   "outputs": [],
   "source": [
    "# We will use CatBoost Pool() function to pool together the training data and the categorical labels\n",
    "train_pool = Pool(X_train, y_train, cat_features)"
   ]
  },
  {
   "cell_type": "code",
   "execution_count": 32,
   "metadata": {
    "tags": [
     "outputPrepend"
    ]
   },
   "outputs": [
    {
     "output_type": "stream",
     "name": "stdout",
     "text": [
      "earn: 0.6286866\ttotal: 4m 54s\tremaining: 2m 56s\n",
      "625:\tlearn: 0.6285922\ttotal: 4m 54s\tremaining: 2m 55s\n",
      "626:\tlearn: 0.6285505\ttotal: 4m 54s\tremaining: 2m 55s\n",
      "627:\tlearn: 0.6285188\ttotal: 4m 55s\tremaining: 2m 54s\n",
      "628:\tlearn: 0.6284722\ttotal: 4m 55s\tremaining: 2m 54s\n",
      "629:\tlearn: 0.6284180\ttotal: 4m 56s\tremaining: 2m 53s\n",
      "630:\tlearn: 0.6283938\ttotal: 4m 56s\tremaining: 2m 53s\n",
      "631:\tlearn: 0.6283215\ttotal: 4m 56s\tremaining: 2m 52s\n",
      "632:\tlearn: 0.6283075\ttotal: 4m 57s\tremaining: 2m 52s\n",
      "633:\tlearn: 0.6282582\ttotal: 4m 57s\tremaining: 2m 51s\n",
      "634:\tlearn: 0.6282331\ttotal: 4m 58s\tremaining: 2m 51s\n",
      "635:\tlearn: 0.6281918\ttotal: 4m 59s\tremaining: 2m 51s\n",
      "636:\tlearn: 0.6281053\ttotal: 4m 59s\tremaining: 2m 50s\n",
      "637:\tlearn: 0.6280519\ttotal: 5m\tremaining: 2m 50s\n",
      "638:\tlearn: 0.6280245\ttotal: 5m 1s\tremaining: 2m 50s\n",
      "639:\tlearn: 0.6279539\ttotal: 5m 1s\tremaining: 2m 49s\n",
      "640:\tlearn: 0.6278924\ttotal: 5m 2s\tremaining: 2m 49s\n",
      "641:\tlearn: 0.6278571\ttotal: 5m 2s\tremaining: 2m 48s\n",
      "642:\tlearn: 0.6277985\ttotal: 5m 3s\tremaining: 2m 48s\n",
      "643:\tlearn: 0.6277432\ttotal: 5m 3s\tremaining: 2m 47s\n",
      "644:\tlearn: 0.6277366\ttotal: 5m 4s\tremaining: 2m 47s\n",
      "645:\tlearn: 0.6277048\ttotal: 5m 4s\tremaining: 2m 46s\n",
      "646:\tlearn: 0.6276479\ttotal: 5m 4s\tremaining: 2m 46s\n",
      "647:\tlearn: 0.6275381\ttotal: 5m 5s\tremaining: 2m 45s\n",
      "648:\tlearn: 0.6274746\ttotal: 5m 6s\tremaining: 2m 45s\n",
      "649:\tlearn: 0.6274332\ttotal: 5m 6s\tremaining: 2m 45s\n",
      "650:\tlearn: 0.6273855\ttotal: 5m 6s\tremaining: 2m 44s\n",
      "651:\tlearn: 0.6273717\ttotal: 5m 7s\tremaining: 2m 44s\n",
      "652:\tlearn: 0.6273389\ttotal: 5m 7s\tremaining: 2m 43s\n",
      "653:\tlearn: 0.6273009\ttotal: 5m 8s\tremaining: 2m 43s\n",
      "654:\tlearn: 0.6272843\ttotal: 5m 8s\tremaining: 2m 42s\n",
      "655:\tlearn: 0.6272527\ttotal: 5m 8s\tremaining: 2m 41s\n",
      "656:\tlearn: 0.6272328\ttotal: 5m 9s\tremaining: 2m 41s\n",
      "657:\tlearn: 0.6272052\ttotal: 5m 9s\tremaining: 2m 40s\n",
      "658:\tlearn: 0.6271799\ttotal: 5m 10s\tremaining: 2m 40s\n",
      "659:\tlearn: 0.6271333\ttotal: 5m 10s\tremaining: 2m 39s\n",
      "660:\tlearn: 0.6270953\ttotal: 5m 10s\tremaining: 2m 39s\n",
      "661:\tlearn: 0.6269796\ttotal: 5m 11s\tremaining: 2m 38s\n",
      "662:\tlearn: 0.6269655\ttotal: 5m 11s\tremaining: 2m 38s\n",
      "663:\tlearn: 0.6269044\ttotal: 5m 12s\tremaining: 2m 37s\n",
      "664:\tlearn: 0.6268803\ttotal: 5m 12s\tremaining: 2m 37s\n",
      "665:\tlearn: 0.6268418\ttotal: 5m 13s\tremaining: 2m 36s\n",
      "666:\tlearn: 0.6268174\ttotal: 5m 13s\tremaining: 2m 36s\n",
      "667:\tlearn: 0.6267789\ttotal: 5m 13s\tremaining: 2m 35s\n",
      "668:\tlearn: 0.6267584\ttotal: 5m 14s\tremaining: 2m 35s\n",
      "669:\tlearn: 0.6267232\ttotal: 5m 14s\tremaining: 2m 34s\n",
      "670:\tlearn: 0.6267156\ttotal: 5m 15s\tremaining: 2m 34s\n",
      "671:\tlearn: 0.6266590\ttotal: 5m 15s\tremaining: 2m 34s\n",
      "672:\tlearn: 0.6266492\ttotal: 5m 16s\tremaining: 2m 33s\n",
      "673:\tlearn: 0.6266035\ttotal: 5m 16s\tremaining: 2m 33s\n",
      "674:\tlearn: 0.6265722\ttotal: 5m 16s\tremaining: 2m 32s\n",
      "675:\tlearn: 0.6265079\ttotal: 5m 17s\tremaining: 2m 32s\n",
      "676:\tlearn: 0.6264176\ttotal: 5m 17s\tremaining: 2m 31s\n",
      "677:\tlearn: 0.6264012\ttotal: 5m 18s\tremaining: 2m 31s\n",
      "678:\tlearn: 0.6263642\ttotal: 5m 18s\tremaining: 2m 30s\n",
      "679:\tlearn: 0.6263112\ttotal: 5m 19s\tremaining: 2m 30s\n",
      "680:\tlearn: 0.6262881\ttotal: 5m 19s\tremaining: 2m 29s\n",
      "681:\tlearn: 0.6262167\ttotal: 5m 19s\tremaining: 2m 29s\n",
      "682:\tlearn: 0.6261747\ttotal: 5m 20s\tremaining: 2m 28s\n",
      "683:\tlearn: 0.6261584\ttotal: 5m 20s\tremaining: 2m 28s\n",
      "684:\tlearn: 0.6261057\ttotal: 5m 21s\tremaining: 2m 27s\n",
      "685:\tlearn: 0.6260755\ttotal: 5m 21s\tremaining: 2m 27s\n",
      "686:\tlearn: 0.6260319\ttotal: 5m 22s\tremaining: 2m 26s\n",
      "687:\tlearn: 0.6260134\ttotal: 5m 22s\tremaining: 2m 26s\n",
      "688:\tlearn: 0.6259664\ttotal: 5m 22s\tremaining: 2m 25s\n",
      "689:\tlearn: 0.6259285\ttotal: 5m 23s\tremaining: 2m 25s\n",
      "690:\tlearn: 0.6258941\ttotal: 5m 23s\tremaining: 2m 24s\n",
      "691:\tlearn: 0.6258164\ttotal: 5m 24s\tremaining: 2m 24s\n",
      "692:\tlearn: 0.6257567\ttotal: 5m 24s\tremaining: 2m 23s\n",
      "693:\tlearn: 0.6257221\ttotal: 5m 24s\tremaining: 2m 23s\n",
      "694:\tlearn: 0.6256463\ttotal: 5m 25s\tremaining: 2m 22s\n",
      "695:\tlearn: 0.6255860\ttotal: 5m 25s\tremaining: 2m 22s\n",
      "696:\tlearn: 0.6255375\ttotal: 5m 26s\tremaining: 2m 21s\n",
      "697:\tlearn: 0.6255061\ttotal: 5m 26s\tremaining: 2m 21s\n",
      "698:\tlearn: 0.6254822\ttotal: 5m 26s\tremaining: 2m 20s\n",
      "699:\tlearn: 0.6254403\ttotal: 5m 27s\tremaining: 2m 20s\n",
      "700:\tlearn: 0.6254304\ttotal: 5m 27s\tremaining: 2m 19s\n",
      "701:\tlearn: 0.6253485\ttotal: 5m 28s\tremaining: 2m 19s\n",
      "702:\tlearn: 0.6253227\ttotal: 5m 28s\tremaining: 2m 18s\n",
      "703:\tlearn: 0.6252868\ttotal: 5m 28s\tremaining: 2m 18s\n",
      "704:\tlearn: 0.6251976\ttotal: 5m 29s\tremaining: 2m 17s\n",
      "705:\tlearn: 0.6251496\ttotal: 5m 29s\tremaining: 2m 17s\n",
      "706:\tlearn: 0.6251222\ttotal: 5m 30s\tremaining: 2m 16s\n",
      "707:\tlearn: 0.6250949\ttotal: 5m 30s\tremaining: 2m 16s\n",
      "708:\tlearn: 0.6249510\ttotal: 5m 30s\tremaining: 2m 15s\n",
      "709:\tlearn: 0.6249462\ttotal: 5m 31s\tremaining: 2m 15s\n",
      "710:\tlearn: 0.6248527\ttotal: 5m 31s\tremaining: 2m 14s\n",
      "711:\tlearn: 0.6248321\ttotal: 5m 32s\tremaining: 2m 14s\n",
      "712:\tlearn: 0.6247439\ttotal: 5m 32s\tremaining: 2m 13s\n",
      "713:\tlearn: 0.6247272\ttotal: 5m 33s\tremaining: 2m 13s\n",
      "714:\tlearn: 0.6246506\ttotal: 5m 33s\tremaining: 2m 12s\n",
      "715:\tlearn: 0.6246112\ttotal: 5m 33s\tremaining: 2m 12s\n",
      "716:\tlearn: 0.6245836\ttotal: 5m 34s\tremaining: 2m 11s\n",
      "717:\tlearn: 0.6245643\ttotal: 5m 34s\tremaining: 2m 11s\n",
      "718:\tlearn: 0.6245162\ttotal: 5m 34s\tremaining: 2m 10s\n",
      "719:\tlearn: 0.6245119\ttotal: 5m 35s\tremaining: 2m 10s\n",
      "720:\tlearn: 0.6244489\ttotal: 5m 35s\tremaining: 2m 9s\n",
      "721:\tlearn: 0.6243833\ttotal: 5m 36s\tremaining: 2m 9s\n",
      "722:\tlearn: 0.6243647\ttotal: 5m 36s\tremaining: 2m 8s\n",
      "723:\tlearn: 0.6242758\ttotal: 5m 36s\tremaining: 2m 8s\n",
      "724:\tlearn: 0.6242483\ttotal: 5m 37s\tremaining: 2m 7s\n",
      "725:\tlearn: 0.6241776\ttotal: 5m 37s\tremaining: 2m 7s\n",
      "726:\tlearn: 0.6241448\ttotal: 5m 38s\tremaining: 2m 6s\n",
      "727:\tlearn: 0.6241371\ttotal: 5m 38s\tremaining: 2m 6s\n",
      "728:\tlearn: 0.6240865\ttotal: 5m 38s\tremaining: 2m 5s\n",
      "729:\tlearn: 0.6240743\ttotal: 5m 39s\tremaining: 2m 5s\n",
      "730:\tlearn: 0.6240490\ttotal: 5m 39s\tremaining: 2m 5s\n",
      "731:\tlearn: 0.6239889\ttotal: 5m 40s\tremaining: 2m 4s\n",
      "732:\tlearn: 0.6239141\ttotal: 5m 40s\tremaining: 2m 4s\n",
      "733:\tlearn: 0.6238274\ttotal: 5m 41s\tremaining: 2m 3s\n",
      "734:\tlearn: 0.6237927\ttotal: 5m 41s\tremaining: 2m 3s\n",
      "735:\tlearn: 0.6237821\ttotal: 5m 42s\tremaining: 2m 2s\n",
      "736:\tlearn: 0.6237520\ttotal: 5m 42s\tremaining: 2m 2s\n",
      "737:\tlearn: 0.6237345\ttotal: 5m 43s\tremaining: 2m 1s\n",
      "738:\tlearn: 0.6236890\ttotal: 5m 43s\tremaining: 2m 1s\n",
      "739:\tlearn: 0.6236513\ttotal: 5m 43s\tremaining: 2m\n",
      "740:\tlearn: 0.6235808\ttotal: 5m 44s\tremaining: 2m\n",
      "741:\tlearn: 0.6235470\ttotal: 5m 44s\tremaining: 1m 59s\n",
      "742:\tlearn: 0.6235215\ttotal: 5m 45s\tremaining: 1m 59s\n",
      "743:\tlearn: 0.6234894\ttotal: 5m 45s\tremaining: 1m 58s\n",
      "744:\tlearn: 0.6234713\ttotal: 5m 45s\tremaining: 1m 58s\n",
      "745:\tlearn: 0.6234378\ttotal: 5m 46s\tremaining: 1m 57s\n",
      "746:\tlearn: 0.6234033\ttotal: 5m 46s\tremaining: 1m 57s\n",
      "747:\tlearn: 0.6233025\ttotal: 5m 47s\tremaining: 1m 56s\n",
      "748:\tlearn: 0.6232876\ttotal: 5m 47s\tremaining: 1m 56s\n",
      "749:\tlearn: 0.6232469\ttotal: 5m 47s\tremaining: 1m 55s\n",
      "750:\tlearn: 0.6232075\ttotal: 5m 48s\tremaining: 1m 55s\n",
      "751:\tlearn: 0.6231732\ttotal: 5m 48s\tremaining: 1m 55s\n",
      "752:\tlearn: 0.6231312\ttotal: 5m 49s\tremaining: 1m 54s\n",
      "753:\tlearn: 0.6230946\ttotal: 5m 49s\tremaining: 1m 54s\n",
      "754:\tlearn: 0.6230125\ttotal: 5m 50s\tremaining: 1m 53s\n",
      "755:\tlearn: 0.6229894\ttotal: 5m 50s\tremaining: 1m 53s\n",
      "756:\tlearn: 0.6229680\ttotal: 5m 50s\tremaining: 1m 52s\n",
      "757:\tlearn: 0.6229021\ttotal: 5m 51s\tremaining: 1m 52s\n",
      "758:\tlearn: 0.6228748\ttotal: 5m 51s\tremaining: 1m 51s\n",
      "759:\tlearn: 0.6228223\ttotal: 5m 52s\tremaining: 1m 51s\n",
      "760:\tlearn: 0.6227442\ttotal: 5m 52s\tremaining: 1m 50s\n",
      "761:\tlearn: 0.6226910\ttotal: 5m 53s\tremaining: 1m 50s\n",
      "762:\tlearn: 0.6226545\ttotal: 5m 53s\tremaining: 1m 49s\n",
      "763:\tlearn: 0.6226320\ttotal: 5m 53s\tremaining: 1m 49s\n",
      "764:\tlearn: 0.6225799\ttotal: 5m 54s\tremaining: 1m 48s\n",
      "765:\tlearn: 0.6225361\ttotal: 5m 54s\tremaining: 1m 48s\n",
      "766:\tlearn: 0.6224588\ttotal: 5m 55s\tremaining: 1m 47s\n",
      "767:\tlearn: 0.6224150\ttotal: 5m 55s\tremaining: 1m 47s\n",
      "768:\tlearn: 0.6223563\ttotal: 5m 56s\tremaining: 1m 47s\n",
      "769:\tlearn: 0.6223034\ttotal: 5m 56s\tremaining: 1m 46s\n",
      "770:\tlearn: 0.6221951\ttotal: 5m 57s\tremaining: 1m 46s\n",
      "771:\tlearn: 0.6221792\ttotal: 5m 57s\tremaining: 1m 45s\n",
      "772:\tlearn: 0.6221096\ttotal: 5m 57s\tremaining: 1m 45s\n",
      "773:\tlearn: 0.6220919\ttotal: 5m 58s\tremaining: 1m 44s\n",
      "774:\tlearn: 0.6220857\ttotal: 5m 58s\tremaining: 1m 44s\n",
      "775:\tlearn: 0.6220232\ttotal: 5m 59s\tremaining: 1m 43s\n",
      "776:\tlearn: 0.6219787\ttotal: 5m 59s\tremaining: 1m 43s\n",
      "777:\tlearn: 0.6219439\ttotal: 5m 59s\tremaining: 1m 42s\n",
      "778:\tlearn: 0.6218968\ttotal: 6m\tremaining: 1m 42s\n",
      "779:\tlearn: 0.6218371\ttotal: 6m\tremaining: 1m 41s\n",
      "780:\tlearn: 0.6218138\ttotal: 6m\tremaining: 1m 41s\n",
      "781:\tlearn: 0.6217971\ttotal: 6m 1s\tremaining: 1m 40s\n",
      "782:\tlearn: 0.6217210\ttotal: 6m 1s\tremaining: 1m 40s\n",
      "783:\tlearn: 0.6216787\ttotal: 6m 2s\tremaining: 1m 39s\n",
      "784:\tlearn: 0.6216080\ttotal: 6m 2s\tremaining: 1m 39s\n",
      "785:\tlearn: 0.6215569\ttotal: 6m 3s\tremaining: 1m 38s\n",
      "786:\tlearn: 0.6215261\ttotal: 6m 3s\tremaining: 1m 38s\n",
      "787:\tlearn: 0.6215005\ttotal: 6m 3s\tremaining: 1m 37s\n",
      "788:\tlearn: 0.6214649\ttotal: 6m 4s\tremaining: 1m 37s\n",
      "789:\tlearn: 0.6214433\ttotal: 6m 4s\tremaining: 1m 36s\n",
      "790:\tlearn: 0.6214209\ttotal: 6m 5s\tremaining: 1m 36s\n",
      "791:\tlearn: 0.6213669\ttotal: 6m 5s\tremaining: 1m 35s\n",
      "792:\tlearn: 0.6213484\ttotal: 6m 6s\tremaining: 1m 35s\n",
      "793:\tlearn: 0.6213195\ttotal: 6m 6s\tremaining: 1m 35s\n",
      "794:\tlearn: 0.6212789\ttotal: 6m 6s\tremaining: 1m 34s\n",
      "795:\tlearn: 0.6211582\ttotal: 6m 7s\tremaining: 1m 34s\n",
      "796:\tlearn: 0.6211354\ttotal: 6m 7s\tremaining: 1m 33s\n",
      "797:\tlearn: 0.6210926\ttotal: 6m 7s\tremaining: 1m 33s\n",
      "798:\tlearn: 0.6210203\ttotal: 6m 8s\tremaining: 1m 32s\n",
      "799:\tlearn: 0.6209672\ttotal: 6m 8s\tremaining: 1m 32s\n",
      "800:\tlearn: 0.6208590\ttotal: 6m 9s\tremaining: 1m 31s\n",
      "801:\tlearn: 0.6208205\ttotal: 6m 9s\tremaining: 1m 31s\n",
      "802:\tlearn: 0.6207486\ttotal: 6m 10s\tremaining: 1m 30s\n",
      "803:\tlearn: 0.6207065\ttotal: 6m 10s\tremaining: 1m 30s\n",
      "804:\tlearn: 0.6206442\ttotal: 6m 10s\tremaining: 1m 29s\n",
      "805:\tlearn: 0.6206269\ttotal: 6m 11s\tremaining: 1m 29s\n",
      "806:\tlearn: 0.6206107\ttotal: 6m 11s\tremaining: 1m 28s\n",
      "807:\tlearn: 0.6205480\ttotal: 6m 12s\tremaining: 1m 28s\n",
      "808:\tlearn: 0.6204681\ttotal: 6m 12s\tremaining: 1m 27s\n",
      "809:\tlearn: 0.6204400\ttotal: 6m 13s\tremaining: 1m 27s\n",
      "810:\tlearn: 0.6204068\ttotal: 6m 13s\tremaining: 1m 27s\n",
      "811:\tlearn: 0.6202950\ttotal: 6m 13s\tremaining: 1m 26s\n",
      "812:\tlearn: 0.6202167\ttotal: 6m 14s\tremaining: 1m 26s\n",
      "813:\tlearn: 0.6201663\ttotal: 6m 15s\tremaining: 1m 25s\n",
      "814:\tlearn: 0.6201465\ttotal: 6m 15s\tremaining: 1m 25s\n",
      "815:\tlearn: 0.6201360\ttotal: 6m 15s\tremaining: 1m 24s\n",
      "816:\tlearn: 0.6200851\ttotal: 6m 16s\tremaining: 1m 24s\n",
      "817:\tlearn: 0.6200080\ttotal: 6m 16s\tremaining: 1m 23s\n",
      "818:\tlearn: 0.6199894\ttotal: 6m 17s\tremaining: 1m 23s\n",
      "819:\tlearn: 0.6199719\ttotal: 6m 17s\tremaining: 1m 22s\n",
      "820:\tlearn: 0.6199443\ttotal: 6m 18s\tremaining: 1m 22s\n",
      "821:\tlearn: 0.6199025\ttotal: 6m 18s\tremaining: 1m 21s\n",
      "822:\tlearn: 0.6198855\ttotal: 6m 18s\tremaining: 1m 21s\n",
      "823:\tlearn: 0.6198516\ttotal: 6m 19s\tremaining: 1m 21s\n",
      "824:\tlearn: 0.6197922\ttotal: 6m 19s\tremaining: 1m 20s\n",
      "825:\tlearn: 0.6197755\ttotal: 6m 20s\tremaining: 1m 20s\n",
      "826:\tlearn: 0.6197357\ttotal: 6m 20s\tremaining: 1m 19s\n",
      "827:\tlearn: 0.6196784\ttotal: 6m 20s\tremaining: 1m 19s\n",
      "828:\tlearn: 0.6196638\ttotal: 6m 21s\tremaining: 1m 18s\n",
      "829:\tlearn: 0.6196598\ttotal: 6m 21s\tremaining: 1m 18s\n",
      "830:\tlearn: 0.6196440\ttotal: 6m 22s\tremaining: 1m 17s\n",
      "831:\tlearn: 0.6196257\ttotal: 6m 22s\tremaining: 1m 17s\n",
      "832:\tlearn: 0.6195982\ttotal: 6m 23s\tremaining: 1m 16s\n",
      "833:\tlearn: 0.6195532\ttotal: 6m 23s\tremaining: 1m 16s\n",
      "834:\tlearn: 0.6195011\ttotal: 6m 24s\tremaining: 1m 15s\n",
      "835:\tlearn: 0.6194918\ttotal: 6m 24s\tremaining: 1m 15s\n",
      "836:\tlearn: 0.6194557\ttotal: 6m 25s\tremaining: 1m 15s\n",
      "837:\tlearn: 0.6194398\ttotal: 6m 25s\tremaining: 1m 14s\n",
      "838:\tlearn: 0.6194233\ttotal: 6m 26s\tremaining: 1m 14s\n",
      "839:\tlearn: 0.6193746\ttotal: 6m 26s\tremaining: 1m 13s\n",
      "840:\tlearn: 0.6193616\ttotal: 6m 26s\tremaining: 1m 13s\n",
      "841:\tlearn: 0.6193490\ttotal: 6m 27s\tremaining: 1m 12s\n",
      "842:\tlearn: 0.6193091\ttotal: 6m 27s\tremaining: 1m 12s\n",
      "843:\tlearn: 0.6192458\ttotal: 6m 28s\tremaining: 1m 11s\n",
      "844:\tlearn: 0.6191734\ttotal: 6m 28s\tremaining: 1m 11s\n",
      "845:\tlearn: 0.6190824\ttotal: 6m 29s\tremaining: 1m 10s\n",
      "846:\tlearn: 0.6190530\ttotal: 6m 29s\tremaining: 1m 10s\n",
      "847:\tlearn: 0.6189087\ttotal: 6m 29s\tremaining: 1m 9s\n",
      "848:\tlearn: 0.6188660\ttotal: 6m 30s\tremaining: 1m 9s\n",
      "849:\tlearn: 0.6187610\ttotal: 6m 30s\tremaining: 1m 8s\n",
      "850:\tlearn: 0.6186670\ttotal: 6m 31s\tremaining: 1m 8s\n",
      "851:\tlearn: 0.6186186\ttotal: 6m 31s\tremaining: 1m 8s\n",
      "852:\tlearn: 0.6185752\ttotal: 6m 31s\tremaining: 1m 7s\n",
      "853:\tlearn: 0.6185605\ttotal: 6m 32s\tremaining: 1m 7s\n",
      "854:\tlearn: 0.6185191\ttotal: 6m 32s\tremaining: 1m 6s\n",
      "855:\tlearn: 0.6185007\ttotal: 6m 33s\tremaining: 1m 6s\n",
      "856:\tlearn: 0.6184555\ttotal: 6m 33s\tremaining: 1m 5s\n",
      "857:\tlearn: 0.6183976\ttotal: 6m 34s\tremaining: 1m 5s\n",
      "858:\tlearn: 0.6183636\ttotal: 6m 34s\tremaining: 1m 4s\n",
      "859:\tlearn: 0.6182995\ttotal: 6m 34s\tremaining: 1m 4s\n",
      "860:\tlearn: 0.6182236\ttotal: 6m 35s\tremaining: 1m 3s\n",
      "861:\tlearn: 0.6182076\ttotal: 6m 35s\tremaining: 1m 3s\n",
      "862:\tlearn: 0.6181712\ttotal: 6m 36s\tremaining: 1m 2s\n",
      "863:\tlearn: 0.6181220\ttotal: 6m 36s\tremaining: 1m 2s\n",
      "864:\tlearn: 0.6180899\ttotal: 6m 36s\tremaining: 1m 1s\n",
      "865:\tlearn: 0.6180450\ttotal: 6m 37s\tremaining: 1m 1s\n",
      "866:\tlearn: 0.6180088\ttotal: 6m 37s\tremaining: 1m 1s\n",
      "867:\tlearn: 0.6179417\ttotal: 6m 38s\tremaining: 1m\n",
      "868:\tlearn: 0.6179311\ttotal: 6m 38s\tremaining: 1m\n",
      "869:\tlearn: 0.6178840\ttotal: 6m 38s\tremaining: 59.6s\n",
      "870:\tlearn: 0.6178515\ttotal: 6m 39s\tremaining: 59.1s\n",
      "871:\tlearn: 0.6177794\ttotal: 6m 39s\tremaining: 58.7s\n",
      "872:\tlearn: 0.6177745\ttotal: 6m 39s\tremaining: 58.2s\n",
      "873:\tlearn: 0.6177557\ttotal: 6m 40s\tremaining: 57.7s\n",
      "874:\tlearn: 0.6176864\ttotal: 6m 40s\tremaining: 57.2s\n",
      "875:\tlearn: 0.6176355\ttotal: 6m 41s\tremaining: 56.8s\n",
      "876:\tlearn: 0.6175749\ttotal: 6m 41s\tremaining: 56.3s\n",
      "877:\tlearn: 0.6174941\ttotal: 6m 41s\tremaining: 55.8s\n",
      "878:\tlearn: 0.6174875\ttotal: 6m 42s\tremaining: 55.4s\n",
      "879:\tlearn: 0.6174469\ttotal: 6m 42s\tremaining: 54.9s\n",
      "880:\tlearn: 0.6174229\ttotal: 6m 43s\tremaining: 54.4s\n",
      "881:\tlearn: 0.6173586\ttotal: 6m 43s\tremaining: 54s\n",
      "882:\tlearn: 0.6173378\ttotal: 6m 43s\tremaining: 53.5s\n",
      "883:\tlearn: 0.6173181\ttotal: 6m 44s\tremaining: 53.1s\n",
      "884:\tlearn: 0.6173130\ttotal: 6m 44s\tremaining: 52.6s\n",
      "885:\tlearn: 0.6171807\ttotal: 6m 45s\tremaining: 52.1s\n",
      "886:\tlearn: 0.6171607\ttotal: 6m 45s\tremaining: 51.6s\n",
      "887:\tlearn: 0.6171446\ttotal: 6m 45s\tremaining: 51.2s\n",
      "888:\tlearn: 0.6171277\ttotal: 6m 46s\tremaining: 50.7s\n",
      "889:\tlearn: 0.6170820\ttotal: 6m 46s\tremaining: 50.2s\n",
      "890:\tlearn: 0.6170297\ttotal: 6m 46s\tremaining: 49.8s\n",
      "891:\tlearn: 0.6170057\ttotal: 6m 47s\tremaining: 49.3s\n",
      "892:\tlearn: 0.6169705\ttotal: 6m 47s\tremaining: 48.8s\n",
      "893:\tlearn: 0.6168941\ttotal: 6m 48s\tremaining: 48.4s\n",
      "894:\tlearn: 0.6168575\ttotal: 6m 48s\tremaining: 48s\n",
      "895:\tlearn: 0.6168499\ttotal: 6m 49s\tremaining: 47.5s\n",
      "896:\tlearn: 0.6167898\ttotal: 6m 49s\tremaining: 47s\n",
      "897:\tlearn: 0.6167461\ttotal: 6m 50s\tremaining: 46.6s\n",
      "898:\tlearn: 0.6166883\ttotal: 6m 50s\tremaining: 46.1s\n",
      "899:\tlearn: 0.6166694\ttotal: 6m 50s\tremaining: 45.7s\n",
      "900:\tlearn: 0.6166522\ttotal: 6m 51s\tremaining: 45.2s\n",
      "901:\tlearn: 0.6166304\ttotal: 6m 51s\tremaining: 44.7s\n",
      "902:\tlearn: 0.6165848\ttotal: 6m 51s\tremaining: 44.3s\n",
      "903:\tlearn: 0.6165303\ttotal: 6m 52s\tremaining: 43.8s\n",
      "904:\tlearn: 0.6165023\ttotal: 6m 52s\tremaining: 43.3s\n",
      "905:\tlearn: 0.6164691\ttotal: 6m 53s\tremaining: 42.9s\n",
      "906:\tlearn: 0.6164490\ttotal: 6m 53s\tremaining: 42.4s\n",
      "907:\tlearn: 0.6164105\ttotal: 6m 53s\tremaining: 41.9s\n",
      "908:\tlearn: 0.6163658\ttotal: 6m 54s\tremaining: 41.5s\n",
      "909:\tlearn: 0.6163536\ttotal: 6m 54s\tremaining: 41s\n",
      "910:\tlearn: 0.6163278\ttotal: 6m 54s\tremaining: 40.5s\n",
      "911:\tlearn: 0.6162797\ttotal: 6m 55s\tremaining: 40.1s\n",
      "912:\tlearn: 0.6162495\ttotal: 6m 55s\tremaining: 39.6s\n",
      "913:\tlearn: 0.6162223\ttotal: 6m 55s\tremaining: 39.1s\n",
      "914:\tlearn: 0.6161891\ttotal: 6m 56s\tremaining: 38.7s\n",
      "915:\tlearn: 0.6161729\ttotal: 6m 56s\tremaining: 38.2s\n",
      "916:\tlearn: 0.6161383\ttotal: 6m 56s\tremaining: 37.7s\n",
      "917:\tlearn: 0.6160757\ttotal: 6m 57s\tremaining: 37.3s\n",
      "918:\tlearn: 0.6160492\ttotal: 6m 57s\tremaining: 36.8s\n",
      "919:\tlearn: 0.6160181\ttotal: 6m 58s\tremaining: 36.4s\n",
      "920:\tlearn: 0.6159724\ttotal: 6m 58s\tremaining: 35.9s\n",
      "921:\tlearn: 0.6159266\ttotal: 6m 58s\tremaining: 35.4s\n",
      "922:\tlearn: 0.6158934\ttotal: 6m 59s\tremaining: 35s\n",
      "923:\tlearn: 0.6158352\ttotal: 6m 59s\tremaining: 34.5s\n",
      "924:\tlearn: 0.6157634\ttotal: 6m 59s\tremaining: 34.1s\n",
      "925:\tlearn: 0.6157221\ttotal: 7m\tremaining: 33.6s\n",
      "926:\tlearn: 0.6156544\ttotal: 7m\tremaining: 33.1s\n",
      "927:\tlearn: 0.6155968\ttotal: 7m 1s\tremaining: 32.7s\n",
      "928:\tlearn: 0.6155914\ttotal: 7m 1s\tremaining: 32.2s\n",
      "929:\tlearn: 0.6155223\ttotal: 7m 1s\tremaining: 31.7s\n",
      "930:\tlearn: 0.6154897\ttotal: 7m 2s\tremaining: 31.3s\n",
      "931:\tlearn: 0.6154494\ttotal: 7m 2s\tremaining: 30.8s\n",
      "932:\tlearn: 0.6154193\ttotal: 7m 2s\tremaining: 30.4s\n",
      "933:\tlearn: 0.6153150\ttotal: 7m 3s\tremaining: 29.9s\n",
      "934:\tlearn: 0.6152867\ttotal: 7m 3s\tremaining: 29.5s\n",
      "935:\tlearn: 0.6152687\ttotal: 7m 4s\tremaining: 29s\n",
      "936:\tlearn: 0.6152532\ttotal: 7m 4s\tremaining: 28.5s\n",
      "937:\tlearn: 0.6151902\ttotal: 7m 4s\tremaining: 28.1s\n",
      "938:\tlearn: 0.6151528\ttotal: 7m 5s\tremaining: 27.6s\n",
      "939:\tlearn: 0.6151473\ttotal: 7m 5s\tremaining: 27.2s\n",
      "940:\tlearn: 0.6151332\ttotal: 7m 6s\tremaining: 26.7s\n",
      "941:\tlearn: 0.6150848\ttotal: 7m 6s\tremaining: 26.3s\n",
      "942:\tlearn: 0.6149974\ttotal: 7m 6s\tremaining: 25.8s\n",
      "943:\tlearn: 0.6149785\ttotal: 7m 7s\tremaining: 25.3s\n",
      "944:\tlearn: 0.6149279\ttotal: 7m 7s\tremaining: 24.9s\n",
      "945:\tlearn: 0.6148438\ttotal: 7m 7s\tremaining: 24.4s\n",
      "946:\tlearn: 0.6148128\ttotal: 7m 8s\tremaining: 24s\n",
      "947:\tlearn: 0.6147410\ttotal: 7m 8s\tremaining: 23.5s\n",
      "948:\tlearn: 0.6146689\ttotal: 7m 8s\tremaining: 23s\n",
      "949:\tlearn: 0.6146617\ttotal: 7m 9s\tremaining: 22.6s\n",
      "950:\tlearn: 0.6146254\ttotal: 7m 9s\tremaining: 22.1s\n",
      "951:\tlearn: 0.6146102\ttotal: 7m 9s\tremaining: 21.7s\n",
      "952:\tlearn: 0.6145958\ttotal: 7m 10s\tremaining: 21.2s\n",
      "953:\tlearn: 0.6145804\ttotal: 7m 10s\tremaining: 20.8s\n",
      "954:\tlearn: 0.6145475\ttotal: 7m 10s\tremaining: 20.3s\n",
      "955:\tlearn: 0.6145274\ttotal: 7m 11s\tremaining: 19.9s\n",
      "956:\tlearn: 0.6144393\ttotal: 7m 11s\tremaining: 19.4s\n",
      "957:\tlearn: 0.6143981\ttotal: 7m 12s\tremaining: 18.9s\n",
      "958:\tlearn: 0.6143434\ttotal: 7m 12s\tremaining: 18.5s\n",
      "959:\tlearn: 0.6143317\ttotal: 7m 12s\tremaining: 18s\n",
      "960:\tlearn: 0.6142687\ttotal: 7m 13s\tremaining: 17.6s\n",
      "961:\tlearn: 0.6142117\ttotal: 7m 13s\tremaining: 17.1s\n",
      "962:\tlearn: 0.6141687\ttotal: 7m 13s\tremaining: 16.7s\n",
      "963:\tlearn: 0.6141521\ttotal: 7m 14s\tremaining: 16.2s\n",
      "964:\tlearn: 0.6141047\ttotal: 7m 14s\tremaining: 15.8s\n",
      "965:\tlearn: 0.6140782\ttotal: 7m 15s\tremaining: 15.3s\n",
      "966:\tlearn: 0.6140390\ttotal: 7m 15s\tremaining: 14.9s\n",
      "967:\tlearn: 0.6139842\ttotal: 7m 15s\tremaining: 14.4s\n",
      "968:\tlearn: 0.6139678\ttotal: 7m 16s\tremaining: 14s\n",
      "969:\tlearn: 0.6139219\ttotal: 7m 16s\tremaining: 13.5s\n",
      "970:\tlearn: 0.6138278\ttotal: 7m 17s\tremaining: 13.1s\n",
      "971:\tlearn: 0.6138043\ttotal: 7m 17s\tremaining: 12.6s\n",
      "972:\tlearn: 0.6137651\ttotal: 7m 17s\tremaining: 12.1s\n",
      "973:\tlearn: 0.6137549\ttotal: 7m 18s\tremaining: 11.7s\n",
      "974:\tlearn: 0.6137081\ttotal: 7m 18s\tremaining: 11.2s\n",
      "975:\tlearn: 0.6136891\ttotal: 7m 18s\tremaining: 10.8s\n",
      "976:\tlearn: 0.6136727\ttotal: 7m 19s\tremaining: 10.3s\n",
      "977:\tlearn: 0.6135953\ttotal: 7m 19s\tremaining: 9.89s\n",
      "978:\tlearn: 0.6135377\ttotal: 7m 20s\tremaining: 9.44s\n",
      "979:\tlearn: 0.6135063\ttotal: 7m 20s\tremaining: 8.99s\n",
      "980:\tlearn: 0.6134741\ttotal: 7m 20s\tremaining: 8.54s\n",
      "981:\tlearn: 0.6134297\ttotal: 7m 21s\tremaining: 8.09s\n",
      "982:\tlearn: 0.6134135\ttotal: 7m 21s\tremaining: 7.63s\n",
      "983:\tlearn: 0.6133846\ttotal: 7m 21s\tremaining: 7.18s\n",
      "984:\tlearn: 0.6133517\ttotal: 7m 22s\tremaining: 6.73s\n",
      "985:\tlearn: 0.6133338\ttotal: 7m 22s\tremaining: 6.28s\n",
      "986:\tlearn: 0.6132855\ttotal: 7m 22s\tremaining: 5.83s\n",
      "987:\tlearn: 0.6132651\ttotal: 7m 23s\tremaining: 5.38s\n",
      "988:\tlearn: 0.6131587\ttotal: 7m 23s\tremaining: 4.93s\n",
      "989:\tlearn: 0.6131258\ttotal: 7m 24s\tremaining: 4.49s\n",
      "990:\tlearn: 0.6130773\ttotal: 7m 24s\tremaining: 4.04s\n",
      "991:\tlearn: 0.6130246\ttotal: 7m 24s\tremaining: 3.59s\n",
      "992:\tlearn: 0.6130003\ttotal: 7m 25s\tremaining: 3.14s\n",
      "993:\tlearn: 0.6128969\ttotal: 7m 25s\tremaining: 2.69s\n",
      "994:\tlearn: 0.6128430\ttotal: 7m 25s\tremaining: 2.24s\n",
      "995:\tlearn: 0.6127858\ttotal: 7m 26s\tremaining: 1.79s\n",
      "996:\tlearn: 0.6127677\ttotal: 7m 27s\tremaining: 1.34s\n",
      "997:\tlearn: 0.6127213\ttotal: 7m 27s\tremaining: 897ms\n",
      "998:\tlearn: 0.6126528\ttotal: 7m 27s\tremaining: 448ms\n",
      "999:\tlearn: 0.6125734\ttotal: 7m 28s\tremaining: 0us\n"
     ]
    }
   ],
   "source": [
    "# CatBoost Model definition\n",
    "catboost_model = CatBoostClassifier(iterations= 1000, custom_loss= ['Accuracy'], loss_function= 'Logloss')\n",
    "\n",
    "# Fit CatBoost model\n",
    "catboost_model.fit(train_pool, plot= False)\n",
    "\n",
    "# CatBoost accuracy\n",
    "catboost_acc = round(catboost_model.score(X_train, y_train)*100, 2)"
   ]
  },
  {
   "cell_type": "code",
   "execution_count": 33,
   "metadata": {
    "tags": [
     "outputPrepend"
    ]
   },
   "outputs": [
    {
     "output_type": "stream",
     "name": "stdout",
     "text": [
      "8 (576)\ttotal: 46m 16s\tremaining: 12m 40s\n",
      "785:\tlearn: 0.6247161\ttest: 0.6607468\tbest: 0.6604918 (576)\ttotal: 46m 20s\tremaining: 12m 37s\n",
      "786:\tlearn: 0.6246836\ttest: 0.6607430\tbest: 0.6604918 (576)\ttotal: 46m 24s\tremaining: 12m 33s\n",
      "787:\tlearn: 0.6246360\ttest: 0.6607334\tbest: 0.6604918 (576)\ttotal: 46m 29s\tremaining: 12m 30s\n",
      "788:\tlearn: 0.6245978\ttest: 0.6607236\tbest: 0.6604918 (576)\ttotal: 46m 33s\tremaining: 12m 27s\n",
      "789:\tlearn: 0.6245622\ttest: 0.6607228\tbest: 0.6604918 (576)\ttotal: 46m 38s\tremaining: 12m 23s\n",
      "790:\tlearn: 0.6245193\ttest: 0.6607295\tbest: 0.6604918 (576)\ttotal: 46m 42s\tremaining: 12m 20s\n",
      "791:\tlearn: 0.6244900\ttest: 0.6607332\tbest: 0.6604918 (576)\ttotal: 46m 46s\tremaining: 12m 17s\n",
      "792:\tlearn: 0.6244605\ttest: 0.6607295\tbest: 0.6604918 (576)\ttotal: 46m 50s\tremaining: 12m 13s\n",
      "793:\tlearn: 0.6244076\ttest: 0.6607295\tbest: 0.6604918 (576)\ttotal: 46m 55s\tremaining: 12m 10s\n",
      "794:\tlearn: 0.6243811\ttest: 0.6607438\tbest: 0.6604918 (576)\ttotal: 46m 59s\tremaining: 12m 7s\n",
      "795:\tlearn: 0.6243489\ttest: 0.6607381\tbest: 0.6604918 (576)\ttotal: 47m 3s\tremaining: 12m 3s\n",
      "796:\tlearn: 0.6243128\ttest: 0.6607220\tbest: 0.6604918 (576)\ttotal: 47m 7s\tremaining: 12m\n",
      "797:\tlearn: 0.6242576\ttest: 0.6607202\tbest: 0.6604918 (576)\ttotal: 47m 11s\tremaining: 11m 56s\n",
      "798:\tlearn: 0.6242234\ttest: 0.6607223\tbest: 0.6604918 (576)\ttotal: 47m 16s\tremaining: 11m 53s\n",
      "799:\tlearn: 0.6241889\ttest: 0.6607216\tbest: 0.6604918 (576)\ttotal: 47m 20s\tremaining: 11m 50s\n",
      "800:\tlearn: 0.6241339\ttest: 0.6607160\tbest: 0.6604918 (576)\ttotal: 47m 23s\tremaining: 11m 46s\n",
      "801:\tlearn: 0.6240876\ttest: 0.6607198\tbest: 0.6604918 (576)\ttotal: 47m 27s\tremaining: 11m 43s\n",
      "802:\tlearn: 0.6240455\ttest: 0.6607132\tbest: 0.6604918 (576)\ttotal: 47m 31s\tremaining: 11m 39s\n",
      "803:\tlearn: 0.6239960\ttest: 0.6607104\tbest: 0.6604918 (576)\ttotal: 47m 35s\tremaining: 11m 36s\n",
      "804:\tlearn: 0.6239675\ttest: 0.6607147\tbest: 0.6604918 (576)\ttotal: 47m 39s\tremaining: 11m 32s\n",
      "805:\tlearn: 0.6239286\ttest: 0.6607119\tbest: 0.6604918 (576)\ttotal: 47m 43s\tremaining: 11m 29s\n",
      "806:\tlearn: 0.6238869\ttest: 0.6607175\tbest: 0.6604918 (576)\ttotal: 47m 47s\tremaining: 11m 25s\n",
      "807:\tlearn: 0.6238517\ttest: 0.6607175\tbest: 0.6604918 (576)\ttotal: 47m 51s\tremaining: 11m 22s\n",
      "808:\tlearn: 0.6238170\ttest: 0.6607197\tbest: 0.6604918 (576)\ttotal: 47m 55s\tremaining: 11m 19s\n",
      "809:\tlearn: 0.6237825\ttest: 0.6607197\tbest: 0.6604918 (576)\ttotal: 48m\tremaining: 11m 15s\n",
      "810:\tlearn: 0.6237340\ttest: 0.6607204\tbest: 0.6604918 (576)\ttotal: 48m 4s\tremaining: 11m 12s\n",
      "811:\tlearn: 0.6236959\ttest: 0.6607142\tbest: 0.6604918 (576)\ttotal: 48m 8s\tremaining: 11m 8s\n",
      "812:\tlearn: 0.6236540\ttest: 0.6607127\tbest: 0.6604918 (576)\ttotal: 48m 12s\tremaining: 11m 5s\n",
      "813:\tlearn: 0.6236191\ttest: 0.6607123\tbest: 0.6604918 (576)\ttotal: 48m 16s\tremaining: 11m 1s\n",
      "814:\tlearn: 0.6235579\ttest: 0.6606907\tbest: 0.6604918 (576)\ttotal: 48m 21s\tremaining: 10m 58s\n",
      "815:\tlearn: 0.6235274\ttest: 0.6606917\tbest: 0.6604918 (576)\ttotal: 48m 25s\tremaining: 10m 55s\n",
      "816:\tlearn: 0.6234873\ttest: 0.6606903\tbest: 0.6604918 (576)\ttotal: 48m 30s\tremaining: 10m 51s\n",
      "817:\tlearn: 0.6234494\ttest: 0.6606886\tbest: 0.6604918 (576)\ttotal: 48m 34s\tremaining: 10m 48s\n",
      "818:\tlearn: 0.6233954\ttest: 0.6606985\tbest: 0.6604918 (576)\ttotal: 48m 39s\tremaining: 10m 45s\n",
      "819:\tlearn: 0.6233588\ttest: 0.6607016\tbest: 0.6604918 (576)\ttotal: 48m 43s\tremaining: 10m 41s\n",
      "820:\tlearn: 0.6233200\ttest: 0.6607036\tbest: 0.6604918 (576)\ttotal: 48m 48s\tremaining: 10m 38s\n",
      "821:\tlearn: 0.6232735\ttest: 0.6607164\tbest: 0.6604918 (576)\ttotal: 48m 52s\tremaining: 10m 35s\n",
      "822:\tlearn: 0.6232353\ttest: 0.6607254\tbest: 0.6604918 (576)\ttotal: 48m 57s\tremaining: 10m 31s\n",
      "823:\tlearn: 0.6231924\ttest: 0.6607279\tbest: 0.6604918 (576)\ttotal: 49m 1s\tremaining: 10m 28s\n",
      "824:\tlearn: 0.6231392\ttest: 0.6607454\tbest: 0.6604918 (576)\ttotal: 49m 6s\tremaining: 10m 24s\n",
      "825:\tlearn: 0.6230928\ttest: 0.6607413\tbest: 0.6604918 (576)\ttotal: 49m 10s\tremaining: 10m 21s\n",
      "826:\tlearn: 0.6230591\ttest: 0.6607405\tbest: 0.6604918 (576)\ttotal: 49m 14s\tremaining: 10m 18s\n",
      "827:\tlearn: 0.6230189\ttest: 0.6607498\tbest: 0.6604918 (576)\ttotal: 49m 18s\tremaining: 10m 14s\n",
      "828:\tlearn: 0.6229857\ttest: 0.6607381\tbest: 0.6604918 (576)\ttotal: 49m 22s\tremaining: 10m 11s\n",
      "829:\tlearn: 0.6229555\ttest: 0.6607447\tbest: 0.6604918 (576)\ttotal: 49m 26s\tremaining: 10m 7s\n",
      "830:\tlearn: 0.6229207\ttest: 0.6607540\tbest: 0.6604918 (576)\ttotal: 49m 30s\tremaining: 10m 4s\n",
      "831:\tlearn: 0.6228843\ttest: 0.6607673\tbest: 0.6604918 (576)\ttotal: 49m 34s\tremaining: 10m\n",
      "832:\tlearn: 0.6228462\ttest: 0.6607580\tbest: 0.6604918 (576)\ttotal: 49m 39s\tremaining: 9m 57s\n",
      "833:\tlearn: 0.6228163\ttest: 0.6607626\tbest: 0.6604918 (576)\ttotal: 49m 43s\tremaining: 9m 53s\n",
      "834:\tlearn: 0.6227677\ttest: 0.6607632\tbest: 0.6604918 (576)\ttotal: 49m 47s\tremaining: 9m 50s\n",
      "835:\tlearn: 0.6227124\ttest: 0.6607562\tbest: 0.6604918 (576)\ttotal: 49m 51s\tremaining: 9m 46s\n",
      "836:\tlearn: 0.6226827\ttest: 0.6607539\tbest: 0.6604918 (576)\ttotal: 49m 54s\tremaining: 9m 43s\n",
      "837:\tlearn: 0.6226387\ttest: 0.6607475\tbest: 0.6604918 (576)\ttotal: 49m 58s\tremaining: 9m 39s\n",
      "838:\tlearn: 0.6226103\ttest: 0.6607372\tbest: 0.6604918 (576)\ttotal: 50m 2s\tremaining: 9m 36s\n",
      "839:\tlearn: 0.6225792\ttest: 0.6607404\tbest: 0.6604918 (576)\ttotal: 50m 6s\tremaining: 9m 32s\n",
      "840:\tlearn: 0.6225438\ttest: 0.6607338\tbest: 0.6604918 (576)\ttotal: 50m 10s\tremaining: 9m 29s\n",
      "841:\tlearn: 0.6225160\ttest: 0.6607347\tbest: 0.6604918 (576)\ttotal: 50m 14s\tremaining: 9m 25s\n",
      "842:\tlearn: 0.6224797\ttest: 0.6607269\tbest: 0.6604918 (576)\ttotal: 50m 18s\tremaining: 9m 22s\n",
      "843:\tlearn: 0.6224314\ttest: 0.6607293\tbest: 0.6604918 (576)\ttotal: 50m 21s\tremaining: 9m 18s\n",
      "844:\tlearn: 0.6223970\ttest: 0.6607165\tbest: 0.6604918 (576)\ttotal: 50m 25s\tremaining: 9m 15s\n",
      "845:\tlearn: 0.6223490\ttest: 0.6607151\tbest: 0.6604918 (576)\ttotal: 50m 30s\tremaining: 9m 11s\n",
      "846:\tlearn: 0.6223110\ttest: 0.6607268\tbest: 0.6604918 (576)\ttotal: 50m 34s\tremaining: 9m 8s\n",
      "847:\tlearn: 0.6222686\ttest: 0.6607174\tbest: 0.6604918 (576)\ttotal: 50m 38s\tremaining: 9m 4s\n",
      "848:\tlearn: 0.6222396\ttest: 0.6607066\tbest: 0.6604918 (576)\ttotal: 50m 42s\tremaining: 9m 1s\n",
      "849:\tlearn: 0.6222047\ttest: 0.6607044\tbest: 0.6604918 (576)\ttotal: 50m 46s\tremaining: 8m 57s\n",
      "850:\tlearn: 0.6221589\ttest: 0.6606958\tbest: 0.6604918 (576)\ttotal: 50m 50s\tremaining: 8m 54s\n",
      "851:\tlearn: 0.6221104\ttest: 0.6606972\tbest: 0.6604918 (576)\ttotal: 50m 54s\tremaining: 8m 50s\n",
      "852:\tlearn: 0.6220584\ttest: 0.6606902\tbest: 0.6604918 (576)\ttotal: 50m 59s\tremaining: 8m 47s\n",
      "853:\tlearn: 0.6220255\ttest: 0.6606904\tbest: 0.6604918 (576)\ttotal: 51m 3s\tremaining: 8m 43s\n",
      "854:\tlearn: 0.6219889\ttest: 0.6606882\tbest: 0.6604918 (576)\ttotal: 51m 7s\tremaining: 8m 40s\n",
      "855:\tlearn: 0.6219523\ttest: 0.6606862\tbest: 0.6604918 (576)\ttotal: 51m 12s\tremaining: 8m 36s\n",
      "856:\tlearn: 0.6219142\ttest: 0.6606822\tbest: 0.6604918 (576)\ttotal: 51m 16s\tremaining: 8m 33s\n",
      "857:\tlearn: 0.6218638\ttest: 0.6606895\tbest: 0.6604918 (576)\ttotal: 51m 21s\tremaining: 8m 29s\n",
      "858:\tlearn: 0.6218273\ttest: 0.6606980\tbest: 0.6604918 (576)\ttotal: 51m 25s\tremaining: 8m 26s\n",
      "859:\tlearn: 0.6217739\ttest: 0.6606974\tbest: 0.6604918 (576)\ttotal: 51m 30s\tremaining: 8m 23s\n",
      "860:\tlearn: 0.6217394\ttest: 0.6606909\tbest: 0.6604918 (576)\ttotal: 51m 34s\tremaining: 8m 19s\n",
      "861:\tlearn: 0.6216942\ttest: 0.6607043\tbest: 0.6604918 (576)\ttotal: 51m 39s\tremaining: 8m 16s\n",
      "862:\tlearn: 0.6216507\ttest: 0.6607002\tbest: 0.6604918 (576)\ttotal: 51m 43s\tremaining: 8m 12s\n",
      "863:\tlearn: 0.6216094\ttest: 0.6607016\tbest: 0.6604918 (576)\ttotal: 51m 47s\tremaining: 8m 9s\n",
      "864:\tlearn: 0.6215723\ttest: 0.6606962\tbest: 0.6604918 (576)\ttotal: 51m 51s\tremaining: 8m 5s\n",
      "865:\tlearn: 0.6215208\ttest: 0.6606805\tbest: 0.6604918 (576)\ttotal: 51m 56s\tremaining: 8m 2s\n",
      "866:\tlearn: 0.6214902\ttest: 0.6606771\tbest: 0.6604918 (576)\ttotal: 52m\tremaining: 7m 58s\n",
      "867:\tlearn: 0.6214541\ttest: 0.6606727\tbest: 0.6604918 (576)\ttotal: 52m 4s\tremaining: 7m 55s\n",
      "868:\tlearn: 0.6214216\ttest: 0.6606718\tbest: 0.6604918 (576)\ttotal: 52m 8s\tremaining: 7m 51s\n",
      "869:\tlearn: 0.6213745\ttest: 0.6606690\tbest: 0.6604918 (576)\ttotal: 52m 12s\tremaining: 7m 48s\n",
      "870:\tlearn: 0.6213444\ttest: 0.6606719\tbest: 0.6604918 (576)\ttotal: 52m 16s\tremaining: 7m 44s\n",
      "871:\tlearn: 0.6213019\ttest: 0.6606697\tbest: 0.6604918 (576)\ttotal: 52m 21s\tremaining: 7m 41s\n",
      "872:\tlearn: 0.6212688\ttest: 0.6606732\tbest: 0.6604918 (576)\ttotal: 52m 24s\tremaining: 7m 37s\n",
      "873:\tlearn: 0.6212344\ttest: 0.6606782\tbest: 0.6604918 (576)\ttotal: 52m 29s\tremaining: 7m 34s\n",
      "874:\tlearn: 0.6212020\ttest: 0.6606726\tbest: 0.6604918 (576)\ttotal: 52m 33s\tremaining: 7m 30s\n",
      "875:\tlearn: 0.6211673\ttest: 0.6606831\tbest: 0.6604918 (576)\ttotal: 52m 36s\tremaining: 7m 26s\n",
      "876:\tlearn: 0.6211242\ttest: 0.6607006\tbest: 0.6604918 (576)\ttotal: 52m 40s\tremaining: 7m 23s\n",
      "877:\tlearn: 0.6210922\ttest: 0.6607041\tbest: 0.6604918 (576)\ttotal: 52m 44s\tremaining: 7m 19s\n",
      "878:\tlearn: 0.6210572\ttest: 0.6607146\tbest: 0.6604918 (576)\ttotal: 52m 48s\tremaining: 7m 16s\n",
      "879:\tlearn: 0.6210132\ttest: 0.6607165\tbest: 0.6604918 (576)\ttotal: 52m 52s\tremaining: 7m 12s\n",
      "880:\tlearn: 0.6209684\ttest: 0.6607274\tbest: 0.6604918 (576)\ttotal: 52m 56s\tremaining: 7m 9s\n",
      "881:\tlearn: 0.6209290\ttest: 0.6607292\tbest: 0.6604918 (576)\ttotal: 53m\tremaining: 7m 5s\n",
      "882:\tlearn: 0.6208834\ttest: 0.6607267\tbest: 0.6604918 (576)\ttotal: 53m 4s\tremaining: 7m 1s\n",
      "883:\tlearn: 0.6208468\ttest: 0.6607214\tbest: 0.6604918 (576)\ttotal: 53m 8s\tremaining: 6m 58s\n",
      "884:\tlearn: 0.6208124\ttest: 0.6607176\tbest: 0.6604918 (576)\ttotal: 53m 12s\tremaining: 6m 54s\n",
      "885:\tlearn: 0.6207792\ttest: 0.6607219\tbest: 0.6604918 (576)\ttotal: 53m 16s\tremaining: 6m 51s\n",
      "886:\tlearn: 0.6207295\ttest: 0.6607159\tbest: 0.6604918 (576)\ttotal: 53m 21s\tremaining: 6m 47s\n",
      "887:\tlearn: 0.6206990\ttest: 0.6607163\tbest: 0.6604918 (576)\ttotal: 53m 25s\tremaining: 6m 44s\n",
      "888:\tlearn: 0.6206616\ttest: 0.6607249\tbest: 0.6604918 (576)\ttotal: 53m 29s\tremaining: 6m 40s\n",
      "889:\tlearn: 0.6206234\ttest: 0.6607257\tbest: 0.6604918 (576)\ttotal: 53m 33s\tremaining: 6m 37s\n",
      "890:\tlearn: 0.6205868\ttest: 0.6607300\tbest: 0.6604918 (576)\ttotal: 53m 37s\tremaining: 6m 33s\n",
      "891:\tlearn: 0.6205649\ttest: 0.6607321\tbest: 0.6604918 (576)\ttotal: 53m 41s\tremaining: 6m 30s\n",
      "892:\tlearn: 0.6205386\ttest: 0.6607342\tbest: 0.6604918 (576)\ttotal: 53m 45s\tremaining: 6m 26s\n",
      "893:\tlearn: 0.6205068\ttest: 0.6607401\tbest: 0.6604918 (576)\ttotal: 53m 50s\tremaining: 6m 23s\n",
      "894:\tlearn: 0.6204645\ttest: 0.6607331\tbest: 0.6604918 (576)\ttotal: 53m 54s\tremaining: 6m 19s\n",
      "895:\tlearn: 0.6204277\ttest: 0.6607400\tbest: 0.6604918 (576)\ttotal: 53m 59s\tremaining: 6m 15s\n",
      "896:\tlearn: 0.6203950\ttest: 0.6607419\tbest: 0.6604918 (576)\ttotal: 54m 3s\tremaining: 6m 12s\n",
      "897:\tlearn: 0.6203473\ttest: 0.6607474\tbest: 0.6604918 (576)\ttotal: 54m 8s\tremaining: 6m 8s\n",
      "898:\tlearn: 0.6203114\ttest: 0.6607515\tbest: 0.6604918 (576)\ttotal: 54m 13s\tremaining: 6m 5s\n",
      "899:\tlearn: 0.6202521\ttest: 0.6607519\tbest: 0.6604918 (576)\ttotal: 54m 18s\tremaining: 6m 2s\n",
      "900:\tlearn: 0.6202061\ttest: 0.6607529\tbest: 0.6604918 (576)\ttotal: 54m 22s\tremaining: 5m 58s\n",
      "901:\tlearn: 0.6201738\ttest: 0.6607560\tbest: 0.6604918 (576)\ttotal: 54m 27s\tremaining: 5m 54s\n",
      "902:\tlearn: 0.6201323\ttest: 0.6607618\tbest: 0.6604918 (576)\ttotal: 54m 31s\tremaining: 5m 51s\n",
      "903:\tlearn: 0.6200913\ttest: 0.6607558\tbest: 0.6604918 (576)\ttotal: 54m 35s\tremaining: 5m 47s\n",
      "904:\tlearn: 0.6200651\ttest: 0.6607588\tbest: 0.6604918 (576)\ttotal: 54m 40s\tremaining: 5m 44s\n",
      "905:\tlearn: 0.6200302\ttest: 0.6607546\tbest: 0.6604918 (576)\ttotal: 54m 44s\tremaining: 5m 40s\n",
      "906:\tlearn: 0.6200022\ttest: 0.6607516\tbest: 0.6604918 (576)\ttotal: 54m 51s\tremaining: 5m 37s\n",
      "907:\tlearn: 0.6199659\ttest: 0.6607474\tbest: 0.6604918 (576)\ttotal: 54m 58s\tremaining: 5m 34s\n",
      "908:\tlearn: 0.6199156\ttest: 0.6607462\tbest: 0.6604918 (576)\ttotal: 55m 3s\tremaining: 5m 30s\n",
      "909:\tlearn: 0.6198901\ttest: 0.6607472\tbest: 0.6604918 (576)\ttotal: 55m 8s\tremaining: 5m 27s\n",
      "910:\tlearn: 0.6198555\ttest: 0.6607606\tbest: 0.6604918 (576)\ttotal: 55m 12s\tremaining: 5m 23s\n",
      "911:\tlearn: 0.6198299\ttest: 0.6607602\tbest: 0.6604918 (576)\ttotal: 55m 17s\tremaining: 5m 20s\n",
      "912:\tlearn: 0.6197978\ttest: 0.6607585\tbest: 0.6604918 (576)\ttotal: 55m 21s\tremaining: 5m 16s\n",
      "913:\tlearn: 0.6197607\ttest: 0.6607551\tbest: 0.6604918 (576)\ttotal: 55m 25s\tremaining: 5m 12s\n",
      "914:\tlearn: 0.6197181\ttest: 0.6607557\tbest: 0.6604918 (576)\ttotal: 55m 30s\tremaining: 5m 9s\n",
      "915:\tlearn: 0.6196843\ttest: 0.6607569\tbest: 0.6604918 (576)\ttotal: 55m 34s\tremaining: 5m 5s\n",
      "916:\tlearn: 0.6196492\ttest: 0.6607555\tbest: 0.6604918 (576)\ttotal: 55m 41s\tremaining: 5m 2s\n",
      "917:\tlearn: 0.6196003\ttest: 0.6607635\tbest: 0.6604918 (576)\ttotal: 55m 49s\tremaining: 4m 59s\n",
      "918:\tlearn: 0.6195731\ttest: 0.6607633\tbest: 0.6604918 (576)\ttotal: 55m 55s\tremaining: 4m 55s\n",
      "919:\tlearn: 0.6195365\ttest: 0.6607704\tbest: 0.6604918 (576)\ttotal: 56m 2s\tremaining: 4m 52s\n",
      "920:\tlearn: 0.6195033\ttest: 0.6607754\tbest: 0.6604918 (576)\ttotal: 56m 8s\tremaining: 4m 48s\n",
      "921:\tlearn: 0.6194760\ttest: 0.6607798\tbest: 0.6604918 (576)\ttotal: 56m 14s\tremaining: 4m 45s\n",
      "922:\tlearn: 0.6194364\ttest: 0.6607810\tbest: 0.6604918 (576)\ttotal: 56m 22s\tremaining: 4m 42s\n",
      "923:\tlearn: 0.6193981\ttest: 0.6607670\tbest: 0.6604918 (576)\ttotal: 56m 28s\tremaining: 4m 38s\n",
      "924:\tlearn: 0.6193552\ttest: 0.6607650\tbest: 0.6604918 (576)\ttotal: 56m 35s\tremaining: 4m 35s\n",
      "925:\tlearn: 0.6193309\ttest: 0.6607674\tbest: 0.6604918 (576)\ttotal: 56m 42s\tremaining: 4m 31s\n",
      "926:\tlearn: 0.6192828\ttest: 0.6607738\tbest: 0.6604918 (576)\ttotal: 56m 48s\tremaining: 4m 28s\n",
      "927:\tlearn: 0.6192606\ttest: 0.6607709\tbest: 0.6604918 (576)\ttotal: 56m 53s\tremaining: 4m 24s\n",
      "928:\tlearn: 0.6192244\ttest: 0.6607731\tbest: 0.6604918 (576)\ttotal: 56m 58s\tremaining: 4m 21s\n",
      "929:\tlearn: 0.6191691\ttest: 0.6607809\tbest: 0.6604918 (576)\ttotal: 57m 3s\tremaining: 4m 17s\n",
      "930:\tlearn: 0.6191293\ttest: 0.6607882\tbest: 0.6604918 (576)\ttotal: 57m 8s\tremaining: 4m 14s\n",
      "931:\tlearn: 0.6190909\ttest: 0.6607886\tbest: 0.6604918 (576)\ttotal: 57m 13s\tremaining: 4m 10s\n",
      "932:\tlearn: 0.6190553\ttest: 0.6607957\tbest: 0.6604918 (576)\ttotal: 57m 18s\tremaining: 4m 6s\n",
      "933:\tlearn: 0.6190183\ttest: 0.6607918\tbest: 0.6604918 (576)\ttotal: 57m 24s\tremaining: 4m 3s\n",
      "934:\tlearn: 0.6189868\ttest: 0.6607902\tbest: 0.6604918 (576)\ttotal: 57m 29s\tremaining: 3m 59s\n",
      "935:\tlearn: 0.6189423\ttest: 0.6607964\tbest: 0.6604918 (576)\ttotal: 57m 33s\tremaining: 3m 56s\n",
      "936:\tlearn: 0.6188943\ttest: 0.6607995\tbest: 0.6604918 (576)\ttotal: 57m 38s\tremaining: 3m 52s\n",
      "937:\tlearn: 0.6188586\ttest: 0.6608098\tbest: 0.6604918 (576)\ttotal: 57m 42s\tremaining: 3m 48s\n",
      "938:\tlearn: 0.6188129\ttest: 0.6607959\tbest: 0.6604918 (576)\ttotal: 57m 46s\tremaining: 3m 45s\n",
      "939:\tlearn: 0.6187657\ttest: 0.6607924\tbest: 0.6604918 (576)\ttotal: 57m 51s\tremaining: 3m 41s\n",
      "940:\tlearn: 0.6187292\ttest: 0.6608001\tbest: 0.6604918 (576)\ttotal: 57m 55s\tremaining: 3m 37s\n",
      "941:\tlearn: 0.6186967\ttest: 0.6608000\tbest: 0.6604918 (576)\ttotal: 57m 59s\tremaining: 3m 34s\n",
      "942:\tlearn: 0.6186579\ttest: 0.6608128\tbest: 0.6604918 (576)\ttotal: 58m 4s\tremaining: 3m 30s\n",
      "943:\tlearn: 0.6186279\ttest: 0.6608222\tbest: 0.6604918 (576)\ttotal: 58m 8s\tremaining: 3m 26s\n",
      "944:\tlearn: 0.6185861\ttest: 0.6608180\tbest: 0.6604918 (576)\ttotal: 58m 12s\tremaining: 3m 23s\n",
      "945:\tlearn: 0.6185632\ttest: 0.6608097\tbest: 0.6604918 (576)\ttotal: 58m 16s\tremaining: 3m 19s\n",
      "946:\tlearn: 0.6185181\ttest: 0.6608117\tbest: 0.6604918 (576)\ttotal: 58m 20s\tremaining: 3m 15s\n",
      "947:\tlearn: 0.6184673\ttest: 0.6608106\tbest: 0.6604918 (576)\ttotal: 58m 25s\tremaining: 3m 12s\n",
      "948:\tlearn: 0.6184323\ttest: 0.6608060\tbest: 0.6604918 (576)\ttotal: 58m 29s\tremaining: 3m 8s\n",
      "949:\tlearn: 0.6183958\ttest: 0.6607991\tbest: 0.6604918 (576)\ttotal: 58m 33s\tremaining: 3m 4s\n",
      "950:\tlearn: 0.6183679\ttest: 0.6607969\tbest: 0.6604918 (576)\ttotal: 58m 37s\tremaining: 3m 1s\n",
      "951:\tlearn: 0.6183197\ttest: 0.6607943\tbest: 0.6604918 (576)\ttotal: 58m 41s\tremaining: 2m 57s\n",
      "952:\tlearn: 0.6182802\ttest: 0.6607981\tbest: 0.6604918 (576)\ttotal: 58m 45s\tremaining: 2m 53s\n",
      "953:\tlearn: 0.6182410\ttest: 0.6607954\tbest: 0.6604918 (576)\ttotal: 58m 50s\tremaining: 2m 50s\n",
      "954:\tlearn: 0.6181992\ttest: 0.6608015\tbest: 0.6604918 (576)\ttotal: 58m 54s\tremaining: 2m 46s\n",
      "955:\tlearn: 0.6181575\ttest: 0.6607907\tbest: 0.6604918 (576)\ttotal: 58m 57s\tremaining: 2m 42s\n",
      "956:\tlearn: 0.6181242\ttest: 0.6607929\tbest: 0.6604918 (576)\ttotal: 59m 1s\tremaining: 2m 39s\n",
      "957:\tlearn: 0.6180894\ttest: 0.6608071\tbest: 0.6604918 (576)\ttotal: 59m 5s\tremaining: 2m 35s\n",
      "958:\tlearn: 0.6180588\ttest: 0.6608131\tbest: 0.6604918 (576)\ttotal: 59m 9s\tremaining: 2m 31s\n",
      "959:\tlearn: 0.6180058\ttest: 0.6608228\tbest: 0.6604918 (576)\ttotal: 59m 13s\tremaining: 2m 28s\n",
      "960:\tlearn: 0.6179709\ttest: 0.6608318\tbest: 0.6604918 (576)\ttotal: 59m 17s\tremaining: 2m 24s\n",
      "961:\tlearn: 0.6179385\ttest: 0.6608366\tbest: 0.6604918 (576)\ttotal: 59m 21s\tremaining: 2m 20s\n",
      "962:\tlearn: 0.6179096\ttest: 0.6608335\tbest: 0.6604918 (576)\ttotal: 59m 24s\tremaining: 2m 16s\n",
      "963:\tlearn: 0.6178753\ttest: 0.6608313\tbest: 0.6604918 (576)\ttotal: 59m 28s\tremaining: 2m 13s\n",
      "964:\tlearn: 0.6178290\ttest: 0.6608299\tbest: 0.6604918 (576)\ttotal: 59m 32s\tremaining: 2m 9s\n",
      "965:\tlearn: 0.6177985\ttest: 0.6608301\tbest: 0.6604918 (576)\ttotal: 59m 36s\tremaining: 2m 5s\n",
      "966:\tlearn: 0.6177459\ttest: 0.6608369\tbest: 0.6604918 (576)\ttotal: 59m 40s\tremaining: 2m 2s\n",
      "967:\tlearn: 0.6177038\ttest: 0.6608492\tbest: 0.6604918 (576)\ttotal: 59m 44s\tremaining: 1m 58s\n",
      "968:\tlearn: 0.6176629\ttest: 0.6608575\tbest: 0.6604918 (576)\ttotal: 59m 48s\tremaining: 1m 54s\n",
      "969:\tlearn: 0.6176315\ttest: 0.6608666\tbest: 0.6604918 (576)\ttotal: 59m 53s\tremaining: 1m 51s\n",
      "970:\tlearn: 0.6175913\ttest: 0.6608677\tbest: 0.6604918 (576)\ttotal: 59m 58s\tremaining: 1m 47s\n",
      "971:\tlearn: 0.6175510\ttest: 0.6608624\tbest: 0.6604918 (576)\ttotal: 1h 3s\tremaining: 1m 43s\n",
      "972:\tlearn: 0.6175127\ttest: 0.6608726\tbest: 0.6604918 (576)\ttotal: 1h 7s\tremaining: 1m 40s\n",
      "973:\tlearn: 0.6174843\ttest: 0.6608779\tbest: 0.6604918 (576)\ttotal: 1h 12s\tremaining: 1m 36s\n",
      "974:\tlearn: 0.6174330\ttest: 0.6608832\tbest: 0.6604918 (576)\ttotal: 1h 16s\tremaining: 1m 32s\n",
      "975:\tlearn: 0.6173900\ttest: 0.6608887\tbest: 0.6604918 (576)\ttotal: 1h 20s\tremaining: 1m 29s\n",
      "976:\tlearn: 0.6173460\ttest: 0.6608899\tbest: 0.6604918 (576)\ttotal: 1h 25s\tremaining: 1m 25s\n",
      "977:\tlearn: 0.6173162\ttest: 0.6608917\tbest: 0.6604918 (576)\ttotal: 1h 29s\tremaining: 1m 21s\n",
      "978:\tlearn: 0.6172814\ttest: 0.6609038\tbest: 0.6604918 (576)\ttotal: 1h 34s\tremaining: 1m 17s\n",
      "979:\tlearn: 0.6172502\ttest: 0.6608993\tbest: 0.6604918 (576)\ttotal: 1h 38s\tremaining: 1m 14s\n",
      "980:\tlearn: 0.6172140\ttest: 0.6608935\tbest: 0.6604918 (576)\ttotal: 1h 43s\tremaining: 1m 10s\n",
      "981:\tlearn: 0.6171693\ttest: 0.6608960\tbest: 0.6604918 (576)\ttotal: 1h 48s\tremaining: 1m 6s\n",
      "982:\tlearn: 0.6171294\ttest: 0.6609011\tbest: 0.6604918 (576)\ttotal: 1h 53s\tremaining: 1m 3s\n",
      "983:\tlearn: 0.6171006\ttest: 0.6609042\tbest: 0.6604918 (576)\ttotal: 1h 58s\tremaining: 59.5s\n",
      "984:\tlearn: 0.6170651\ttest: 0.6609039\tbest: 0.6604918 (576)\ttotal: 1h 1m 3s\tremaining: 55.8s\n",
      "985:\tlearn: 0.6170272\ttest: 0.6609099\tbest: 0.6604918 (576)\ttotal: 1h 1m 7s\tremaining: 52.1s\n",
      "986:\tlearn: 0.6169857\ttest: 0.6609182\tbest: 0.6604918 (576)\ttotal: 1h 1m 12s\tremaining: 48.4s\n",
      "987:\tlearn: 0.6169643\ttest: 0.6609189\tbest: 0.6604918 (576)\ttotal: 1h 1m 16s\tremaining: 44.7s\n",
      "988:\tlearn: 0.6169247\ttest: 0.6609192\tbest: 0.6604918 (576)\ttotal: 1h 1m 20s\tremaining: 40.9s\n",
      "989:\tlearn: 0.6168840\ttest: 0.6609198\tbest: 0.6604918 (576)\ttotal: 1h 1m 24s\tremaining: 37.2s\n",
      "990:\tlearn: 0.6168484\ttest: 0.6609231\tbest: 0.6604918 (576)\ttotal: 1h 1m 28s\tremaining: 33.5s\n",
      "991:\tlearn: 0.6168109\ttest: 0.6609204\tbest: 0.6604918 (576)\ttotal: 1h 1m 33s\tremaining: 29.8s\n",
      "992:\tlearn: 0.6167663\ttest: 0.6609244\tbest: 0.6604918 (576)\ttotal: 1h 1m 37s\tremaining: 26.1s\n",
      "993:\tlearn: 0.6167424\ttest: 0.6609187\tbest: 0.6604918 (576)\ttotal: 1h 1m 41s\tremaining: 22.3s\n",
      "994:\tlearn: 0.6167100\ttest: 0.6609273\tbest: 0.6604918 (576)\ttotal: 1h 1m 45s\tremaining: 18.6s\n",
      "995:\tlearn: 0.6166699\ttest: 0.6609227\tbest: 0.6604918 (576)\ttotal: 1h 1m 48s\tremaining: 14.9s\n",
      "996:\tlearn: 0.6166340\ttest: 0.6609203\tbest: 0.6604918 (576)\ttotal: 1h 1m 52s\tremaining: 11.2s\n",
      "997:\tlearn: 0.6166064\ttest: 0.6609293\tbest: 0.6604918 (576)\ttotal: 1h 1m 56s\tremaining: 7.45s\n",
      "998:\tlearn: 0.6165706\ttest: 0.6609185\tbest: 0.6604918 (576)\ttotal: 1h 1m 59s\tremaining: 3.72s\n",
      "999:\tlearn: 0.6165236\ttest: 0.6609228\tbest: 0.6604918 (576)\ttotal: 1h 2m 3s\tremaining: 0us\n"
     ]
    }
   ],
   "source": [
    "# CatBoost Cross Validation\n",
    "start_time = time.time()\n",
    "\n",
    "# Set the parameters for cross validation as same as the initial model\n",
    "cv_param = catboost_model.get_params()\n",
    "\n",
    "# Run 10-Folds CV\n",
    "cv_data = cv(train_pool, cv_param, fold_count= 10, plot= False)\n",
    "\n",
    "# How long does it take?\n",
    "catboost_time = (time.time()- start_time)\n",
    "\n",
    "# CatBoost results get saved into a dataframe,the maximum accuracy score is\n",
    "catboost_acc_cv = round(np.max(cv_data['test-Accuracy-mean'])*100, 2)"
   ]
  },
  {
   "cell_type": "code",
   "execution_count": 34,
   "metadata": {},
   "outputs": [
    {
     "output_type": "stream",
     "name": "stdout",
     "text": [
      "Accuracy of the model is:  62.58\nAccuracy of 10-Fold CV is:  60.61\nRunning time is:  1:01:46.314972\n"
     ]
    }
   ],
   "source": [
    "# CatBoost Algorithm\n",
    "print('Accuracy of the model is: ', catboost_acc)\n",
    "print('Accuracy of 10-Fold CV is: ', catboost_acc_cv)\n",
    "print('Running time is: ', datetime.timedelta(seconds= catboost_time))"
   ]
  },
  {
   "source": [
    "### Model Results\n",
    "\n",
    "Now let's see which model has the best cross-validation accuracy.\n",
    "\n",
    "- <b>NOTE:</b> We care more about the accuracy of cross validation, as the metrics we get from the model can randomly score higher than usual."
   ],
   "cell_type": "markdown",
   "metadata": {}
  },
  {
   "cell_type": "code",
   "execution_count": 35,
   "metadata": {},
   "outputs": [
    {
     "output_type": "stream",
     "name": "stdout",
     "text": [
      "-----Cross-Validation Accuracy Scores-----\n"
     ]
    },
    {
     "output_type": "execute_result",
     "data": {
      "text/plain": [
       "                                  Model  Score\n",
       "7                    CatBoost Algorithm  60.61\n",
       "6                  Gradient Boost Trees  60.58\n",
       "0                   Logistic Regression  60.13\n",
       "2                  Gaussian Naive Bayes  58.13\n",
       "1                  K-Nearest Neighbours  55.60\n",
       "5              Decision Tree Classifier  53.54\n",
       "4           Stochastic Gradient Descent  51.77\n",
       "3  Linear Support Vector Machines (SVC)  50.40"
      ],
      "text/html": "<div>\n<style scoped>\n    .dataframe tbody tr th:only-of-type {\n        vertical-align: middle;\n    }\n\n    .dataframe tbody tr th {\n        vertical-align: top;\n    }\n\n    .dataframe thead th {\n        text-align: right;\n    }\n</style>\n<table border=\"1\" class=\"dataframe\">\n  <thead>\n    <tr style=\"text-align: right;\">\n      <th></th>\n      <th>Model</th>\n      <th>Score</th>\n    </tr>\n  </thead>\n  <tbody>\n    <tr>\n      <th>7</th>\n      <td>CatBoost Algorithm</td>\n      <td>60.61</td>\n    </tr>\n    <tr>\n      <th>6</th>\n      <td>Gradient Boost Trees</td>\n      <td>60.58</td>\n    </tr>\n    <tr>\n      <th>0</th>\n      <td>Logistic Regression</td>\n      <td>60.13</td>\n    </tr>\n    <tr>\n      <th>2</th>\n      <td>Gaussian Naive Bayes</td>\n      <td>58.13</td>\n    </tr>\n    <tr>\n      <th>1</th>\n      <td>K-Nearest Neighbours</td>\n      <td>55.60</td>\n    </tr>\n    <tr>\n      <th>5</th>\n      <td>Decision Tree Classifier</td>\n      <td>53.54</td>\n    </tr>\n    <tr>\n      <th>4</th>\n      <td>Stochastic Gradient Descent</td>\n      <td>51.77</td>\n    </tr>\n    <tr>\n      <th>3</th>\n      <td>Linear Support Vector Machines (SVC)</td>\n      <td>50.40</td>\n    </tr>\n  </tbody>\n</table>\n</div>"
     },
     "metadata": {},
     "execution_count": 35
    }
   ],
   "source": [
    "cv_models = pd.DataFrame({'Model':[' Logistic Regression', 'K-Nearest Neighbours', 'Gaussian Naive Bayes', \n",
    "                                'Linear Support Vector Machines (SVC)', 'Stochastic Gradient Descent', \n",
    "                                'Decision Tree Classifier', 'Gradient Boost Trees', 'CatBoost Algorithm'],\n",
    "                      'Score':[log_acc_cv, knn_acc_cv, gnb_acc_cv, svm_acc_cv, sgd_acc_cv, dtc_acc_cv,gbt_acc_cv,        \n",
    "                               catboost_acc_cv]})\n",
    "\n",
    "print('-----Cross-Validation Accuracy Scores-----')\n",
    "cv_models.nlargest(8,'Score')"
   ]
  },
  {
   "source": [
    "> We can see that CatBoost model have the best result. Since guessing would give us 50% accuracy (0 or 1), getting above 60% is good. It can also be seen that both Gradient Boost Trees and Logistic Regression are not far behind.\n",
    "\n",
    "- Cross Validation is more robust than the .fit() model as it does multiple passes over the data instead of one."
   ],
   "cell_type": "markdown",
   "metadata": {}
  },
  {
   "source": [
    "## 7. Precision and Recall\n",
    "\n",
    "Precision and Recall are metrics that you use when you have an imbalanced classification problem.\n",
    "\n",
    "- Recall - a metric which measures a models ability to find all relevant cases in a dataset.\n",
    "- Precision - a metric which measures a models ability to correctly identify only relevant cases.\n",
    "\n",
    "Combining  Precision and Recall gives us the **F1 score.**\n",
    "\n",
    "They fall between 0 and 1, with 1 being better."
   ],
   "cell_type": "markdown",
   "metadata": {}
  },
  {
   "cell_type": "code",
   "execution_count": 36,
   "metadata": {},
   "outputs": [
    {
     "output_type": "stream",
     "name": "stdout",
     "text": [
      "Precision: 0.60320244345282\nRecall: 0.1514155056759546\nF1: 0.2387951458908928\nAUC: 0.6282061031145783\n"
     ]
    }
   ],
   "source": [
    "# For CatBoost Model\n",
    "metrics = ['Precision', 'Recall', 'F1', 'AUC']\n",
    "\n",
    "eval_metrics = catboost_model.eval_metrics(train_pool, metrics= metrics, plot= False)\n",
    "\n",
    "for metric in metrics:\n",
    "    print(str(metric)+ ': {}' .format(np.mean(eval_metrics[metric])))"
   ]
  },
  {
   "source": [
    "> **Recall = TP/(TP + FN)**\n",
    "- Here the Recall is pretty low. This means that there is a higher amount of False Negatives (predicting 'Not Readmitted' when it is actually 'Readmitted').\n",
    "\n",
    "> **Pression = TP/(TP + FP)**\n",
    "- Precision is high. Thus, we can say say that there is less false positives (predicting 'Readmitted' when it is actually 'Not Readmitted')"
   ],
   "cell_type": "markdown",
   "metadata": {}
  },
  {
   "source": [
    "## 6. Prediction on the Test dataset\n",
    "\n",
    "Let's use the model with the highest cross-validation accuracy score to make a prediction on the test dataset.\n",
    "\n",
    "We want to make predictions on the same columnns our model is trained on.\n",
    "\n",
    "So we have to select the subset of right columns of the test dateframe, encode them and make a prediciton with our model."
   ],
   "cell_type": "markdown",
   "metadata": {}
  },
  {
   "cell_type": "code",
   "execution_count": 37,
   "metadata": {},
   "outputs": [
    {
     "output_type": "execute_result",
     "data": {
      "text/plain": [
       "       Race  Sex  Age  Time_in_Hospital  Procedures  Medications  Glu_result  \\\n",
       "3923      2    1    4                 0          75           19           2   \n",
       "5407      2    1    5                 0          39            8           2   \n",
       "23244     2    0    6                 0           0            4           2   \n",
       "3573      0    1    7                 0          34            7           2   \n",
       "10259     2    0    4                 0           7           14           2   \n",
       "\n",
       "       A1C_result  Change  Diabetes_Med  metformin  repaglinide  nateglinide  \\\n",
       "3923            0       0             1          1            1            1   \n",
       "5407            2       0             0          1            1            1   \n",
       "23244           2       0             0          1            1            1   \n",
       "3573            1       0             1          1            1            1   \n",
       "10259           2       1             1          1            1            1   \n",
       "\n",
       "       glimepiride  glyburide  pioglitazone  rosiglitazone  miglitol  insulin  \\\n",
       "3923             1          1             1              1         0        2   \n",
       "5407             1          1             1              1         0        1   \n",
       "23244            1          1             1              1         0        1   \n",
       "3573             1          2             1              1         0        1   \n",
       "10259            1          1             2              1         0        0   \n",
       "\n",
       "       glyburide-metformin  glipizide-metformin  metformin-pioglitazone  \n",
       "3923                     1                    0                       0  \n",
       "5407                     1                    0                       0  \n",
       "23244                    1                    0                       0  \n",
       "3573                     1                    0                       0  \n",
       "10259                    1                    0                       0  "
      ],
      "text/html": "<div>\n<style scoped>\n    .dataframe tbody tr th:only-of-type {\n        vertical-align: middle;\n    }\n\n    .dataframe tbody tr th {\n        vertical-align: top;\n    }\n\n    .dataframe thead th {\n        text-align: right;\n    }\n</style>\n<table border=\"1\" class=\"dataframe\">\n  <thead>\n    <tr style=\"text-align: right;\">\n      <th></th>\n      <th>Race</th>\n      <th>Sex</th>\n      <th>Age</th>\n      <th>Time_in_Hospital</th>\n      <th>Procedures</th>\n      <th>Medications</th>\n      <th>Glu_result</th>\n      <th>A1C_result</th>\n      <th>Change</th>\n      <th>Diabetes_Med</th>\n      <th>metformin</th>\n      <th>repaglinide</th>\n      <th>nateglinide</th>\n      <th>glimepiride</th>\n      <th>glyburide</th>\n      <th>pioglitazone</th>\n      <th>rosiglitazone</th>\n      <th>miglitol</th>\n      <th>insulin</th>\n      <th>glyburide-metformin</th>\n      <th>glipizide-metformin</th>\n      <th>metformin-pioglitazone</th>\n    </tr>\n  </thead>\n  <tbody>\n    <tr>\n      <th>3923</th>\n      <td>2</td>\n      <td>1</td>\n      <td>4</td>\n      <td>0</td>\n      <td>75</td>\n      <td>19</td>\n      <td>2</td>\n      <td>0</td>\n      <td>0</td>\n      <td>1</td>\n      <td>1</td>\n      <td>1</td>\n      <td>1</td>\n      <td>1</td>\n      <td>1</td>\n      <td>1</td>\n      <td>1</td>\n      <td>0</td>\n      <td>2</td>\n      <td>1</td>\n      <td>0</td>\n      <td>0</td>\n    </tr>\n    <tr>\n      <th>5407</th>\n      <td>2</td>\n      <td>1</td>\n      <td>5</td>\n      <td>0</td>\n      <td>39</td>\n      <td>8</td>\n      <td>2</td>\n      <td>2</td>\n      <td>0</td>\n      <td>0</td>\n      <td>1</td>\n      <td>1</td>\n      <td>1</td>\n      <td>1</td>\n      <td>1</td>\n      <td>1</td>\n      <td>1</td>\n      <td>0</td>\n      <td>1</td>\n      <td>1</td>\n      <td>0</td>\n      <td>0</td>\n    </tr>\n    <tr>\n      <th>23244</th>\n      <td>2</td>\n      <td>0</td>\n      <td>6</td>\n      <td>0</td>\n      <td>0</td>\n      <td>4</td>\n      <td>2</td>\n      <td>2</td>\n      <td>0</td>\n      <td>0</td>\n      <td>1</td>\n      <td>1</td>\n      <td>1</td>\n      <td>1</td>\n      <td>1</td>\n      <td>1</td>\n      <td>1</td>\n      <td>0</td>\n      <td>1</td>\n      <td>1</td>\n      <td>0</td>\n      <td>0</td>\n    </tr>\n    <tr>\n      <th>3573</th>\n      <td>0</td>\n      <td>1</td>\n      <td>7</td>\n      <td>0</td>\n      <td>34</td>\n      <td>7</td>\n      <td>2</td>\n      <td>1</td>\n      <td>0</td>\n      <td>1</td>\n      <td>1</td>\n      <td>1</td>\n      <td>1</td>\n      <td>1</td>\n      <td>2</td>\n      <td>1</td>\n      <td>1</td>\n      <td>0</td>\n      <td>1</td>\n      <td>1</td>\n      <td>0</td>\n      <td>0</td>\n    </tr>\n    <tr>\n      <th>10259</th>\n      <td>2</td>\n      <td>0</td>\n      <td>4</td>\n      <td>0</td>\n      <td>7</td>\n      <td>14</td>\n      <td>2</td>\n      <td>2</td>\n      <td>1</td>\n      <td>1</td>\n      <td>1</td>\n      <td>1</td>\n      <td>1</td>\n      <td>1</td>\n      <td>1</td>\n      <td>2</td>\n      <td>1</td>\n      <td>0</td>\n      <td>0</td>\n      <td>1</td>\n      <td>0</td>\n      <td>0</td>\n    </tr>\n  </tbody>\n</table>\n</div>"
     },
     "metadata": {},
     "execution_count": 37
    }
   ],
   "source": [
    "X_train.head()"
   ]
  },
  {
   "cell_type": "code",
   "execution_count": 38,
   "metadata": {},
   "outputs": [
    {
     "output_type": "execute_result",
     "data": {
      "text/plain": [
       "       Race  Sex  Age  Time_in_Hospital  Procedures  Medications  Glu_result  \\\n",
       "11283     2    1    3                 2          35           11           2   \n",
       "9081      2    1    7                 2          42           17           2   \n",
       "281       0    0    5                 4          65           27           2   \n",
       "22937     2    1    7                 2          56           19           2   \n",
       "3472      2    1    7                 2          63            5           2   \n",
       "\n",
       "       A1C_result  Change  Diabetes_Med  metformin  repaglinide  nateglinide  \\\n",
       "11283           2       0             1          1            1            1   \n",
       "9081            2       0             1          1            1            1   \n",
       "281             2       0             1          1            1            1   \n",
       "22937           1       1             1          2            1            1   \n",
       "3472            2       0             0          1            1            1   \n",
       "\n",
       "       glimepiride  glyburide  pioglitazone  rosiglitazone  miglitol  insulin  \\\n",
       "11283            1          1             1              1         0        2   \n",
       "9081             1          1             1              1         0        2   \n",
       "281              1          1             1              1         0        2   \n",
       "22937            1          1             1              1         0        2   \n",
       "3472             1          1             1              1         0        1   \n",
       "\n",
       "       glyburide-metformin  glipizide-metformin  metformin-pioglitazone  \\\n",
       "11283                    1                    0                       0   \n",
       "9081                     1                    0                       0   \n",
       "281                      1                    0                       0   \n",
       "22937                    1                    0                       0   \n",
       "3472                     1                    0                       0   \n",
       "\n",
       "              Pmo  \n",
       "11283  60817248.0  \n",
       "9081   24204024.0  \n",
       "281     8166528.0  \n",
       "22937  50630004.0  \n",
       "3472   79113843.0  "
      ],
      "text/html": "<div>\n<style scoped>\n    .dataframe tbody tr th:only-of-type {\n        vertical-align: middle;\n    }\n\n    .dataframe tbody tr th {\n        vertical-align: top;\n    }\n\n    .dataframe thead th {\n        text-align: right;\n    }\n</style>\n<table border=\"1\" class=\"dataframe\">\n  <thead>\n    <tr style=\"text-align: right;\">\n      <th></th>\n      <th>Race</th>\n      <th>Sex</th>\n      <th>Age</th>\n      <th>Time_in_Hospital</th>\n      <th>Procedures</th>\n      <th>Medications</th>\n      <th>Glu_result</th>\n      <th>A1C_result</th>\n      <th>Change</th>\n      <th>Diabetes_Med</th>\n      <th>metformin</th>\n      <th>repaglinide</th>\n      <th>nateglinide</th>\n      <th>glimepiride</th>\n      <th>glyburide</th>\n      <th>pioglitazone</th>\n      <th>rosiglitazone</th>\n      <th>miglitol</th>\n      <th>insulin</th>\n      <th>glyburide-metformin</th>\n      <th>glipizide-metformin</th>\n      <th>metformin-pioglitazone</th>\n      <th>Pmo</th>\n    </tr>\n  </thead>\n  <tbody>\n    <tr>\n      <th>11283</th>\n      <td>2</td>\n      <td>1</td>\n      <td>3</td>\n      <td>2</td>\n      <td>35</td>\n      <td>11</td>\n      <td>2</td>\n      <td>2</td>\n      <td>0</td>\n      <td>1</td>\n      <td>1</td>\n      <td>1</td>\n      <td>1</td>\n      <td>1</td>\n      <td>1</td>\n      <td>1</td>\n      <td>1</td>\n      <td>0</td>\n      <td>2</td>\n      <td>1</td>\n      <td>0</td>\n      <td>0</td>\n      <td>60817248.0</td>\n    </tr>\n    <tr>\n      <th>9081</th>\n      <td>2</td>\n      <td>1</td>\n      <td>7</td>\n      <td>2</td>\n      <td>42</td>\n      <td>17</td>\n      <td>2</td>\n      <td>2</td>\n      <td>0</td>\n      <td>1</td>\n      <td>1</td>\n      <td>1</td>\n      <td>1</td>\n      <td>1</td>\n      <td>1</td>\n      <td>1</td>\n      <td>1</td>\n      <td>0</td>\n      <td>2</td>\n      <td>1</td>\n      <td>0</td>\n      <td>0</td>\n      <td>24204024.0</td>\n    </tr>\n    <tr>\n      <th>281</th>\n      <td>0</td>\n      <td>0</td>\n      <td>5</td>\n      <td>4</td>\n      <td>65</td>\n      <td>27</td>\n      <td>2</td>\n      <td>2</td>\n      <td>0</td>\n      <td>1</td>\n      <td>1</td>\n      <td>1</td>\n      <td>1</td>\n      <td>1</td>\n      <td>1</td>\n      <td>1</td>\n      <td>1</td>\n      <td>0</td>\n      <td>2</td>\n      <td>1</td>\n      <td>0</td>\n      <td>0</td>\n      <td>8166528.0</td>\n    </tr>\n    <tr>\n      <th>22937</th>\n      <td>2</td>\n      <td>1</td>\n      <td>7</td>\n      <td>2</td>\n      <td>56</td>\n      <td>19</td>\n      <td>2</td>\n      <td>1</td>\n      <td>1</td>\n      <td>1</td>\n      <td>2</td>\n      <td>1</td>\n      <td>1</td>\n      <td>1</td>\n      <td>1</td>\n      <td>1</td>\n      <td>1</td>\n      <td>0</td>\n      <td>2</td>\n      <td>1</td>\n      <td>0</td>\n      <td>0</td>\n      <td>50630004.0</td>\n    </tr>\n    <tr>\n      <th>3472</th>\n      <td>2</td>\n      <td>1</td>\n      <td>7</td>\n      <td>2</td>\n      <td>63</td>\n      <td>5</td>\n      <td>2</td>\n      <td>2</td>\n      <td>0</td>\n      <td>0</td>\n      <td>1</td>\n      <td>1</td>\n      <td>1</td>\n      <td>1</td>\n      <td>1</td>\n      <td>1</td>\n      <td>1</td>\n      <td>0</td>\n      <td>1</td>\n      <td>1</td>\n      <td>0</td>\n      <td>0</td>\n      <td>79113843.0</td>\n    </tr>\n  </tbody>\n</table>\n</div>"
     },
     "metadata": {},
     "execution_count": 38
    }
   ],
   "source": [
    "X_test.head()"
   ]
  },
  {
   "cell_type": "code",
   "execution_count": 39,
   "metadata": {},
   "outputs": [
    {
     "output_type": "execute_result",
     "data": {
      "text/plain": [
       "Index(['Race', 'Sex', 'Age', 'Time_in_Hospital', 'Procedures', 'Medications',\n",
       "       'Glu_result', 'A1C_result', 'Change', 'Diabetes_Med', 'metformin',\n",
       "       'repaglinide', 'nateglinide', 'glimepiride', 'glyburide',\n",
       "       'pioglitazone', 'rosiglitazone', 'miglitol', 'insulin',\n",
       "       'glyburide-metformin', 'glipizide-metformin', 'metformin-pioglitazone'],\n",
       "      dtype='object')"
      ]
     },
     "metadata": {},
     "execution_count": 39
    }
   ],
   "source": [
    "# Create a list of columns to be used for predictions.\n",
    "wanted_columns = X_train.columns\n",
    "wanted_columns"
   ]
  },
  {
   "cell_type": "code",
   "execution_count": 40,
   "metadata": {},
   "outputs": [],
   "source": [
    "# Make predictions using CatBoost model on wanted columns.\n",
    "predictions = catboost_model.predict(X_test[wanted_columns].apply(LabelEncoder().fit_transform))"
   ]
  },
  {
   "cell_type": "code",
   "execution_count": 41,
   "metadata": {},
   "outputs": [
    {
     "output_type": "execute_result",
     "data": {
      "text/plain": [
       "array([0, 0, 0, 0, 0, 0, 0, 0, 0, 1, 0, 0, 0, 0, 0, 0, 0, 1, 0, 0],\n",
       "      dtype=int64)"
      ]
     },
     "metadata": {},
     "execution_count": 41
    }
   ],
   "source": [
    "# Our predictions array is comprised of 1's and 0's (Readmitted or Not Readmitted).\n",
    "predictions[:20]"
   ]
  },
  {
   "cell_type": "code",
   "execution_count": 42,
   "metadata": {},
   "outputs": [
    {
     "output_type": "execute_result",
     "data": {
      "text/plain": [
       "       Patient Number  Actual  Readmitted\n",
       "11283      60817248.0       0           0\n",
       "9081       24204024.0       0           0\n",
       "281         8166528.0       0           0\n",
       "22937      50630004.0       0           0\n",
       "3472       79113843.0       0           0\n",
       "13227      84554370.0       1           0\n",
       "17252      60108309.0       0           0\n",
       "20386      42052068.0       0           0\n",
       "95          1753524.0       0           0\n",
       "19894      43296480.0       0           1"
      ],
      "text/html": "<div>\n<style scoped>\n    .dataframe tbody tr th:only-of-type {\n        vertical-align: middle;\n    }\n\n    .dataframe tbody tr th {\n        vertical-align: top;\n    }\n\n    .dataframe thead th {\n        text-align: right;\n    }\n</style>\n<table border=\"1\" class=\"dataframe\">\n  <thead>\n    <tr style=\"text-align: right;\">\n      <th></th>\n      <th>Patient Number</th>\n      <th>Actual</th>\n      <th>Readmitted</th>\n    </tr>\n  </thead>\n  <tbody>\n    <tr>\n      <th>11283</th>\n      <td>60817248.0</td>\n      <td>0</td>\n      <td>0</td>\n    </tr>\n    <tr>\n      <th>9081</th>\n      <td>24204024.0</td>\n      <td>0</td>\n      <td>0</td>\n    </tr>\n    <tr>\n      <th>281</th>\n      <td>8166528.0</td>\n      <td>0</td>\n      <td>0</td>\n    </tr>\n    <tr>\n      <th>22937</th>\n      <td>50630004.0</td>\n      <td>0</td>\n      <td>0</td>\n    </tr>\n    <tr>\n      <th>3472</th>\n      <td>79113843.0</td>\n      <td>0</td>\n      <td>0</td>\n    </tr>\n    <tr>\n      <th>13227</th>\n      <td>84554370.0</td>\n      <td>1</td>\n      <td>0</td>\n    </tr>\n    <tr>\n      <th>17252</th>\n      <td>60108309.0</td>\n      <td>0</td>\n      <td>0</td>\n    </tr>\n    <tr>\n      <th>20386</th>\n      <td>42052068.0</td>\n      <td>0</td>\n      <td>0</td>\n    </tr>\n    <tr>\n      <th>95</th>\n      <td>1753524.0</td>\n      <td>0</td>\n      <td>0</td>\n    </tr>\n    <tr>\n      <th>19894</th>\n      <td>43296480.0</td>\n      <td>0</td>\n      <td>1</td>\n    </tr>\n  </tbody>\n</table>\n</div>"
     },
     "metadata": {},
     "execution_count": 42
    }
   ],
   "source": [
    "# Create a dataframe and append the relevant colimns.\n",
    "final = pd.DataFrame()\n",
    "final['Patient Number'] = X_test['Pmo']\n",
    "final['Actual'] = y_test\n",
    "final['Readmitted'] = predictions\n",
    "final.head(10)"
   ]
  },
  {
   "cell_type": "code",
   "execution_count": 43,
   "metadata": {},
   "outputs": [
    {
     "output_type": "stream",
     "name": "stdout",
     "text": [
      "Accuracy: 0.601\n"
     ]
    }
   ],
   "source": [
    "from sklearn.metrics import accuracy_score\n",
    "acc = accuracy_score(y_test, predictions)\n",
    "print('Accuracy: %.3f' % acc)"
   ]
  },
  {
   "source": [
    "- Since CatBoost Model has a higher test prediction accuracy, we will be choosing the results of this model."
   ],
   "cell_type": "markdown",
   "metadata": {}
  }
 ]
}